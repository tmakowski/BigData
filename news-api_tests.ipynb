{
 "cells": [
  {
   "cell_type": "code",
   "execution_count": 1,
   "metadata": {},
   "outputs": [],
   "source": [
    "from NewsAPI import NewsAPI\n",
    "\n",
    "with open(\"news-api_token.txt\", \"r\") as f:\n",
    "    api_key = f.readline().strip()"
   ]
  },
  {
   "cell_type": "code",
   "execution_count": 2,
   "metadata": {},
   "outputs": [],
   "source": [
    "api = NewsAPI(api_key)"
   ]
  },
  {
   "cell_type": "code",
   "execution_count": 3,
   "metadata": {},
   "outputs": [],
   "source": [
    "articles, urls = api.process(\"tesla\")"
   ]
  },
  {
   "cell_type": "code",
   "execution_count": 4,
   "metadata": {},
   "outputs": [
    {
     "data": {
      "text/plain": [
       "{'source': {'id': 'cnn', 'name': 'CNN'},\n",
       " 'author': 'Jackie Wattles, CNN Business',\n",
       " 'title': 'Elon Musk teases Tesla announcement',\n",
       " 'description': 'Elon Musk is teasing a Tesla announcement on Twitter, as regulators continue to scrutinize his use of the social media platform.',\n",
       " 'url': 'https://www.cnn.com/2019/02/28/tech/tesla-elon-musk-announcement/index.html',\n",
       " 'urlToImage': 'https://cdn.cnn.com/cnnnext/dam/assets/190228143105-03-elon-musk-lead-image-super-tease.jpg',\n",
       " 'publishedAt': '2019-02-28T20:01:43Z',\n",
       " 'content': None}"
      ]
     },
     "execution_count": 4,
     "metadata": {},
     "output_type": "execute_result"
    }
   ],
   "source": [
    "articles[0]"
   ]
  },
  {
   "cell_type": "code",
   "execution_count": 8,
   "metadata": {},
   "outputs": [
    {
     "data": {
      "text/plain": [
       "['abc-news',\n",
       " 'abc-news-au',\n",
       " 'al-jazeera-english',\n",
       " 'ars-technica',\n",
       " 'associated-press']"
      ]
     },
     "execution_count": 8,
     "metadata": {},
     "output_type": "execute_result"
    }
   ],
   "source": [
    "api.sources[:5]"
   ]
  },
  {
   "cell_type": "code",
   "execution_count": 11,
   "metadata": {},
   "outputs": [
    {
     "data": {
      "text/plain": [
       "['https://www.cnn.com/2019/02/28/tech/tesla-elon-musk-announcement/index.html',\n",
       " 'https://www.cnn.com/2019/03/01/tech/tesla-takeaways/index.html',\n",
       " 'https://www.cnn.com/2019/02/26/tech/elon-musk-sec-tweet/index.html',\n",
       " 'https://www.cnn.com/2019/02/25/tech/elon-musk-sec-settlement-contempt/index.html']"
      ]
     },
     "execution_count": 11,
     "metadata": {},
     "output_type": "execute_result"
    }
   ],
   "source": [
    "urls[\"cnn\"]"
   ]
  },
  {
   "cell_type": "code",
   "execution_count": 9,
   "metadata": {},
   "outputs": [
    {
     "data": {
      "text/html": [
       "<div>\n",
       "<style scoped>\n",
       "    .dataframe tbody tr th:only-of-type {\n",
       "        vertical-align: middle;\n",
       "    }\n",
       "\n",
       "    .dataframe tbody tr th {\n",
       "        vertical-align: top;\n",
       "    }\n",
       "\n",
       "    .dataframe thead th {\n",
       "        text-align: right;\n",
       "    }\n",
       "</style>\n",
       "<table border=\"1\" class=\"dataframe\">\n",
       "  <thead>\n",
       "    <tr style=\"text-align: right;\">\n",
       "      <th></th>\n",
       "      <th>id</th>\n",
       "      <th>url</th>\n",
       "    </tr>\n",
       "  </thead>\n",
       "  <tbody>\n",
       "    <tr>\n",
       "      <th>0</th>\n",
       "      <td>abc-news</td>\n",
       "      <td>https://abcnews.go.com</td>\n",
       "    </tr>\n",
       "    <tr>\n",
       "      <th>1</th>\n",
       "      <td>abc-news-au</td>\n",
       "      <td>http://www.abc.net.au/news</td>\n",
       "    </tr>\n",
       "    <tr>\n",
       "      <th>2</th>\n",
       "      <td>al-jazeera-english</td>\n",
       "      <td>http://www.aljazeera.com</td>\n",
       "    </tr>\n",
       "    <tr>\n",
       "      <th>3</th>\n",
       "      <td>ars-technica</td>\n",
       "      <td>http://arstechnica.com</td>\n",
       "    </tr>\n",
       "    <tr>\n",
       "      <th>4</th>\n",
       "      <td>associated-press</td>\n",
       "      <td>https://apnews.com/</td>\n",
       "    </tr>\n",
       "  </tbody>\n",
       "</table>\n",
       "</div>"
      ],
      "text/plain": [
       "                   id                         url\n",
       "0            abc-news      https://abcnews.go.com\n",
       "1         abc-news-au  http://www.abc.net.au/news\n",
       "2  al-jazeera-english    http://www.aljazeera.com\n",
       "3        ars-technica      http://arstechnica.com\n",
       "4    associated-press         https://apnews.com/"
      ]
     },
     "execution_count": 9,
     "metadata": {},
     "output_type": "execute_result"
    }
   ],
   "source": [
    "import pandas as pd\n",
    "\n",
    "sources = pd.DataFrame([\n",
    "    {\"id\": src.get(\"id\"), \"url\": src.get(\"url\")}\n",
    "    for src in api.api.get_sources(language = \"en\")[\"sources\"]\n",
    "])\n",
    "sources.head()"
   ]
  }
 ],
 "metadata": {
  "kernelspec": {
   "display_name": "Python 3",
   "language": "python",
   "name": "python3"
  },
  "language_info": {
   "codemirror_mode": {
    "name": "ipython",
    "version": 3
   },
   "file_extension": ".py",
   "mimetype": "text/x-python",
   "name": "python",
   "nbconvert_exporter": "python",
   "pygments_lexer": "ipython3",
   "version": "3.6.8+"
  }
 },
 "nbformat": 4,
 "nbformat_minor": 2
}
