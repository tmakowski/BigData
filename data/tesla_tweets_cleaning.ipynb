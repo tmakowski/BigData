{
 "cells": [
  {
   "cell_type": "code",
   "execution_count": 1,
   "metadata": {
    "ExecuteTime": {
     "end_time": "2019-05-14T16:48:32.489498Z",
     "start_time": "2019-05-14T16:48:31.095352Z"
    }
   },
   "outputs": [],
   "source": [
    "import numpy as np\n",
    "import pandas as pd\n",
    "import datetime as dt\n",
    "import seaborn as sns\n",
    "from datetime import timedelta  \n",
    "\n",
    "from PIL import Image\n",
    "from textblob import TextBlob\n",
    "from wordcloud import WordCloud, STOPWORDS\n",
    "import matplotlib.pyplot as plt"
   ]
  },
  {
   "cell_type": "code",
   "execution_count": 2,
   "metadata": {
    "ExecuteTime": {
     "end_time": "2019-05-14T16:48:32.497444Z",
     "start_time": "2019-05-14T16:48:32.493450Z"
    }
   },
   "outputs": [],
   "source": [
    "def deEmojify(inputString):\n",
    "    return inputString.encode('ascii', 'ignore').decode('ascii')"
   ]
  },
  {
   "cell_type": "code",
   "execution_count": 7,
   "metadata": {
    "ExecuteTime": {
     "end_time": "2019-05-14T16:48:45.881959Z",
     "start_time": "2019-05-14T16:48:44.471813Z"
    }
   },
   "outputs": [
    {
     "data": {
      "text/html": [
       "<div>\n",
       "<style scoped>\n",
       "    .dataframe tbody tr th:only-of-type {\n",
       "        vertical-align: middle;\n",
       "    }\n",
       "\n",
       "    .dataframe tbody tr th {\n",
       "        vertical-align: top;\n",
       "    }\n",
       "\n",
       "    .dataframe thead th {\n",
       "        text-align: right;\n",
       "    }\n",
       "</style>\n",
       "<table border=\"1\" class=\"dataframe\">\n",
       "  <thead>\n",
       "    <tr style=\"text-align: right;\">\n",
       "      <th></th>\n",
       "      <th>id</th>\n",
       "      <th>text</th>\n",
       "      <th>created_at</th>\n",
       "      <th>favorite_count</th>\n",
       "      <th>retweet_count</th>\n",
       "      <th>user</th>\n",
       "      <th>screen_name</th>\n",
       "    </tr>\n",
       "  </thead>\n",
       "  <tbody>\n",
       "    <tr>\n",
       "      <th>0</th>\n",
       "      <td>1106281582946590720</td>\n",
       "      <td>@Tesla Design it to be the perfect looking car...</td>\n",
       "      <td>Thu Mar 14 19:50:57 +0000 2019</td>\n",
       "      <td>0.0</td>\n",
       "      <td>0</td>\n",
       "      <td>katherine</td>\n",
       "      <td>katherine828</td>\n",
       "    </tr>\n",
       "    <tr>\n",
       "      <th>1</th>\n",
       "      <td>1106281591641247744</td>\n",
       "      <td>@Seanmmvi @Erdayastronaut @Tesla @SpaceX This ...</td>\n",
       "      <td>Thu Mar 14 19:50:59 +0000 2019</td>\n",
       "      <td>0.0</td>\n",
       "      <td>0</td>\n",
       "      <td>Joseph Lustig</td>\n",
       "      <td>boadickia</td>\n",
       "    </tr>\n",
       "    <tr>\n",
       "      <th>2</th>\n",
       "      <td>1106281982928003072</td>\n",
       "      <td>Amazing! I wish $AAPL would do the same in the...</td>\n",
       "      <td>Thu Mar 14 19:52:33 +0000 2019</td>\n",
       "      <td>0.0</td>\n",
       "      <td>0</td>\n",
       "      <td>Titus Pacis</td>\n",
       "      <td>TitusPacis</td>\n",
       "    </tr>\n",
       "    <tr>\n",
       "      <th>3</th>\n",
       "      <td>1106281988737196037</td>\n",
       "      <td>@Tesla Wow. The S3XY family will be complete. ...</td>\n",
       "      <td>Thu Mar 14 19:52:34 +0000 2019</td>\n",
       "      <td>0.0</td>\n",
       "      <td>0</td>\n",
       "      <td>Lukas</td>\n",
       "      <td>Lukas94597338</td>\n",
       "    </tr>\n",
       "    <tr>\n",
       "      <th>4</th>\n",
       "      <td>1106282003694010371</td>\n",
       "      <td>It's time to call it a night. I'm tired after ...</td>\n",
       "      <td>Thu Mar 14 19:52:38 +0000 2019</td>\n",
       "      <td>0.0</td>\n",
       "      <td>0</td>\n",
       "      <td>𝓐𝓷𝓷𝓪 ♛¸,ø¤º°`°º¤ø,¸</td>\n",
       "      <td>anna88058347</td>\n",
       "    </tr>\n",
       "  </tbody>\n",
       "</table>\n",
       "</div>"
      ],
      "text/plain": [
       "                    id                                               text  \\\n",
       "0  1106281582946590720  @Tesla Design it to be the perfect looking car...   \n",
       "1  1106281591641247744  @Seanmmvi @Erdayastronaut @Tesla @SpaceX This ...   \n",
       "2  1106281982928003072  Amazing! I wish $AAPL would do the same in the...   \n",
       "3  1106281988737196037  @Tesla Wow. The S3XY family will be complete. ...   \n",
       "4  1106282003694010371  It's time to call it a night. I'm tired after ...   \n",
       "\n",
       "                       created_at  favorite_count retweet_count  \\\n",
       "0  Thu Mar 14 19:50:57 +0000 2019             0.0             0   \n",
       "1  Thu Mar 14 19:50:59 +0000 2019             0.0             0   \n",
       "2  Thu Mar 14 19:52:33 +0000 2019             0.0             0   \n",
       "3  Thu Mar 14 19:52:34 +0000 2019             0.0             0   \n",
       "4  Thu Mar 14 19:52:38 +0000 2019             0.0             0   \n",
       "\n",
       "                  user    screen_name  \n",
       "0            katherine   katherine828  \n",
       "1        Joseph Lustig      boadickia  \n",
       "2          Titus Pacis     TitusPacis  \n",
       "3                Lukas  Lukas94597338  \n",
       "4  𝓐𝓷𝓷𝓪 ♛¸,ø¤º°`°º¤ø,¸   anna88058347  "
      ]
     },
     "execution_count": 7,
     "metadata": {},
     "output_type": "execute_result"
    }
   ],
   "source": [
    "tweets = pd.read_csv('tesla_tweets_not_clean.csv', header=None, names=['id','text','created_at','favorite_count','retweet_count','user','screen_name'])\n",
    "tweets.head()"
   ]
  },
  {
   "cell_type": "code",
   "execution_count": 8,
   "metadata": {
    "ExecuteTime": {
     "end_time": "2019-05-14T16:48:48.355245Z",
     "start_time": "2019-05-14T16:48:45.917929Z"
    }
   },
   "outputs": [],
   "source": [
    "tweets = tweets[~tweets['created_at'].isin(['0',' '])]\n",
    "tweets['created_at'] = pd.to_datetime(tweets['created_at'], format=\"%a %b %d %H:%M:%S +%f %Y\")\n",
    "tweets['retweet_count']=tweets['retweet_count'].astype('float')\n",
    "tweets['screen_name'] = tweets['screen_name'].apply(lambda tweet: deEmojify(str(tweet)))\n",
    "tweets['user'] = tweets['user'].apply(lambda tweet: deEmojify(str(tweet)))"
   ]
  },
  {
   "cell_type": "code",
   "execution_count": 9,
   "metadata": {
    "ExecuteTime": {
     "end_time": "2019-05-14T16:48:48.894132Z",
     "start_time": "2019-05-14T16:48:48.389004Z"
    }
   },
   "outputs": [],
   "source": [
    "tweets_week = tweets[(tweets['created_at'].dt.date >= dt.date(2019,3,1)) & (tweets['created_at'].dt.date <= dt.date(2019,5,14))]\n",
    "tweets_week_grouped = tweets_week.groupby(tweets_week['created_at'].dt.date).count().drop('created_at', axis=1).reset_index()"
   ]
  },
  {
   "cell_type": "code",
   "execution_count": 10,
   "metadata": {
    "ExecuteTime": {
     "end_time": "2019-05-14T16:48:49.760974Z",
     "start_time": "2019-05-14T16:48:48.926091Z"
    }
   },
   "outputs": [
    {
     "data": {
      "image/png": "[encoded data removed]",
      "text/plain": [
       "<Figure size 1008x432 with 1 Axes>"
      ]
     },
     "metadata": {},
     "output_type": "display_data"
    }
   ],
   "source": [
    "plt.figure(figsize=(14,6))\n",
    "plt.bar(tweets_week_grouped['created_at'],tweets_week_grouped['id'])\n",
    "plt.xticks(rotation=45)\n",
    "plt.xlabel('Data', color='black')\n",
    "plt.ylabel('Liczba Tweetów', color='black')\n",
    "plt.savefig('tweets_per_choosen_week.png', dpi=400, transparent=True, edgecolor='black')"
   ]
  },
  {
   "cell_type": "code",
   "execution_count": 11,
   "metadata": {
    "ExecuteTime": {
     "end_time": "2019-05-14T16:48:49.804945Z",
     "start_time": "2019-05-14T16:48:49.792948Z"
    }
   },
   "outputs": [
    {
     "data": {
      "text/html": [
       "<div>\n",
       "<style scoped>\n",
       "    .dataframe tbody tr th:only-of-type {\n",
       "        vertical-align: middle;\n",
       "    }\n",
       "\n",
       "    .dataframe tbody tr th {\n",
       "        vertical-align: top;\n",
       "    }\n",
       "\n",
       "    .dataframe thead th {\n",
       "        text-align: right;\n",
       "    }\n",
       "</style>\n",
       "<table border=\"1\" class=\"dataframe\">\n",
       "  <thead>\n",
       "    <tr style=\"text-align: right;\">\n",
       "      <th></th>\n",
       "      <th>id</th>\n",
       "      <th>text</th>\n",
       "      <th>created_at</th>\n",
       "      <th>favorite_count</th>\n",
       "      <th>retweet_count</th>\n",
       "      <th>user</th>\n",
       "      <th>screen_name</th>\n",
       "    </tr>\n",
       "  </thead>\n",
       "  <tbody>\n",
       "    <tr>\n",
       "      <th>0</th>\n",
       "      <td>1106281582946590720</td>\n",
       "      <td>@Tesla Design it to be the perfect looking car...</td>\n",
       "      <td>2019-03-14 19:50:57</td>\n",
       "      <td>0.0</td>\n",
       "      <td>0.0</td>\n",
       "      <td>katherine</td>\n",
       "      <td>katherine828</td>\n",
       "    </tr>\n",
       "    <tr>\n",
       "      <th>1</th>\n",
       "      <td>1106281591641247744</td>\n",
       "      <td>@Seanmmvi @Erdayastronaut @Tesla @SpaceX This ...</td>\n",
       "      <td>2019-03-14 19:50:59</td>\n",
       "      <td>0.0</td>\n",
       "      <td>0.0</td>\n",
       "      <td>Joseph Lustig</td>\n",
       "      <td>boadickia</td>\n",
       "    </tr>\n",
       "    <tr>\n",
       "      <th>2</th>\n",
       "      <td>1106281982928003072</td>\n",
       "      <td>Amazing! I wish $AAPL would do the same in the...</td>\n",
       "      <td>2019-03-14 19:52:33</td>\n",
       "      <td>0.0</td>\n",
       "      <td>0.0</td>\n",
       "      <td>Titus Pacis</td>\n",
       "      <td>TitusPacis</td>\n",
       "    </tr>\n",
       "    <tr>\n",
       "      <th>3</th>\n",
       "      <td>1106281988737196037</td>\n",
       "      <td>@Tesla Wow. The S3XY family will be complete. ...</td>\n",
       "      <td>2019-03-14 19:52:34</td>\n",
       "      <td>0.0</td>\n",
       "      <td>0.0</td>\n",
       "      <td>Lukas</td>\n",
       "      <td>Lukas94597338</td>\n",
       "    </tr>\n",
       "    <tr>\n",
       "      <th>4</th>\n",
       "      <td>1106282003694010371</td>\n",
       "      <td>It's time to call it a night. I'm tired after ...</td>\n",
       "      <td>2019-03-14 19:52:38</td>\n",
       "      <td>0.0</td>\n",
       "      <td>0.0</td>\n",
       "      <td>,`,</td>\n",
       "      <td>anna88058347</td>\n",
       "    </tr>\n",
       "  </tbody>\n",
       "</table>\n",
       "</div>"
      ],
      "text/plain": [
       "                    id                                               text  \\\n",
       "0  1106281582946590720  @Tesla Design it to be the perfect looking car...   \n",
       "1  1106281591641247744  @Seanmmvi @Erdayastronaut @Tesla @SpaceX This ...   \n",
       "2  1106281982928003072  Amazing! I wish $AAPL would do the same in the...   \n",
       "3  1106281988737196037  @Tesla Wow. The S3XY family will be complete. ...   \n",
       "4  1106282003694010371  It's time to call it a night. I'm tired after ...   \n",
       "\n",
       "           created_at  favorite_count  retweet_count           user  \\\n",
       "0 2019-03-14 19:50:57             0.0            0.0      katherine   \n",
       "1 2019-03-14 19:50:59             0.0            0.0  Joseph Lustig   \n",
       "2 2019-03-14 19:52:33             0.0            0.0    Titus Pacis   \n",
       "3 2019-03-14 19:52:34             0.0            0.0          Lukas   \n",
       "4 2019-03-14 19:52:38             0.0            0.0            ,`,   \n",
       "\n",
       "     screen_name  \n",
       "0   katherine828  \n",
       "1      boadickia  \n",
       "2     TitusPacis  \n",
       "3  Lukas94597338  \n",
       "4   anna88058347  "
      ]
     },
     "execution_count": 11,
     "metadata": {},
     "output_type": "execute_result"
    }
   ],
   "source": [
    "tweets.head()"
   ]
  },
  {
   "cell_type": "code",
   "execution_count": 12,
   "metadata": {
    "ExecuteTime": {
     "end_time": "2019-05-14T16:48:51.690333Z",
     "start_time": "2019-05-14T16:48:51.668408Z"
    }
   },
   "outputs": [
    {
     "data": {
      "text/plain": [
       "0    @Tesla Design it to be the perfect looking car...\n",
       "1    @Seanmmvi @Erdayastronaut @Tesla @SpaceX This ...\n",
       "2    Amazing! I wish $AAPL would do the same in the...\n",
       "3    @Tesla Wow. The S3XY family will be complete. ...\n",
       "4    It's time to call it a night. I'm tired after ...\n",
       "Name: text, dtype: object"
      ]
     },
     "execution_count": 12,
     "metadata": {},
     "output_type": "execute_result"
    }
   ],
   "source": [
    "tweets_list = tweets['text'].astype(str)\n",
    "tweets_list.head()"
   ]
  },
  {
   "cell_type": "code",
   "execution_count": 13,
   "metadata": {
    "ExecuteTime": {
     "end_time": "2019-05-14T16:48:52.625467Z",
     "start_time": "2019-05-14T16:48:52.621492Z"
    }
   },
   "outputs": [],
   "source": [
    "from nltk.tokenize import word_tokenize\n",
    "from nltk.corpus import stopwords\n",
    "from nltk.stem.porter import PorterStemmer\n",
    "\n",
    "def clear_text(text, stop_words, porter):\n",
    "    tokens = word_tokenize(text)\n",
    "    words = [word.lower() for word in tokens if word.isalpha()]\n",
    "    words = [w for w in words if not w in stop_words]\n",
    "    # Za bardzo ucina\n",
    "    #stemmed = [porter.stem(word) for word in words]\n",
    "    #joined = ' '.join(stemmed)\n",
    "    joined = ' '.join(words)\n",
    "    return joined"
   ]
  },
  {
   "cell_type": "code",
   "execution_count": 14,
   "metadata": {
    "ExecuteTime": {
     "end_time": "2019-05-14T16:50:28.798103Z",
     "start_time": "2019-05-14T16:48:53.463057Z"
    }
   },
   "outputs": [],
   "source": [
    "stop_words = stopwords.words('english')\n",
    "porter = PorterStemmer()\n",
    "\n",
    "tweets['text_clean'] = tweets['text'].apply(lambda tweet: clear_text(str(tweet), stop_words, porter))"
   ]
  },
  {
   "cell_type": "code",
   "execution_count": 15,
   "metadata": {
    "ExecuteTime": {
     "end_time": "2019-05-14T16:50:28.985851Z",
     "start_time": "2019-05-14T16:50:28.854019Z"
    }
   },
   "outputs": [
    {
     "data": {
      "text/html": [
       "<div>\n",
       "<style scoped>\n",
       "    .dataframe tbody tr th:only-of-type {\n",
       "        vertical-align: middle;\n",
       "    }\n",
       "\n",
       "    .dataframe tbody tr th {\n",
       "        vertical-align: top;\n",
       "    }\n",
       "\n",
       "    .dataframe thead th {\n",
       "        text-align: right;\n",
       "    }\n",
       "</style>\n",
       "<table border=\"1\" class=\"dataframe\">\n",
       "  <thead>\n",
       "    <tr style=\"text-align: right;\">\n",
       "      <th></th>\n",
       "      <th>id</th>\n",
       "      <th>text</th>\n",
       "      <th>created_at</th>\n",
       "      <th>favorite_count</th>\n",
       "      <th>retweet_count</th>\n",
       "      <th>user</th>\n",
       "      <th>screen_name</th>\n",
       "      <th>text_clean</th>\n",
       "    </tr>\n",
       "  </thead>\n",
       "  <tbody>\n",
       "    <tr>\n",
       "      <th>385206</th>\n",
       "      <td>1125658951524208640</td>\n",
       "      <td>@Tesla Boaty McBoatface</td>\n",
       "      <td>2019-05-07 07:09:42</td>\n",
       "      <td>0.0</td>\n",
       "      <td>0.0</td>\n",
       "      <td>Alex</td>\n",
       "      <td>The_Real_AIex</td>\n",
       "      <td>tesla boaty mcboatface</td>\n",
       "    </tr>\n",
       "    <tr>\n",
       "      <th>221033</th>\n",
       "      <td>1115615917906505728</td>\n",
       "      <td>#Trading opportunities. Here are the #stocks t...</td>\n",
       "      <td>NaT</td>\n",
       "      <td>NaN</td>\n",
       "      <td>NaN</td>\n",
       "      <td>nan</td>\n",
       "      <td>nan</td>\n",
       "      <td>trading opportunities stocks watch</td>\n",
       "    </tr>\n",
       "    <tr>\n",
       "      <th>320300</th>\n",
       "      <td>1121406927387418625</td>\n",
       "      <td>@talesftf @CGasparino @elonmusk @Tesla Musk sa...</td>\n",
       "      <td>2019-04-25 13:33:40</td>\n",
       "      <td>0.0</td>\n",
       "      <td>0.0</td>\n",
       "      <td>Shal</td>\n",
       "      <td>Shalxxx1</td>\n",
       "      <td>talesftf cgasparino elonmusk tesla musk said b...</td>\n",
       "    </tr>\n",
       "    <tr>\n",
       "      <th>290108</th>\n",
       "      <td>1121030805369839626</td>\n",
       "      <td>Ford will invest $500 million in Tesla rival R...</td>\n",
       "      <td>2019-04-24 12:39:06</td>\n",
       "      <td>0.0</td>\n",
       "      <td>0.0</td>\n",
       "      <td>Angie Kozleski</td>\n",
       "      <td>akozlesk</td>\n",
       "      <td>ford invest million tesla rival rivian joining...</td>\n",
       "    </tr>\n",
       "    <tr>\n",
       "      <th>343164</th>\n",
       "      <td>1121902589472387072</td>\n",
       "      <td>Elon Musk makes deal with SEC not to discuss T...</td>\n",
       "      <td>2019-04-26 22:23:15</td>\n",
       "      <td>0.0</td>\n",
       "      <td>0.0</td>\n",
       "      <td>Gte Burnout</td>\n",
       "      <td>khHASsBCcSFmDbg</td>\n",
       "      <td>elon musk makes deal sec discuss tesla finance...</td>\n",
       "    </tr>\n",
       "    <tr>\n",
       "      <th>293836</th>\n",
       "      <td>1121074468858810368</td>\n",
       "      <td>@evannex_com An awesome experience for Tesla C...</td>\n",
       "      <td>2019-04-24 15:32:36</td>\n",
       "      <td>0.0</td>\n",
       "      <td>0.0</td>\n",
       "      <td>X Auto - EV, Tesla News</td>\n",
       "      <td>XAutoWorld100</td>\n",
       "      <td>awesome experience tesla customers getting car...</td>\n",
       "    </tr>\n",
       "    <tr>\n",
       "      <th>85670</th>\n",
       "      <td>1108917442246569986</td>\n",
       "      <td>Son shows off his Tesla to mom and grandmother 👆🏽</td>\n",
       "      <td>2019-03-22 02:24:55</td>\n",
       "      <td>0.0</td>\n",
       "      <td>0.0</td>\n",
       "      <td>Jim Richards Shwgram</td>\n",
       "      <td>JIMrichards1010</td>\n",
       "      <td>son shows tesla mom grandmother</td>\n",
       "    </tr>\n",
       "    <tr>\n",
       "      <th>464874</th>\n",
       "      <td>1127268882589175808</td>\n",
       "      <td>@MKBHD Dogs are wise souls@Tesla</td>\n",
       "      <td>2019-05-11 17:46:59</td>\n",
       "      <td>0.0</td>\n",
       "      <td>0.0</td>\n",
       "      <td>TEDxSVNIT</td>\n",
       "      <td>tedxsvnit</td>\n",
       "      <td>mkbhd dogs wise souls tesla</td>\n",
       "    </tr>\n",
       "    <tr>\n",
       "      <th>267127</th>\n",
       "      <td>1120790616420438016</td>\n",
       "      <td>https://t.co/Y7SSxV5pX2 Autoline Daily guest S...</td>\n",
       "      <td>2019-04-23 20:44:40</td>\n",
       "      <td>0.0</td>\n",
       "      <td>0.0</td>\n",
       "      <td>Ken Goeller</td>\n",
       "      <td>kengoeller</td>\n",
       "      <td>https autoline daily guest sandy munro talks t...</td>\n",
       "    </tr>\n",
       "    <tr>\n",
       "      <th>103035</th>\n",
       "      <td>1109405835673899008</td>\n",
       "      <td>@feliksngu @Tesla @elonmusk But stil awesome!!!</td>\n",
       "      <td>2019-03-23 10:45:37</td>\n",
       "      <td>0.0</td>\n",
       "      <td>0.0</td>\n",
       "      <td>B Ortiz</td>\n",
       "      <td>bombero1394</td>\n",
       "      <td>feliksngu tesla elonmusk stil awesome</td>\n",
       "    </tr>\n",
       "  </tbody>\n",
       "</table>\n",
       "</div>"
      ],
      "text/plain": [
       "                         id  \\\n",
       "385206  1125658951524208640   \n",
       "221033  1115615917906505728   \n",
       "320300  1121406927387418625   \n",
       "290108  1121030805369839626   \n",
       "343164  1121902589472387072   \n",
       "293836  1121074468858810368   \n",
       "85670   1108917442246569986   \n",
       "464874  1127268882589175808   \n",
       "267127  1120790616420438016   \n",
       "103035  1109405835673899008   \n",
       "\n",
       "                                                     text          created_at  \\\n",
       "385206                            @Tesla Boaty McBoatface 2019-05-07 07:09:42   \n",
       "221033  #Trading opportunities. Here are the #stocks t...                 NaT   \n",
       "320300  @talesftf @CGasparino @elonmusk @Tesla Musk sa... 2019-04-25 13:33:40   \n",
       "290108  Ford will invest $500 million in Tesla rival R... 2019-04-24 12:39:06   \n",
       "343164  Elon Musk makes deal with SEC not to discuss T... 2019-04-26 22:23:15   \n",
       "293836  @evannex_com An awesome experience for Tesla C... 2019-04-24 15:32:36   \n",
       "85670   Son shows off his Tesla to mom and grandmother 👆🏽 2019-03-22 02:24:55   \n",
       "464874                   @MKBHD Dogs are wise souls@Tesla 2019-05-11 17:46:59   \n",
       "267127  https://t.co/Y7SSxV5pX2 Autoline Daily guest S... 2019-04-23 20:44:40   \n",
       "103035    @feliksngu @Tesla @elonmusk But stil awesome!!! 2019-03-23 10:45:37   \n",
       "\n",
       "        favorite_count  retweet_count                     user  \\\n",
       "385206             0.0            0.0                     Alex   \n",
       "221033             NaN            NaN                      nan   \n",
       "320300             0.0            0.0                     Shal   \n",
       "290108             0.0            0.0           Angie Kozleski   \n",
       "343164             0.0            0.0              Gte Burnout   \n",
       "293836             0.0            0.0  X Auto - EV, Tesla News   \n",
       "85670              0.0            0.0     Jim Richards Shwgram   \n",
       "464874             0.0            0.0                TEDxSVNIT   \n",
       "267127             0.0            0.0              Ken Goeller   \n",
       "103035             0.0            0.0                  B Ortiz   \n",
       "\n",
       "            screen_name                                         text_clean  \n",
       "385206    The_Real_AIex                             tesla boaty mcboatface  \n",
       "221033              nan                 trading opportunities stocks watch  \n",
       "320300         Shalxxx1  talesftf cgasparino elonmusk tesla musk said b...  \n",
       "290108         akozlesk  ford invest million tesla rival rivian joining...  \n",
       "343164  khHASsBCcSFmDbg  elon musk makes deal sec discuss tesla finance...  \n",
       "293836    XAutoWorld100  awesome experience tesla customers getting car...  \n",
       "85670   JIMrichards1010                    son shows tesla mom grandmother  \n",
       "464874        tedxsvnit                        mkbhd dogs wise souls tesla  \n",
       "267127       kengoeller  https autoline daily guest sandy munro talks t...  \n",
       "103035      bombero1394              feliksngu tesla elonmusk stil awesome  "
      ]
     },
     "execution_count": 15,
     "metadata": {},
     "output_type": "execute_result"
    }
   ],
   "source": [
    "tweets.sample(10)"
   ]
  },
  {
   "cell_type": "code",
   "execution_count": 16,
   "metadata": {
    "ExecuteTime": {
     "end_time": "2019-05-14T16:50:52.509988Z",
     "start_time": "2019-05-14T16:50:48.751006Z"
    }
   },
   "outputs": [],
   "source": [
    "tweets.to_csv('tesla_cleaned.csv', index=False, header=False)"
   ]
  },
  {
   "cell_type": "code",
   "execution_count": null,
   "metadata": {},
   "outputs": [],
   "source": []
  }
 ],
 "metadata": {
  "kernelspec": {
   "display_name": "Python 3",
   "language": "python",
   "name": "python3"
  },
  "language_info": {
   "codemirror_mode": {
    "name": "ipython",
    "version": 3
   },
   "file_extension": ".py",
   "mimetype": "text/x-python",
   "name": "python",
   "nbconvert_exporter": "python",
   "pygments_lexer": "ipython3",
   "version": "3.6.5"
  },
  "toc": {
   "base_numbering": 1,
   "nav_menu": {},
   "number_sections": true,
   "sideBar": true,
   "skip_h1_title": false,
   "title_cell": "Table of Contents",
   "title_sidebar": "Contents",
   "toc_cell": false,
   "toc_position": {},
   "toc_section_display": true,
   "toc_window_display": false
  },
  "varInspector": {
   "cols": {
    "lenName": 16,
    "lenType": 16,
    "lenVar": 40
   },
   "kernels_config": {
    "python": {
     "delete_cmd_postfix": "",
     "delete_cmd_prefix": "del ",
     "library": "var_list.py",
     "varRefreshCmd": "print(var_dic_list())"
    },
    "r": {
     "delete_cmd_postfix": ") ",
     "delete_cmd_prefix": "rm(",
     "library": "var_list.r",
     "varRefreshCmd": "cat(var_dic_list()) "
    }
   },
   "types_to_exclude": [
    "module",
    "function",
    "builtin_function_or_method",
    "instance",
    "_Feature"
   ],
   "window_display": false
  }
 },
 "nbformat": 4,
 "nbformat_minor": 2
}
