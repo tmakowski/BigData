{
 "cells": [
  {
   "cell_type": "code",
   "execution_count": 1,
   "metadata": {
    "ExecuteTime": {
     "end_time": "2019-05-28T17:32:41.725952Z",
     "start_time": "2019-05-28T17:32:40.349198Z"
    }
   },
   "outputs": [],
   "source": [
    "import pandas as pd\n",
    "import datetime as dt\n",
    "import numpy as np"
   ]
  },
  {
   "cell_type": "code",
   "execution_count": 2,
   "metadata": {
    "ExecuteTime": {
     "end_time": "2019-05-28T17:32:41.747309Z",
     "start_time": "2019-05-28T17:32:41.741324Z"
    }
   },
   "outputs": [],
   "source": [
    "def deEmojify(inputString):\n",
    "    return inputString.encode('ascii', 'ignore').decode('ascii')"
   ]
  },
  {
   "cell_type": "code",
   "execution_count": 3,
   "metadata": {
    "ExecuteTime": {
     "end_time": "2019-05-28T17:32:41.813808Z",
     "start_time": "2019-05-28T17:32:41.750037Z"
    }
   },
   "outputs": [
    {
     "name": "stderr",
     "output_type": "stream",
     "text": [
      "C:\\Users\\Olaf\\AppData\\Roaming\\Python\\Python36\\site-packages\\pandas\\core\\sorting.py:257: FutureWarning: Converting timezone-aware DatetimeArray to timezone-naive ndarray with 'datetime64[ns]' dtype. In the future, this will return an ndarray with 'object' dtype where each element is a 'pandas.Timestamp' with the correct 'tz'.\n",
      "\tTo accept the future behavior, pass 'dtype=object'.\n",
      "\tTo keep the old behavior, pass 'dtype=\"datetime64[ns]\"'.\n",
      "  items = np.asanyarray(items)\n"
     ]
    }
   ],
   "source": [
    "news = pd.read_csv(\"data/tesla_news.csv\", index_col='date', parse_dates=['date'])\n",
    "news = news.sort_index()"
   ]
  },
  {
   "cell_type": "code",
   "execution_count": 6,
   "metadata": {
    "ExecuteTime": {
     "end_time": "2019-05-28T17:32:49.020997Z",
     "start_time": "2019-05-28T17:32:49.014924Z"
    }
   },
   "outputs": [],
   "source": [
    "time= \"5min\""
   ]
  },
  {
   "cell_type": "code",
   "execution_count": 7,
   "metadata": {
    "ExecuteTime": {
     "end_time": "2019-05-28T17:32:49.525028Z",
     "start_time": "2019-05-28T17:32:49.493721Z"
    }
   },
   "outputs": [],
   "source": [
    "prices = pd.read_csv(\"data/tesla_5m_20190201_20190522.csv\", index_col='datetime', parse_dates=['datetime'])\n",
    "prices.index = prices.index.tz_localize(\"US/Eastern\").tz_convert(\"UTC\")"
   ]
  },
  {
   "cell_type": "code",
   "execution_count": 8,
   "metadata": {
    "ExecuteTime": {
     "end_time": "2019-05-28T17:32:49.978540Z",
     "start_time": "2019-05-28T17:32:49.952010Z"
    }
   },
   "outputs": [],
   "source": [
    "prices = pd.concat([prices['open'].resample(time).agg(\"first\"),\n",
    "    prices['close'].resample(time).last(),\n",
    "    prices['high'].resample(time).max(),\n",
    "    prices['low'].resample(time).min(),\n",
    "    prices['marketVolume'].resample(time).sum()], axis=1)\n",
    "prices = prices.dropna()"
   ]
  },
  {
   "cell_type": "code",
   "execution_count": 9,
   "metadata": {
    "ExecuteTime": {
     "end_time": "2019-05-28T17:32:50.915079Z",
     "start_time": "2019-05-28T17:32:50.716119Z"
    }
   },
   "outputs": [],
   "source": [
    "new_index = []\n",
    "for i, time in enumerate(news.index.round(\"H\")):\n",
    "    if time < news.index[i]:\n",
    "        new_time = time + dt.timedelta(hours=1)\n",
    "    else:\n",
    "        new_time = time\n",
    "    if new_time not in prices.index:\n",
    "        new_index.append(prices.index[prices.index > new_time].min())\n",
    "    else:\n",
    "        new_index.append(new_time)\n",
    "news.index = new_index\n"
   ]
  },
  {
   "cell_type": "code",
   "execution_count": 25,
   "metadata": {
    "ExecuteTime": {
     "end_time": "2019-05-14T17:01:46.210309Z",
     "start_time": "2019-05-14T17:01:46.206314Z"
    }
   },
   "outputs": [],
   "source": [
    "news = news.loc[pd.notnull(news.index)]"
   ]
  },
  {
   "cell_type": "code",
   "execution_count": 18,
   "metadata": {
    "ExecuteTime": {
     "end_time": "2019-05-28T17:43:05.489016Z",
     "start_time": "2019-05-28T17:42:59.921963Z"
    }
   },
   "outputs": [],
   "source": [
    "tweets = pd.read_csv('data/tesla_cleaned.csv', header=None, \n",
    "        names=['id','text','created_at','favorite_count','retweet_count','user','screen_name', \n",
    "               'cleaned_text'], parse_dates=['created_at'], index_col=['created_at'])\n",
    "\n",
    "tweets = tweets.sort_index()"
   ]
  },
  {
   "cell_type": "code",
   "execution_count": 19,
   "metadata": {
    "ExecuteTime": {
     "end_time": "2019-05-28T17:43:11.736019Z",
     "start_time": "2019-05-28T17:43:11.730589Z"
    }
   },
   "outputs": [],
   "source": [
    "tweets.index = tweets.index.tz_localize(\"UTC\")"
   ]
  },
  {
   "cell_type": "code",
   "execution_count": 21,
   "metadata": {
    "ExecuteTime": {
     "end_time": "2019-05-28T17:51:05.281438Z",
     "start_time": "2019-05-28T17:43:17.543825Z"
    }
   },
   "outputs": [],
   "source": [
    "new_index = []\n",
    "for i, time in enumerate(tweets.index.round(\"5min\")):\n",
    "    if time < tweets.index[i]:\n",
    "        new_time = time + dt.timedelta(minutes=5)\n",
    "    else:\n",
    "        new_time = time\n",
    "    if new_time not in prices.index:\n",
    "        new_index.append(prices.index[prices.index > new_time].min())\n",
    "    else:\n",
    "        new_index.append(new_time)\n",
    "tweets.index = new_index\n"
   ]
  },
  {
   "cell_type": "code",
   "execution_count": 22,
   "metadata": {
    "ExecuteTime": {
     "end_time": "2019-05-28T17:51:49.926512Z",
     "start_time": "2019-05-28T17:51:49.785277Z"
    }
   },
   "outputs": [],
   "source": [
    "tweets = tweets.loc[pd.notnull(tweets.index)]"
   ]
  },
  {
   "cell_type": "code",
   "execution_count": 23,
   "metadata": {
    "ExecuteTime": {
     "end_time": "2019-05-28T17:51:51.492013Z",
     "start_time": "2019-05-28T17:51:51.116759Z"
    }
   },
   "outputs": [],
   "source": [
    "prices_tweets = prices.join([tweets])\n",
    "prices_news = prices.join([news])"
   ]
  },
  {
   "cell_type": "code",
   "execution_count": 26,
   "metadata": {
    "ExecuteTime": {
     "end_time": "2019-05-28T17:52:21.359973Z",
     "start_time": "2019-05-28T17:52:01.470695Z"
    }
   },
   "outputs": [],
   "source": [
    "prices_tweets.to_csv(\"data/tweets_prices.csv\")\n",
    "prices_news.to_csv(\"data/news_prices.csv\")"
   ]
  },
  {
   "cell_type": "code",
   "execution_count": 34,
   "metadata": {
    "ExecuteTime": {
     "end_time": "2019-05-28T18:33:06.788517Z",
     "start_time": "2019-05-28T18:33:06.213840Z"
    }
   },
   "outputs": [],
   "source": [
    "prices_tweets.dropna().iloc[:100][['text']].to_csv(\"data/tweets_example.csv\")"
   ]
  },
  {
   "cell_type": "code",
   "execution_count": null,
   "metadata": {},
   "outputs": [],
   "source": []
  }
 ],
 "metadata": {
  "kernelspec": {
   "display_name": "Python 3",
   "language": "python",
   "name": "python3"
  },
  "language_info": {
   "codemirror_mode": {
    "name": "ipython",
    "version": 3
   },
   "file_extension": ".py",
   "mimetype": "text/x-python",
   "name": "python",
   "nbconvert_exporter": "python",
   "pygments_lexer": "ipython3",
   "version": "3.6.0"
  }
 },
 "nbformat": 4,
 "nbformat_minor": 2
}
