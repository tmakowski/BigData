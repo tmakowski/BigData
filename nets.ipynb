{
 "cells": [
  {
   "cell_type": "code",
   "execution_count": 199,
   "metadata": {},
   "outputs": [],
   "source": [
    "import pandas as pd\n",
    "import numpy as np\n",
    "import matplotlib.pyplot as plt\n",
    "from collections import Counter\n",
    "from itertools import cycle\n",
    "\n",
    "from gensim.models import Word2Vec\n",
    "import gensim.downloader as api\n",
    "\n",
    "from sklearn.model_selection import train_test_split\n",
    "\n",
    "from keras.models import Sequential\n",
    "from keras.layers import LSTM, Dense, Dropout, Masking, Embedding\n",
    "from keras.callbacks import EarlyStopping, ModelCheckpoint\n",
    "from keras.utils import to_categorical"
   ]
  },
  {
   "cell_type": "code",
   "execution_count": 2,
   "metadata": {},
   "outputs": [
    {
     "data": {
      "text/plain": [
       "298325"
      ]
     },
     "execution_count": 2,
     "metadata": {},
     "output_type": "execute_result"
    }
   ],
   "source": [
    "data = pd.read_csv(\"data/tweets_prices.csv\", index_col=0, parse_dates=[0])\n",
    "tweets = data[data[\"text\"].notna()]\n",
    "len(tweets)"
   ]
  },
  {
   "cell_type": "code",
   "execution_count": 3,
   "metadata": {},
   "outputs": [
    {
     "data": {
      "text/html": [
       "<div>\n",
       "<style scoped>\n",
       "    .dataframe tbody tr th:only-of-type {\n",
       "        vertical-align: middle;\n",
       "    }\n",
       "\n",
       "    .dataframe tbody tr th {\n",
       "        vertical-align: top;\n",
       "    }\n",
       "\n",
       "    .dataframe thead th {\n",
       "        text-align: right;\n",
       "    }\n",
       "</style>\n",
       "<table border=\"1\" class=\"dataframe\">\n",
       "  <thead>\n",
       "    <tr style=\"text-align: right;\">\n",
       "      <th></th>\n",
       "      <th>open</th>\n",
       "      <th>high</th>\n",
       "      <th>low</th>\n",
       "      <th>close</th>\n",
       "      <th>marketVolume</th>\n",
       "      <th>profit</th>\n",
       "      <th>id</th>\n",
       "      <th>text</th>\n",
       "      <th>favorite_count</th>\n",
       "      <th>retweet_count</th>\n",
       "      <th>user</th>\n",
       "      <th>screen_name</th>\n",
       "      <th>cleaned_text</th>\n",
       "    </tr>\n",
       "  </thead>\n",
       "  <tbody>\n",
       "    <tr>\n",
       "      <th>2019-03-14 19:55:00</th>\n",
       "      <td>290.905</td>\n",
       "      <td>290.95</td>\n",
       "      <td>289.81</td>\n",
       "      <td>289.83</td>\n",
       "      <td>50356.2</td>\n",
       "      <td>1.075</td>\n",
       "      <td>1.106282e+18</td>\n",
       "      <td>@Tesla Design it to be the perfect looking car...</td>\n",
       "      <td>0.0</td>\n",
       "      <td>0.0</td>\n",
       "      <td>katherine</td>\n",
       "      <td>katherine828</td>\n",
       "      <td>tesla design perfect looking car hey thief get...</td>\n",
       "    </tr>\n",
       "    <tr>\n",
       "      <th>2019-03-14 19:55:00</th>\n",
       "      <td>290.905</td>\n",
       "      <td>290.95</td>\n",
       "      <td>289.81</td>\n",
       "      <td>289.83</td>\n",
       "      <td>50356.2</td>\n",
       "      <td>1.075</td>\n",
       "      <td>1.106282e+18</td>\n",
       "      <td>@Seanmmvi @Erdayastronaut @Tesla @SpaceX This ...</td>\n",
       "      <td>0.0</td>\n",
       "      <td>0.0</td>\n",
       "      <td>Joseph Lustig</td>\n",
       "      <td>boadickia</td>\n",
       "      <td>seanmmvi erdayastronaut tesla spacex also comb...</td>\n",
       "    </tr>\n",
       "    <tr>\n",
       "      <th>2019-03-14 19:55:00</th>\n",
       "      <td>290.905</td>\n",
       "      <td>290.95</td>\n",
       "      <td>289.81</td>\n",
       "      <td>289.83</td>\n",
       "      <td>50356.2</td>\n",
       "      <td>1.075</td>\n",
       "      <td>1.106282e+18</td>\n",
       "      <td>Amazing! I wish $AAPL would do the same in the...</td>\n",
       "      <td>0.0</td>\n",
       "      <td>0.0</td>\n",
       "      <td>Titus Pacis</td>\n",
       "      <td>TitusPacis</td>\n",
       "      <td>amazing wish aapl would software updates oppos...</td>\n",
       "    </tr>\n",
       "    <tr>\n",
       "      <th>2019-03-14 19:55:00</th>\n",
       "      <td>290.905</td>\n",
       "      <td>290.95</td>\n",
       "      <td>289.81</td>\n",
       "      <td>289.83</td>\n",
       "      <td>50356.2</td>\n",
       "      <td>1.075</td>\n",
       "      <td>1.106282e+18</td>\n",
       "      <td>@Tesla Wow. The S3XY family will be complete. ...</td>\n",
       "      <td>0.0</td>\n",
       "      <td>0.0</td>\n",
       "      <td>Lukas</td>\n",
       "      <td>Lukas94597338</td>\n",
       "      <td>tesla wow family complete looking forward</td>\n",
       "    </tr>\n",
       "    <tr>\n",
       "      <th>2019-03-14 19:55:00</th>\n",
       "      <td>290.905</td>\n",
       "      <td>290.95</td>\n",
       "      <td>289.81</td>\n",
       "      <td>289.83</td>\n",
       "      <td>50356.2</td>\n",
       "      <td>1.075</td>\n",
       "      <td>1.106282e+18</td>\n",
       "      <td>It's time to call it a night. I'm tired after ...</td>\n",
       "      <td>0.0</td>\n",
       "      <td>0.0</td>\n",
       "      <td>,`,</td>\n",
       "      <td>anna88058347</td>\n",
       "      <td>time call night tired reading post gon na sleep</td>\n",
       "    </tr>\n",
       "  </tbody>\n",
       "</table>\n",
       "</div>"
      ],
      "text/plain": [
       "                        open    high     low   close  marketVolume  profit  \\\n",
       "2019-03-14 19:55:00  290.905  290.95  289.81  289.83       50356.2   1.075   \n",
       "2019-03-14 19:55:00  290.905  290.95  289.81  289.83       50356.2   1.075   \n",
       "2019-03-14 19:55:00  290.905  290.95  289.81  289.83       50356.2   1.075   \n",
       "2019-03-14 19:55:00  290.905  290.95  289.81  289.83       50356.2   1.075   \n",
       "2019-03-14 19:55:00  290.905  290.95  289.81  289.83       50356.2   1.075   \n",
       "\n",
       "                               id  \\\n",
       "2019-03-14 19:55:00  1.106282e+18   \n",
       "2019-03-14 19:55:00  1.106282e+18   \n",
       "2019-03-14 19:55:00  1.106282e+18   \n",
       "2019-03-14 19:55:00  1.106282e+18   \n",
       "2019-03-14 19:55:00  1.106282e+18   \n",
       "\n",
       "                                                                  text  \\\n",
       "2019-03-14 19:55:00  @Tesla Design it to be the perfect looking car...   \n",
       "2019-03-14 19:55:00  @Seanmmvi @Erdayastronaut @Tesla @SpaceX This ...   \n",
       "2019-03-14 19:55:00  Amazing! I wish $AAPL would do the same in the...   \n",
       "2019-03-14 19:55:00  @Tesla Wow. The S3XY family will be complete. ...   \n",
       "2019-03-14 19:55:00  It's time to call it a night. I'm tired after ...   \n",
       "\n",
       "                     favorite_count  retweet_count           user  \\\n",
       "2019-03-14 19:55:00             0.0            0.0      katherine   \n",
       "2019-03-14 19:55:00             0.0            0.0  Joseph Lustig   \n",
       "2019-03-14 19:55:00             0.0            0.0    Titus Pacis   \n",
       "2019-03-14 19:55:00             0.0            0.0          Lukas   \n",
       "2019-03-14 19:55:00             0.0            0.0            ,`,   \n",
       "\n",
       "                       screen_name  \\\n",
       "2019-03-14 19:55:00   katherine828   \n",
       "2019-03-14 19:55:00      boadickia   \n",
       "2019-03-14 19:55:00     TitusPacis   \n",
       "2019-03-14 19:55:00  Lukas94597338   \n",
       "2019-03-14 19:55:00   anna88058347   \n",
       "\n",
       "                                                          cleaned_text  \n",
       "2019-03-14 19:55:00  tesla design perfect looking car hey thief get...  \n",
       "2019-03-14 19:55:00  seanmmvi erdayastronaut tesla spacex also comb...  \n",
       "2019-03-14 19:55:00  amazing wish aapl would software updates oppos...  \n",
       "2019-03-14 19:55:00          tesla wow family complete looking forward  \n",
       "2019-03-14 19:55:00    time call night tired reading post gon na sleep  "
      ]
     },
     "execution_count": 3,
     "metadata": {},
     "output_type": "execute_result"
    }
   ],
   "source": [
    "tweets.head()"
   ]
  },
  {
   "cell_type": "markdown",
   "metadata": {},
   "source": [
    "## Preprocessing"
   ]
  },
  {
   "cell_type": "code",
   "execution_count": 4,
   "metadata": {},
   "outputs": [],
   "source": [
    "tweets = tweets.drop([\"favorite_count\", \"retweet_count\", \"id\"], axis=1)"
   ]
  },
  {
   "cell_type": "code",
   "execution_count": 5,
   "metadata": {},
   "outputs": [],
   "source": [
    "tweets[\"cleaned_text\"] = tweets[\"cleaned_text\"].apply(str)"
   ]
  },
  {
   "cell_type": "code",
   "execution_count": 6,
   "metadata": {},
   "outputs": [
    {
     "data": {
      "text/html": [
       "<div>\n",
       "<style scoped>\n",
       "    .dataframe tbody tr th:only-of-type {\n",
       "        vertical-align: middle;\n",
       "    }\n",
       "\n",
       "    .dataframe tbody tr th {\n",
       "        vertical-align: top;\n",
       "    }\n",
       "\n",
       "    .dataframe thead th {\n",
       "        text-align: right;\n",
       "    }\n",
       "</style>\n",
       "<table border=\"1\" class=\"dataframe\">\n",
       "  <thead>\n",
       "    <tr style=\"text-align: right;\">\n",
       "      <th></th>\n",
       "      <th>open</th>\n",
       "      <th>high</th>\n",
       "      <th>low</th>\n",
       "      <th>close</th>\n",
       "      <th>marketVolume</th>\n",
       "      <th>profit</th>\n",
       "      <th>text</th>\n",
       "      <th>user</th>\n",
       "      <th>screen_name</th>\n",
       "      <th>cleaned_text</th>\n",
       "    </tr>\n",
       "  </thead>\n",
       "  <tbody>\n",
       "    <tr>\n",
       "      <th>2019-03-14 19:55:00</th>\n",
       "      <td>290.905</td>\n",
       "      <td>290.95</td>\n",
       "      <td>289.81</td>\n",
       "      <td>289.83</td>\n",
       "      <td>50356.2</td>\n",
       "      <td>1.075</td>\n",
       "      <td>@Tesla Design it to be the perfect looking car...</td>\n",
       "      <td>katherine</td>\n",
       "      <td>katherine828</td>\n",
       "      <td>tesla design perfect looking car hey thief get...</td>\n",
       "    </tr>\n",
       "    <tr>\n",
       "      <th>2019-03-14 19:55:00</th>\n",
       "      <td>290.905</td>\n",
       "      <td>290.95</td>\n",
       "      <td>289.81</td>\n",
       "      <td>289.83</td>\n",
       "      <td>50356.2</td>\n",
       "      <td>1.075</td>\n",
       "      <td>@Seanmmvi @Erdayastronaut @Tesla @SpaceX This ...</td>\n",
       "      <td>Joseph Lustig</td>\n",
       "      <td>boadickia</td>\n",
       "      <td>seanmmvi erdayastronaut tesla spacex also comb...</td>\n",
       "    </tr>\n",
       "    <tr>\n",
       "      <th>2019-03-14 19:55:00</th>\n",
       "      <td>290.905</td>\n",
       "      <td>290.95</td>\n",
       "      <td>289.81</td>\n",
       "      <td>289.83</td>\n",
       "      <td>50356.2</td>\n",
       "      <td>1.075</td>\n",
       "      <td>Amazing! I wish $AAPL would do the same in the...</td>\n",
       "      <td>Titus Pacis</td>\n",
       "      <td>TitusPacis</td>\n",
       "      <td>amazing wish aapl would software updates oppos...</td>\n",
       "    </tr>\n",
       "    <tr>\n",
       "      <th>2019-03-14 19:55:00</th>\n",
       "      <td>290.905</td>\n",
       "      <td>290.95</td>\n",
       "      <td>289.81</td>\n",
       "      <td>289.83</td>\n",
       "      <td>50356.2</td>\n",
       "      <td>1.075</td>\n",
       "      <td>@Tesla Wow. The S3XY family will be complete. ...</td>\n",
       "      <td>Lukas</td>\n",
       "      <td>Lukas94597338</td>\n",
       "      <td>tesla wow family complete looking forward</td>\n",
       "    </tr>\n",
       "    <tr>\n",
       "      <th>2019-03-14 19:55:00</th>\n",
       "      <td>290.905</td>\n",
       "      <td>290.95</td>\n",
       "      <td>289.81</td>\n",
       "      <td>289.83</td>\n",
       "      <td>50356.2</td>\n",
       "      <td>1.075</td>\n",
       "      <td>It's time to call it a night. I'm tired after ...</td>\n",
       "      <td>,`,</td>\n",
       "      <td>anna88058347</td>\n",
       "      <td>time call night tired reading post gon na sleep</td>\n",
       "    </tr>\n",
       "  </tbody>\n",
       "</table>\n",
       "</div>"
      ],
      "text/plain": [
       "                        open    high     low   close  marketVolume  profit  \\\n",
       "2019-03-14 19:55:00  290.905  290.95  289.81  289.83       50356.2   1.075   \n",
       "2019-03-14 19:55:00  290.905  290.95  289.81  289.83       50356.2   1.075   \n",
       "2019-03-14 19:55:00  290.905  290.95  289.81  289.83       50356.2   1.075   \n",
       "2019-03-14 19:55:00  290.905  290.95  289.81  289.83       50356.2   1.075   \n",
       "2019-03-14 19:55:00  290.905  290.95  289.81  289.83       50356.2   1.075   \n",
       "\n",
       "                                                                  text  \\\n",
       "2019-03-14 19:55:00  @Tesla Design it to be the perfect looking car...   \n",
       "2019-03-14 19:55:00  @Seanmmvi @Erdayastronaut @Tesla @SpaceX This ...   \n",
       "2019-03-14 19:55:00  Amazing! I wish $AAPL would do the same in the...   \n",
       "2019-03-14 19:55:00  @Tesla Wow. The S3XY family will be complete. ...   \n",
       "2019-03-14 19:55:00  It's time to call it a night. I'm tired after ...   \n",
       "\n",
       "                              user    screen_name  \\\n",
       "2019-03-14 19:55:00      katherine   katherine828   \n",
       "2019-03-14 19:55:00  Joseph Lustig      boadickia   \n",
       "2019-03-14 19:55:00    Titus Pacis     TitusPacis   \n",
       "2019-03-14 19:55:00          Lukas  Lukas94597338   \n",
       "2019-03-14 19:55:00            ,`,   anna88058347   \n",
       "\n",
       "                                                          cleaned_text  \n",
       "2019-03-14 19:55:00  tesla design perfect looking car hey thief get...  \n",
       "2019-03-14 19:55:00  seanmmvi erdayastronaut tesla spacex also comb...  \n",
       "2019-03-14 19:55:00  amazing wish aapl would software updates oppos...  \n",
       "2019-03-14 19:55:00          tesla wow family complete looking forward  \n",
       "2019-03-14 19:55:00    time call night tired reading post gon na sleep  "
      ]
     },
     "execution_count": 6,
     "metadata": {},
     "output_type": "execute_result"
    }
   ],
   "source": [
    "tweets.head()"
   ]
  },
  {
   "cell_type": "code",
   "execution_count": 7,
   "metadata": {},
   "outputs": [],
   "source": [
    "vocab = Counter()"
   ]
  },
  {
   "cell_type": "code",
   "execution_count": 8,
   "metadata": {},
   "outputs": [],
   "source": [
    "for text in tweets.cleaned_text:\n",
    "    for word in text.split(\" \"):\n",
    "        vocab[word] += 1"
   ]
  },
  {
   "cell_type": "code",
   "execution_count": 9,
   "metadata": {},
   "outputs": [
    {
     "data": {
      "text/plain": [
       "88019"
      ]
     },
     "execution_count": 9,
     "metadata": {},
     "output_type": "execute_result"
    }
   ],
   "source": [
    "len(vocab)"
   ]
  },
  {
   "cell_type": "code",
   "execution_count": 10,
   "metadata": {},
   "outputs": [],
   "source": [
    "max_vocab_size = 50_000\n",
    "vocab_most_common = vocab.most_common(max_vocab_size)\n",
    "vocab_final = [(word, count) for (word, count) in vocab_most_common if count > 15]"
   ]
  },
  {
   "cell_type": "code",
   "execution_count": 11,
   "metadata": {},
   "outputs": [
    {
     "data": {
      "text/plain": [
       "10030"
      ]
     },
     "execution_count": 11,
     "metadata": {},
     "output_type": "execute_result"
    }
   ],
   "source": [
    "vocab_size = len(vocab_final)\n",
    "vocab_size"
   ]
  },
  {
   "cell_type": "markdown",
   "metadata": {},
   "source": [
    "Ponieważ nie mamy zbyt dużej ilości danych, do modelu użyjemy przetrenowanych embeddingów word2vec. Ponieważ słów w języku angielskim jest dużo, a każde słowo będziemy reprezentować przez 300 elementowy wektor to niestety zjamiemy dużo pamięci (3_00_000_000 słów * 300 liczb/słowo * 32 bitów = 3.6 GB). http://mccormickml.com/2016/04/12/googles-pretrained-word2vec-model-in-python/"
   ]
  },
  {
   "cell_type": "code",
   "execution_count": 13,
   "metadata": {},
   "outputs": [],
   "source": [
    "tweets[\"up\"] = [1 if profit > 0 else 0 for profit in tweets.profit]"
   ]
  },
  {
   "cell_type": "code",
   "execution_count": 14,
   "metadata": {},
   "outputs": [],
   "source": [
    "sample = tweets.sample(10)"
   ]
  },
  {
   "cell_type": "code",
   "execution_count": 15,
   "metadata": {},
   "outputs": [],
   "source": [
    "data = [([get_vector(word) for word in tweet[\"cleaned_text\"].split(\" \")], tweet[\"up\"]) for _idx, tweet in sample.iterrows()]"
   ]
  },
  {
   "cell_type": "code",
   "execution_count": 16,
   "metadata": {},
   "outputs": [
    {
     "data": {
      "text/plain": [
       "10"
      ]
     },
     "execution_count": 16,
     "metadata": {},
     "output_type": "execute_result"
    }
   ],
   "source": [
    "len(data)"
   ]
  },
  {
   "cell_type": "code",
   "execution_count": 17,
   "metadata": {},
   "outputs": [],
   "source": [
    "train = sample"
   ]
  },
  {
   "cell_type": "code",
   "execution_count": 18,
   "metadata": {},
   "outputs": [
    {
     "data": {
      "text/plain": [
       "array([[0, 1],\n",
       "       [0, 1],\n",
       "       [0, 1],\n",
       "       [0, 1],\n",
       "       [0, 1],\n",
       "       [1, 0],\n",
       "       [0, 1],\n",
       "       [0, 1],\n",
       "       [1, 0],\n",
       "       [0, 1]], dtype=int8)"
      ]
     },
     "execution_count": 18,
     "metadata": {},
     "output_type": "execute_result"
    }
   ],
   "source": [
    "def ohe(data, label_name=\"up\"):\n",
    "    \"\"\"One hot encodes column named label_name of data\"\"\"\n",
    "    label_array = np.zeros((len(data), 2), dtype=np.int8)\n",
    "    for index, label in enumerate(data[label_name]):\n",
    "        label_array[index, label] = 1\n",
    "    return label_array\n",
    "\n",
    "ohe(sample)"
   ]
  },
  {
   "cell_type": "code",
   "execution_count": 19,
   "metadata": {},
   "outputs": [
    {
     "data": {
      "text/plain": [
       "array([[0., 1.],\n",
       "       [0., 1.],\n",
       "       [0., 1.],\n",
       "       ...,\n",
       "       [1., 0.],\n",
       "       [1., 0.],\n",
       "       [1., 0.]], dtype=float32)"
      ]
     },
     "execution_count": 19,
     "metadata": {},
     "output_type": "execute_result"
    }
   ],
   "source": [
    "to_categorical(tweets.up)"
   ]
  },
  {
   "cell_type": "code",
   "execution_count": 20,
   "metadata": {},
   "outputs": [],
   "source": [
    "def train_generator(tweets):\n",
    "    while True:\n",
    "        sequence_length = np.random.randint(10, 100)\n",
    "        x_train = np.random.random((1000, sequence_length, 5))\n",
    "        \n",
    "        x_train = np.array([[get_vector(word) for word in tweet[\"cleaned_text\"].split(\" \")] for _idx, tweet in tweets.iterrows()])\n",
    "        \n",
    "        y_train = ohe(tweets)\n",
    "        yield x_train, y_train"
   ]
  },
  {
   "cell_type": "code",
   "execution_count": 166,
   "metadata": {},
   "outputs": [],
   "source": [
    "sentences = sample[\"cleaned_text\"].values"
   ]
  },
  {
   "cell_type": "code",
   "execution_count": 167,
   "metadata": {},
   "outputs": [
    {
     "data": {
      "text/plain": [
       "array(['elonmusk wanting tesla broke afford one firstworldproblems',\n",
       "       'tesla model new prius everywhere',\n",
       "       'mortchad tesla mmm rims though classy https',\n",
       "       'tesla horses courses guess cup tea though',\n",
       "       'tesla fintech smart homes disruptors radar banyan hill publishing https https',\n",
       "       'first quarter tesla recorded drop solar installations mw compared https',\n",
       "       'iliketeslas danahull think dana risks career would surely mgmt pressure https',\n",
       "       'posted https',\n",
       "       'elonmusk make lawnmowers sound systems basically anything possibly wake every fucking day https',\n",
       "       'norbertelekes case thought one idea another stats post amount iphone https'],\n",
       "      dtype=object)"
      ]
     },
     "execution_count": 167,
     "metadata": {},
     "output_type": "execute_result"
    }
   ],
   "source": [
    "sentences"
   ]
  },
  {
   "cell_type": "code",
   "execution_count": 37,
   "metadata": {},
   "outputs": [],
   "source": [
    "words = [y.split(\" \") for y in tweets.cleaned_text.values]"
   ]
  },
  {
   "cell_type": "code",
   "execution_count": 38,
   "metadata": {},
   "outputs": [],
   "source": [
    "max_len = max([len(w) for w in words])"
   ]
  },
  {
   "cell_type": "code",
   "execution_count": 39,
   "metadata": {},
   "outputs": [
    {
     "data": {
      "text/plain": [
       "30"
      ]
     },
     "execution_count": 39,
     "metadata": {},
     "output_type": "execute_result"
    }
   ],
   "source": [
    "max_len"
   ]
  },
  {
   "cell_type": "code",
   "execution_count": 40,
   "metadata": {},
   "outputs": [],
   "source": [
    "glove_vectors = api.load(\"glove-twitter-50\")  # may take a while"
   ]
  },
  {
   "cell_type": "code",
   "execution_count": 80,
   "metadata": {},
   "outputs": [],
   "source": [
    "GLOVE_SIZE = 50"
   ]
  },
  {
   "cell_type": "code",
   "execution_count": 61,
   "metadata": {},
   "outputs": [],
   "source": [
    "def get_vector(word):\n",
    "    \"\"\"For a given word returns it's vector representation to be fed into model\"\"\"\n",
    "    try:\n",
    "        vec = glove_vectors.get_vector(word)\n",
    "    except KeyError:\n",
    "        vec = np.random.normal(0, 0.0001, 50)\n",
    "    return vec"
   ]
  },
  {
   "cell_type": "code",
   "execution_count": 62,
   "metadata": {},
   "outputs": [
    {
     "data": {
      "text/plain": [
       "array([ 8.12179539e-05,  2.24099400e-05, -2.26701089e-04,  3.57957283e-05,\n",
       "        1.85892230e-04, -2.89448765e-05,  2.25337932e-05, -5.43789226e-05,\n",
       "       -3.55197046e-06,  6.97891724e-07, -1.58316943e-05,  2.51386827e-05,\n",
       "        1.14340114e-04,  1.90829048e-04, -1.72009951e-04, -1.95580379e-04,\n",
       "       -1.15109928e-05,  1.57885760e-04,  1.68249919e-04, -1.16418951e-04,\n",
       "       -1.56109615e-04,  1.20772182e-04,  1.24681265e-04,  2.33244286e-05,\n",
       "        9.63188233e-05,  6.18320459e-05, -1.73639648e-05,  5.65897951e-05,\n",
       "        2.26300010e-05, -5.41309129e-05, -2.99663831e-05,  6.15746170e-05,\n",
       "        1.12563459e-04, -9.22889307e-05,  6.17750413e-05, -1.31972729e-04,\n",
       "       -1.46133583e-04,  6.78083342e-05, -2.67585628e-05, -8.41189597e-05,\n",
       "       -2.05879688e-05, -5.45523164e-05, -1.56278976e-04, -2.08213262e-05,\n",
       "       -4.86686610e-05,  7.31208930e-05,  2.07883830e-06, -1.40768900e-04,\n",
       "        3.30593730e-05,  1.82175944e-04])"
      ]
     },
     "execution_count": 62,
     "metadata": {},
     "output_type": "execute_result"
    }
   ],
   "source": [
    "get_vector(\" \")"
   ]
  },
  {
   "cell_type": "code",
   "execution_count": 212,
   "metadata": {},
   "outputs": [],
   "source": [
    "def train_generator(tweets, batch_size):\n",
    "    \"\"\"Generates data form tweets in batches of size batch_size\"\"\"\n",
    "        \n",
    "    sentences = [sentence.split(\" \") for sentence in tweets[\"cleaned_text\"]]\n",
    "    labels = ohe(tweets)\n",
    "    \n",
    "    max_len = max([len(sentence) for sentence in sentences])\n",
    "    \n",
    "    x_train = np.zeros((batch_size, max_len, GLOVE_SIZE))\n",
    "    y_train = np.zeros((batch_size, 2))\n",
    "    i = 0\n",
    "    for sentence, label in cycle(zip(sentences, labels)):\n",
    "        for j, word in enumerate(sentence):\n",
    "            x_train[i, j, :] = get_vector(word)\n",
    "        y_train[i, :] = label\n",
    "        if i == batch_size - 1:\n",
    "            i = 0\n",
    "            yield x_train, y_train\n",
    "        else:\n",
    "            i += 1"
   ]
  },
  {
   "cell_type": "code",
   "execution_count": 217,
   "metadata": {},
   "outputs": [],
   "source": [
    "tweets_train, tweets_test, y_train, y_test = train_test_split(tweets, tweets.up, test_size=0.10, random_state=42)"
   ]
  },
  {
   "cell_type": "markdown",
   "metadata": {},
   "source": [
    "# Model"
   ]
  },
  {
   "cell_type": "code",
   "execution_count": 219,
   "metadata": {},
   "outputs": [
    {
     "name": "stdout",
     "output_type": "stream",
     "text": [
      "Epoch 1/10\n",
      "30/30 [==============================] - 8s 268ms/step - loss: 0.5901 - acc: 0.7330 - val_loss: 0.5044 - val_acc: 0.8000\n",
      "Epoch 2/10\n",
      "30/30 [==============================] - 5s 172ms/step - loss: 0.5754 - acc: 0.7481 - val_loss: 0.4424 - val_acc: 0.8667\n",
      "Epoch 3/10\n",
      "30/30 [==============================] - 5s 175ms/step - loss: 0.5695 - acc: 0.7505 - val_loss: 0.5786 - val_acc: 0.7333\n",
      "Epoch 4/10\n",
      "30/30 [==============================] - 5s 169ms/step - loss: 0.5700 - acc: 0.7493 - val_loss: 0.5783 - val_acc: 0.7333\n",
      "Epoch 5/10\n",
      "30/30 [==============================] - 5s 169ms/step - loss: 0.5677 - acc: 0.7501 - val_loss: 0.6849 - val_acc: 0.6333\n",
      "Epoch 6/10\n",
      "30/30 [==============================] - 5s 152ms/step - loss: 0.5674 - acc: 0.7502 - val_loss: 0.5433 - val_acc: 0.7667\n",
      "Epoch 7/10\n",
      "30/30 [==============================] - 6s 208ms/step - loss: 0.5609 - acc: 0.7551 - val_loss: 0.5034 - val_acc: 0.8000\n"
     ]
    },
    {
     "data": {
      "text/plain": [
       "<keras.callbacks.History at 0x7fae852bcba8>"
      ]
     },
     "execution_count": 219,
     "metadata": {},
     "output_type": "execute_result"
    }
   ],
   "source": [
    "model = Sequential()\n",
    "\n",
    "model.add(Masking(mask_value=0., input_shape=(None, 50)))\n",
    "\n",
    "# Masking layer for pre-trained embeddings\n",
    "model.add(Masking(mask_value=0.0))\n",
    "\n",
    "# Recurrent layer\n",
    "model.add(LSTM(64, return_sequences=False, \n",
    "               dropout=0.1, recurrent_dropout=0.1))\n",
    "\n",
    "# Fully connected layer\n",
    "model.add(Dense(64, activation='relu'))\n",
    "\n",
    "# Dropout for regularization\n",
    "model.add(Dropout(0.5))\n",
    "\n",
    "# Output layer\n",
    "model.add(Dense(2, activation='softmax'))\n",
    "\n",
    "# Compile the model\n",
    "model.compile(\n",
    "    optimizer='adam', loss='categorical_crossentropy', metrics=['accuracy'])\n",
    "\n",
    "# Create callbacks\n",
    "callbacks = [EarlyStopping(monitor='val_loss', patience=5), ModelCheckpoint('model.h5', save_best_only=True, save_weights_only=False)]\n",
    "\n",
    "model.fit_generator(train_generator(tweets_train, 1000), \n",
    "                    validation_data=train_generator(tweets_test, 1), \n",
    "                    steps_per_epoch=30, \n",
    "                    validation_steps=30, \n",
    "                    epochs=10,\n",
    "                    verbose=1,\n",
    "                    callbacks=callbacks)"
   ]
  },
  {
   "cell_type": "code",
   "execution_count": null,
   "metadata": {},
   "outputs": [],
   "source": []
  }
 ],
 "metadata": {
  "kernelspec": {
   "display_name": "Python 3",
   "language": "python",
   "name": "python3"
  },
  "language_info": {
   "codemirror_mode": {
    "name": "ipython",
    "version": 3
   },
   "file_extension": ".py",
   "mimetype": "text/x-python",
   "name": "python",
   "nbconvert_exporter": "python",
   "pygments_lexer": "ipython3",
   "version": "3.7.1"
  }
 },
 "nbformat": 4,
 "nbformat_minor": 2
}
