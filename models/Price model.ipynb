{
 "cells": [
  {
   "cell_type": "code",
   "execution_count": 98,
   "metadata": {
    "ExecuteTime": {
     "end_time": "2019-05-13T17:50:13.954671Z",
     "start_time": "2019-05-13T17:50:13.950661Z"
    }
   },
   "outputs": [],
   "source": [
    "import pandas as pd\n",
    "import numpy as np\n",
    "from ta import add_all_ta_features\n",
    "from sklearn.model_selection import cross_val_score, TimeSeriesSplit\n",
    "from xgboost import XGBRegressor\n",
    "from sklearn.metrics import make_scorer\n"
   ]
  },
  {
   "cell_type": "code",
   "execution_count": 81,
   "metadata": {
    "ExecuteTime": {
     "end_time": "2019-05-13T17:47:36.047923Z",
     "start_time": "2019-05-13T17:47:36.020846Z"
    },
    "scrolled": true
   },
   "outputs": [],
   "source": [
    "df = pd.read_csv(r\"C:/Users/Olaf/Documents/studia/BigData/data/tesla_5m_20190201_20190505.csv\",\n",
    "                index_col='datetime', parse_dates=['datetime'])"
   ]
  },
  {
   "cell_type": "code",
   "execution_count": 82,
   "metadata": {
    "ExecuteTime": {
     "end_time": "2019-05-13T17:47:40.177392Z",
     "start_time": "2019-05-13T17:47:36.215461Z"
    }
   },
   "outputs": [
    {
     "name": "stderr",
     "output_type": "stream",
     "text": [
      "C:\\Users\\Olaf\\AppData\\Roaming\\Python\\Python36\\site-packages\\ta\\trend.py:605: FutureWarning: Currently, 'apply' passes the values as ndarrays to the applied function. In the future, this will change to passing it as Series objects. You need to specify 'raw=True' to keep the current behaviour, and you can pass 'raw=False' to silence this warning\n",
      "  aroon_up = close.rolling(n).apply(lambda x: float(np.argmax(x) + 1) / n * 100)\n",
      "C:\\Users\\Olaf\\AppData\\Roaming\\Python\\Python36\\site-packages\\ta\\trend.py:627: FutureWarning: Currently, 'apply' passes the values as ndarrays to the applied function. In the future, this will change to passing it as Series objects. You need to specify 'raw=True' to keep the current behaviour, and you can pass 'raw=False' to silence this warning\n",
      "  aroon_down = close.rolling(n).apply(lambda x: float(np.argmin(x) + 1) / n * 100)\n"
     ]
    }
   ],
   "source": [
    "df = add_all_ta_features(df, \"open\", 'high','low', 'close', 'marketVolume')"
   ]
  },
  {
   "cell_type": "code",
   "execution_count": 83,
   "metadata": {
    "ExecuteTime": {
     "end_time": "2019-05-13T17:47:40.186494Z",
     "start_time": "2019-05-13T17:47:40.179445Z"
    }
   },
   "outputs": [],
   "source": [
    "df['lower_shadow'] = np.minimum(df['open'], df['close']) - df['low']\n",
    "df['higher_shadow'] = df['high'] - np.maximum(df['open'], df['close'])"
   ]
  },
  {
   "cell_type": "code",
   "execution_count": 84,
   "metadata": {
    "ExecuteTime": {
     "end_time": "2019-05-13T17:47:40.203436Z",
     "start_time": "2019-05-13T17:47:40.187482Z"
    }
   },
   "outputs": [],
   "source": [
    "df_test = df.loc['2019-04-16':]\n",
    "df = df.loc[:'2019-04-15']"
   ]
  },
  {
   "cell_type": "code",
   "execution_count": 156,
   "metadata": {
    "ExecuteTime": {
     "end_time": "2019-05-13T18:02:18.902854Z",
     "start_time": "2019-05-13T18:02:18.828026Z"
    }
   },
   "outputs": [],
   "source": [
    "df['profit'] = df['profit'].shift(1)"
   ]
  },
  {
   "cell_type": "code",
   "execution_count": 158,
   "metadata": {
    "ExecuteTime": {
     "end_time": "2019-05-13T18:02:33.116807Z",
     "start_time": "2019-05-13T18:02:33.107255Z"
    }
   },
   "outputs": [],
   "source": [
    "df = df.dropna()"
   ]
  },
  {
   "cell_type": "code",
   "execution_count": 170,
   "metadata": {
    "ExecuteTime": {
     "end_time": "2019-05-13T18:03:15.472131Z",
     "start_time": "2019-05-13T18:03:15.466148Z"
    }
   },
   "outputs": [],
   "source": [
    "X = df.drop(['profit', 'others_dlr','others_dr', 'others_cr'],axis=1)\n",
    "X_test = df_test.drop(['profit', 'others_dlr','others_dr', 'others_cr'],axis=1)"
   ]
  },
  {
   "cell_type": "code",
   "execution_count": 171,
   "metadata": {
    "ExecuteTime": {
     "end_time": "2019-05-13T18:03:21.783767Z",
     "start_time": "2019-05-13T18:03:21.779778Z"
    }
   },
   "outputs": [],
   "source": [
    "y = df['profit']\n",
    "y_test = df_test['profit']"
   ]
  },
  {
   "cell_type": "code",
   "execution_count": 172,
   "metadata": {
    "ExecuteTime": {
     "end_time": "2019-05-13T18:03:22.276968Z",
     "start_time": "2019-05-13T18:03:22.274005Z"
    }
   },
   "outputs": [],
   "source": [
    "xgb = XGBRegressor()"
   ]
  },
  {
   "cell_type": "code",
   "execution_count": 173,
   "metadata": {
    "ExecuteTime": {
     "end_time": "2019-05-13T18:03:22.574635Z",
     "start_time": "2019-05-13T18:03:22.570648Z"
    }
   },
   "outputs": [],
   "source": [
    "def profit(y, y_pred):\n",
    "    return y[y_pred>0].sum()"
   ]
  },
  {
   "cell_type": "code",
   "execution_count": 174,
   "metadata": {
    "ExecuteTime": {
     "end_time": "2019-05-13T18:03:22.788670Z",
     "start_time": "2019-05-13T18:03:22.785678Z"
    }
   },
   "outputs": [],
   "source": [
    "prof_scorer = make_scorer(profit)"
   ]
  },
  {
   "cell_type": "code",
   "execution_count": 175,
   "metadata": {
    "ExecuteTime": {
     "end_time": "2019-05-13T18:03:26.110853Z",
     "start_time": "2019-05-13T18:03:23.160970Z"
    }
   },
   "outputs": [
    {
     "data": {
      "text/plain": [
       "array([ 89.795, 152.235, 120.015,  90.49 ,  88.015])"
      ]
     },
     "execution_count": 175,
     "metadata": {},
     "output_type": "execute_result"
    }
   ],
   "source": [
    "cross_val_score(xgb, X, y, \n",
    "                scoring=prof_scorer, cv=TimeSeriesSplit(5))"
   ]
  },
  {
   "cell_type": "code",
   "execution_count": 176,
   "metadata": {
    "ExecuteTime": {
     "end_time": "2019-05-13T18:03:27.330043Z",
     "start_time": "2019-05-13T18:03:26.112814Z"
    }
   },
   "outputs": [
    {
     "data": {
      "text/plain": [
       "XGBRegressor(base_score=0.5, booster='gbtree', colsample_bylevel=1,\n",
       "       colsample_bytree=1, gamma=0, learning_rate=0.1, max_delta_step=0,\n",
       "       max_depth=3, min_child_weight=1, missing=None, n_estimators=100,\n",
       "       n_jobs=1, nthread=None, objective='reg:linear', random_state=0,\n",
       "       reg_alpha=0, reg_lambda=1, scale_pos_weight=1, seed=None,\n",
       "       silent=True, subsample=1)"
      ]
     },
     "execution_count": 176,
     "metadata": {},
     "output_type": "execute_result"
    }
   ],
   "source": [
    "xgb.fit(X, y)"
   ]
  },
  {
   "cell_type": "code",
   "execution_count": 188,
   "metadata": {
    "ExecuteTime": {
     "end_time": "2019-05-13T18:04:43.293420Z",
     "start_time": "2019-05-13T18:04:43.288434Z"
    }
   },
   "outputs": [
    {
     "data": {
      "text/plain": [
       "16.22499999999962"
      ]
     },
     "execution_count": 188,
     "metadata": {},
     "output_type": "execute_result"
    }
   ],
   "source": [
    "(y_test).sum()"
   ]
  },
  {
   "cell_type": "code",
   "execution_count": 187,
   "metadata": {
    "ExecuteTime": {
     "end_time": "2019-05-13T18:04:37.202456Z",
     "start_time": "2019-05-13T18:04:37.192483Z"
    }
   },
   "outputs": [
    {
     "data": {
      "text/plain": [
       "73.6999999999997"
      ]
     },
     "execution_count": 187,
     "metadata": {},
     "output_type": "execute_result"
    }
   ],
   "source": [
    "(y_test[xgb.predict(X_test) > 0]).sum()"
   ]
  },
  {
   "cell_type": "code",
   "execution_count": 166,
   "metadata": {
    "ExecuteTime": {
     "end_time": "2019-05-13T18:02:39.875506Z",
     "start_time": "2019-05-13T18:02:39.870549Z"
    }
   },
   "outputs": [],
   "source": [
    "import shap"
   ]
  },
  {
   "cell_type": "code",
   "execution_count": 167,
   "metadata": {
    "ExecuteTime": {
     "end_time": "2019-05-13T18:02:40.461349Z",
     "start_time": "2019-05-13T18:02:40.198912Z"
    }
   },
   "outputs": [],
   "source": [
    "explainer = shap.TreeExplainer(xgb)\n",
    "shap_values = explainer.shap_values(X)"
   ]
  },
  {
   "cell_type": "code",
   "execution_count": 168,
   "metadata": {
    "ExecuteTime": {
     "end_time": "2019-05-13T18:02:43.179223Z",
     "start_time": "2019-05-13T18:02:41.799427Z"
    }
   },
   "outputs": [
    {
     "data": {
      "image/png": "[encoded data removed]",
      "text/plain": [
       "<Figure size 576x684 with 2 Axes>"
      ]
     },
     "metadata": {
      "needs_background": "light"
     },
     "output_type": "display_data"
    }
   ],
   "source": [
    "shap.summary_plot(shap_values, X)"
   ]
  }
 ],
 "metadata": {
  "kernelspec": {
   "display_name": "Python 3",
   "language": "python",
   "name": "python3"
  },
  "language_info": {
   "codemirror_mode": {
    "name": "ipython",
    "version": 3
   },
   "file_extension": ".py",
   "mimetype": "text/x-python",
   "name": "python",
   "nbconvert_exporter": "python",
   "pygments_lexer": "ipython3",
   "version": "3.6.0"
  }
 },
 "nbformat": 4,
 "nbformat_minor": 2
}
