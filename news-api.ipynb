{
 "cells": [
  {
   "cell_type": "code",
   "execution_count": 1,
   "metadata": {},
   "outputs": [],
   "source": [
    "from newsapi import NewsApiClient\n",
    "\n",
    "with open(\"news-api_token.txt\", \"r\") as f:\n",
    "    api_key = f.readline().strip()"
   ]
  },
  {
   "cell_type": "code",
   "execution_count": 111,
   "metadata": {},
   "outputs": [],
   "source": [
    "class NewsAPI:\n",
    "    def __init__(self, token, sources = None):\n",
    "        \"\"\"\n",
    "        token   -- klucz uwierzytelniający\n",
    "        sources -- opcjonalna lista id źródeł zgodna z konwencją News API\n",
    "        \"\"\"\n",
    "        self.api = NewsApiClient(api_key = token)\n",
    "        \n",
    "        if sources is None:\n",
    "            self.set_sources_all()\n",
    "        else:\n",
    "            assert isinstance(sources, list)\n",
    "            self.sources = sources\n",
    "    \n",
    "    def set_sources_all(self):\n",
    "        \"\"\" Metoda ustawia pole `sources` na wszystkie dostępne źródła angielskojęzyczne. \"\"\"\n",
    "        \n",
    "        self.sources = [src[\"id\"] for src in self.api.get_sources(language=\"en\")[\"sources\"]]\n",
    "        return self\n",
    "    \n",
    "    def get_all_articles(self, keyword, **kwargs):\n",
    "        \"\"\" keyword -- wyszukiwana fraza \"\"\"\n",
    "        \n",
    "        assert isinstance(self.sources, list)\n",
    "        \n",
    "        i = 0\n",
    "        n = len(self.sources)\n",
    "        articles = []\n",
    "        \n",
    "        while 20*i < n:\n",
    "            curr_response = self.api.get_everything(\n",
    "                q       = keyword,\n",
    "                sources = \",\".join(self.sources[i:min(20*(i+1)-1, n)]),  # Przetwarzamy 20 na raz, bo takie ograniczenie ma News API\n",
    "                **kwargs\n",
    "            )\n",
    "            articles += curr_response.get(\"articles\")\n",
    "            i += 1\n",
    "        \n",
    "        self.articles = articles\n",
    "        \n",
    "        return self\n",
    "    \n",
    "    def sort_urls_by_source(self):\n",
    "        \"\"\" Metoda upakowuje adresy artykułów do słownika według id źródeł. \"\"\"\n",
    "        \n",
    "        assert hasattr(self, \"articles\")\n",
    "        urls_by_source = {}\n",
    "        \n",
    "        for art in self.articles:\n",
    "            curr_source_id = art.get(\"source\").get(\"id\")\n",
    "            \n",
    "            # Dodanie klucza, jeśli go nie ma\n",
    "            if curr_source_id not in d.keys():\n",
    "                urls_by_source[curr_source_id] = []\n",
    "            \n",
    "            urls_by_source[curr_source_id].append(art.get(\"url\"))\n",
    "        \n",
    "        self.urls = urls_by_source\n",
    "        \n",
    "        return self\n",
    "    \n",
    "    def scrape_urls(self):\n",
    "        assert hasattr(self, \"urls\")\n",
    "        # Scraper, który ma słownik {id-stronki: <css sselector treści artykułu>} i zwraca jego sformatowaną treść\n",
    "        pass\n",
    "    \n",
    "    def process(self, keyword, **kwargs):\n",
    "        self.get_all_articles(keyword, **kwargs)\n",
    "        self.sort_urls_by_source()\n",
    "        #self.scrape_urls()"
   ]
  },
  {
   "cell_type": "code",
   "execution_count": 112,
   "metadata": {},
   "outputs": [],
   "source": [
    "api = NewsAPI(api_key)"
   ]
  },
  {
   "cell_type": "code",
   "execution_count": 114,
   "metadata": {},
   "outputs": [
    {
     "data": {
      "text/plain": [
       "<__main__.NewsAPI at 0x77f05ba400>"
      ]
     },
     "execution_count": 114,
     "metadata": {},
     "output_type": "execute_result"
    }
   ],
   "source": [
    "api.get_all_articles(\"tesla\", from_param=\"2019-03-10\")"
   ]
  },
  {
   "cell_type": "code",
   "execution_count": 115,
   "metadata": {},
   "outputs": [
    {
     "data": {
      "text/plain": [
       "<__main__.NewsAPI at 0x77f05ba400>"
      ]
     },
     "execution_count": 115,
     "metadata": {},
     "output_type": "execute_result"
    }
   ],
   "source": [
    "api.sort_urls_by_source()"
   ]
  },
  {
   "cell_type": "code",
   "execution_count": 116,
   "metadata": {},
   "outputs": [
    {
     "data": {
      "text/plain": [
       "{'business-insider': ['https://www.businessinsider.com/teslas-closing-all-its-stores-and-sell-online-might-be-brilliant-2019-3'],\n",
       " 'bloomberg': ['https://www.bloomberg.com/tosv2.html?vid=&uuid=e504ece0-43ce-11e9-bd99-1f78ee3aeb83&url=L25ld3MvYXJ0aWNsZXMvMjAxOS0wMy0xMS90ZXNsYS10by1yYWlzZS1wcmljZXMtY2xvc2UtZmV3ZXItc3RvcmVzLXRoYW4tZmxhZ2dlZA=='],\n",
       " 'associated-press': ['https://www.apnews.com/a880afcbad214c6e8d07300dbd36bb37'],\n",
       " 'bbc-news': ['https://www.bbc.co.uk/news/business-47521940'],\n",
       " 'breitbart-news': ['https://www.breitbart.com/tech/2019/03/11/teslas-former-security-ops-manager-provides-whistleblower-info-to-sec/'],\n",
       " 'cnn': ['https://www.cnn.com/business/live-news/stock-market-news-today-031119/index.html'],\n",
       " 'cnbc': ['https://www.cnbc.com/2019/03/11/teslas-biggest-problem-is-customer-service-new-bernstein-survey.html'],\n",
       " 'google-news': ['http://feedproxy.google.com/~r/hypebeast/feed/~3/LBRtL8NQcAE/'],\n",
       " 'engadget': ['https://www.engadget.com/2019/03/11/tesla-decides-to-keep-more-stores-open-and-raise-prices-instead/'],\n",
       " 'fox-news': ['https://www.foxnews.com/auto/tesla-backtracks-on-price-drop-will-raise-prices-on-most-models-again'],\n",
       " 'financial-times': ['https://www.ft.com/content/274b68e2-41a2-11e9-9bee-efab61506f44'],\n",
       " 'techcrunch': ['http://techcrunch.com/2019/03/11/report-googles-waymo-seeks-outside-investment-and-a-sky-high-valuation/'],\n",
       " 'the-new-york-times': ['https://www.nytimes.com/2019/03/11/business/tesla-stores-elon-musk.html'],\n",
       " 'reuters': ['https://www.reuters.com/article/us-tesla-price-idUSKBN1QS0JF'],\n",
       " 'the-globe-and-mail': ['https://www.theglobeandmail.com/investing/markets/inside-the-market/article-market-movers-stocks-seeing-action-on-monday-and-why-2/'],\n",
       " 'the-guardian-au': ['https://www.theguardian.com/technology/2019/mar/11/tesla-performs-u-turn-over-store-closures'],\n",
       " 'usa-today': ['https://www.usatoday.com/story/money/cars/2019/03/11/tesla-stores-tesla-price-cut/3127766002/?utm_source=google&utm_medium=amp&utm_campaign=speakable'],\n",
       " 'the-wall-street-journal': ['https://www.wsj.com/articles/y-combinators-sam-altman-stepping-aside-as-president-11552087923']}"
      ]
     },
     "execution_count": 116,
     "metadata": {},
     "output_type": "execute_result"
    }
   ],
   "source": [
    "api.urls"
   ]
  }
 ],
 "metadata": {
  "kernelspec": {
   "display_name": "Python 3",
   "language": "python",
   "name": "python3"
  },
  "language_info": {
   "codemirror_mode": {
    "name": "ipython",
    "version": 3
   },
   "file_extension": ".py",
   "mimetype": "text/x-python",
   "name": "python",
   "nbconvert_exporter": "python",
   "pygments_lexer": "ipython3",
   "version": "3.6.8+"
  }
 },
 "nbformat": 4,
 "nbformat_minor": 2
}
