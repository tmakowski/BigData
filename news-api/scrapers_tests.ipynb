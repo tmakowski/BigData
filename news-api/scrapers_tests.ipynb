{
 "cells": [
  {
   "cell_type": "code",
   "execution_count": 1,
   "metadata": {},
   "outputs": [],
   "source": [
    "from requests_html import HTMLSession"
   ]
  },
  {
   "cell_type": "code",
   "execution_count": 2,
   "metadata": {},
   "outputs": [],
   "source": [
    "def get_page(url):\n",
    "    s = HTMLSession()\n",
    "    page = s.get(url).html\n",
    "    s.close()\n",
    "    return page"
   ]
  },
  {
   "cell_type": "code",
   "execution_count": 55,
   "metadata": {},
   "outputs": [],
   "source": [
    "scraper_dict = {}"
   ]
  },
  {
   "cell_type": "markdown",
   "metadata": {},
   "source": [
    "# BBC"
   ]
  },
  {
   "cell_type": "code",
   "execution_count": 3,
   "metadata": {},
   "outputs": [],
   "source": [
    "bbc_url  = \"https://www.bbc.com/news/technology-47538721\"\n",
    "bbc_page = get_page(bbc_url)"
   ]
  },
  {
   "cell_type": "code",
   "execution_count": 91,
   "metadata": {},
   "outputs": [
    {
     "name": "stdout",
     "output_type": "stream",
     "text": [
      "Elon Musk has denied that a tweet about Tesla placed him in contempt of court. In February, he tweeted about Tesla's production ambitions, suggesting that in 2019 the carmaker would make 500,000 vehicles. However, he had previously agreed a settlement with the US financial regulator which restricted his use of social media to talk about the firm. This was following tweets about taking Tesla private, which upset investors and which he later retracted. The Securities and Exchange Commission (SEC) had asked the courts to hold him in contempt for violating the settlement following his tweet on 19 February. Tesla made 0 cars in 2011, but will make around 500k in 2019 End of Twitter post by @elonmusk He later posted a second tweet clarifying that he expected deliveries for the year would be around 400,000 as previously estimated. In court documents Mr Musk's lawyer argues that \"there is no basis to issue contempt sanctions against him\". The tweet in question was \"celebratory and forward-looking\" the document continues, and was posted after markets had closed. It says that Mr Musk has curtailed the number of tweets he posts both generally and concerning Tesla, and this is proof that he is complying with the order. It also notes that there was no \"meaningful\" price reaction or a change in the volume of trade of Tesla's shares following the tweet.\n"
     ]
    }
   ],
   "source": [
    "bbc_text = \" \".join([\n",
    "    el.text\n",
    "    for el in bbc_page.find(\"div[class='story-body'] div[property='articleBody'] p\")\n",
    "    if el.text is not None\n",
    "])\n",
    "print(bbc_text)"
   ]
  },
  {
   "cell_type": "code",
   "execution_count": 92,
   "metadata": {},
   "outputs": [],
   "source": [
    "def get_content_bbc(url):\n",
    "    page = get_page(url)\n",
    "    \n",
    "    return \" \".join([\n",
    "        el.text \n",
    "        for el in page.find(\"div[class='story-body'] div[property='articleBody'] p\")\n",
    "        if el.text is not None\n",
    "    ])\n",
    "\n",
    "scraper_dict[\"bbc-news\"] = get_content_bbc"
   ]
  },
  {
   "cell_type": "code",
   "execution_count": 94,
   "metadata": {},
   "outputs": [
    {
     "name": "stdout",
     "output_type": "stream",
     "text": [
      "Facebook has removed, then restored, a series of adverts that called for the social network to be broken up. The adverts were placed by the campaign for Democratic presidential hopeful Elizabeth Warren. Ms Warren has made a public pledge to break up Facebook and other tech giants if she is elected. Facebook said it removed the adverts because they misused its corporate logo. It said it restored them to help \"robust debate\". Ms Warren responded to the removal of the adverts in a tweet saying Facebook's ability to \"censor\" what people saw was a good demonstration that it had too much power. Curious why I think FB has too much power? Let's start with their ability to shut down a debate over whether FB has too much power. Thanks for restoring my posts. But I want a social media marketplace that isn't dominated by a single censor. #BreakUpBigTech https://t.co/UPS6dozOxn End of Twitter post by @ewarren Last week, Ms Warren said it was \"time to break up our biggest tech companies\" and added that the move would \"restore the balance of power\" in America's democracy and promote proper competition in the tech sector. Facebook, Google, Amazon and Apple would all be targeted in the break-up effort, Ms Warren's campaign office has said. There are strict rules governing who can use Facebook's corporate logo. These were brought in to stop advertisers using them to make marketing material look like official communications from the social media platform. Facebook added that it did not remove all the adverts the Warren campaign ran calling for the forced separation of Instagram, WhatsApp and Facebook. Some remained because they did not use the logos of those firms. Adverts mentioning Amazon and Google were also unaffected by the removal effort. Ms Warren represents Massachusetts in the US Senate and is seeking the Democratic nomination for the 2020 presidential election.\n"
     ]
    }
   ],
   "source": [
    "print(\n",
    "    scraper_dict[\"bbc-news\"](\"https://www.bbc.com/news/technology-47538184\")\n",
    ")"
   ]
  },
  {
   "cell_type": "markdown",
   "metadata": {},
   "source": [
    "# CNN"
   ]
  },
  {
   "cell_type": "code",
   "execution_count": 58,
   "metadata": {},
   "outputs": [],
   "source": [
    "cnn_url = \"https://edition.cnn.com/2019/03/01/tech/tesla-takeaways/index.html\"\n",
    "cnn_page = get_page(cnn_url)"
   ]
  },
  {
   "cell_type": "code",
   "execution_count": 88,
   "metadata": {},
   "outputs": [
    {
     "name": "stdout",
     "output_type": "stream",
     "text": [
      "New York (CNN Business)Tesla CEO Elon Musk made some splashy announcements Thursday. But he also delivered some bad news for investors. Here's what he said: 1. Cheaper Model 3: Tesla (TSLA) is finally releasing a pared-down version of its Model 3 sedan. The price tag: $35,000. The base model will have 220 miles of range, a top speed of 130 mph and it will accelerate from 0 to 60 miles per hour in 5.6 seconds. Delivery will take two to four weeks, according to Tesla's website. It's also selling a higher performance, long range version, called the Standard Range Plus. That offers more range and faster speed, and it costs $2,000 more before incentives. \"For 6% more money, you get 9% more range, more power, and an upgraded interior,\" Tesla said in a blog post. 2. Store closures: Musk said Tesla is closing most of its stores and laying off retail workers to make it financially possible to produce the cheaper model. That means all Tesla purchases will be done online. Musk said a \"small number of stores in \"high-traffic locations\" will remain open as galleries and information centers where customers can see the cars in person and ask questions. 3. New return policy: Because of its new purchase policy, Tesla said it will make returning cars easier for customers. Buyers will have seven days or 1,000 miles during which they can return the car for a refund. While returns are the norm for most products, they're nearly unheard of for new cars which lose significant value as soon as they're driven by an owner. 4. Service improvements: At the same time, Tesla is trying to improve what has been the most-criticized part of the Tesla ownership experience: getting the cars serviced. The company is aiming for \"same-day, if not same-hour service.\" Tesla said that in most cases, the company will come to the customer to service the car, rather than have the customer come to a Tesla service center. 5. Profit warning: Musk said Tesla probably won't turn a profit for the first quarter of 2019 — but Tesla could be in the black by the second quarter. CNN Business' Peter Valdes-Dapena contributed to this report.\n"
     ]
    }
   ],
   "source": [
    "cnn_text = \" \".join([\n",
    "    el.text\n",
    "    for el in cnn_page.find(\"div[itemprop='articleBody'] [class^='zn-body__paragraph']\")\n",
    "    if el.text is not None\n",
    "])\n",
    "print(cnn_text)"
   ]
  },
  {
   "cell_type": "code",
   "execution_count": 89,
   "metadata": {},
   "outputs": [],
   "source": [
    "def get_content_cnn(url):\n",
    "    page = get_page(url)\n",
    "    return \" \".join([\n",
    "        el.text\n",
    "        for el in cnn_page.find(\"div[itemprop='articleBody'] [class^='zn-body__paragraph']\")\n",
    "        if el.text is not None\n",
    "    ])\n",
    "\n",
    "scraper_dict[\"cnn\"] = get_content_cnn"
   ]
  },
  {
   "cell_type": "code",
   "execution_count": 90,
   "metadata": {},
   "outputs": [
    {
     "name": "stdout",
     "output_type": "stream",
     "text": [
      "New York (CNN Business)Tesla CEO Elon Musk made some splashy announcements Thursday. But he also delivered some bad news for investors. Here's what he said: 1. Cheaper Model 3: Tesla (TSLA) is finally releasing a pared-down version of its Model 3 sedan. The price tag: $35,000. The base model will have 220 miles of range, a top speed of 130 mph and it will accelerate from 0 to 60 miles per hour in 5.6 seconds. Delivery will take two to four weeks, according to Tesla's website. It's also selling a higher performance, long range version, called the Standard Range Plus. That offers more range and faster speed, and it costs $2,000 more before incentives. \"For 6% more money, you get 9% more range, more power, and an upgraded interior,\" Tesla said in a blog post. 2. Store closures: Musk said Tesla is closing most of its stores and laying off retail workers to make it financially possible to produce the cheaper model. That means all Tesla purchases will be done online. Musk said a \"small number of stores in \"high-traffic locations\" will remain open as galleries and information centers where customers can see the cars in person and ask questions. 3. New return policy: Because of its new purchase policy, Tesla said it will make returning cars easier for customers. Buyers will have seven days or 1,000 miles during which they can return the car for a refund. While returns are the norm for most products, they're nearly unheard of for new cars which lose significant value as soon as they're driven by an owner. 4. Service improvements: At the same time, Tesla is trying to improve what has been the most-criticized part of the Tesla ownership experience: getting the cars serviced. The company is aiming for \"same-day, if not same-hour service.\" Tesla said that in most cases, the company will come to the customer to service the car, rather than have the customer come to a Tesla service center. 5. Profit warning: Musk said Tesla probably won't turn a profit for the first quarter of 2019 — but Tesla could be in the black by the second quarter. CNN Business' Peter Valdes-Dapena contributed to this report.\n"
     ]
    }
   ],
   "source": [
    "print(scraper_dict[\"cnn\"](\"https://www.cnn.com/2019/02/26/tech/elon-musk-sec-tweet/index.html\"))"
   ]
  }
 ],
 "metadata": {
  "kernelspec": {
   "display_name": "Python 3",
   "language": "python",
   "name": "python3"
  },
  "language_info": {
   "codemirror_mode": {
    "name": "ipython",
    "version": 3
   },
   "file_extension": ".py",
   "mimetype": "text/x-python",
   "name": "python",
   "nbconvert_exporter": "python",
   "pygments_lexer": "ipython3",
   "version": "3.6.8+"
  }
 },
 "nbformat": 4,
 "nbformat_minor": 2
}
