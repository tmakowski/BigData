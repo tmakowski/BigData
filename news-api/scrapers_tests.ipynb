{
 "cells": [
  {
   "cell_type": "code",
   "execution_count": 1,
   "metadata": {},
   "outputs": [],
   "source": [
    "from requests_html import HTMLSession\n",
    "from NewsApi import NewsApi\n",
    "\n",
    "def get_page(url):\n",
    "    s = HTMLSession()\n",
    "    page = s.get(url).html\n",
    "    s.close()\n",
    "    return page\n",
    "\n",
    "\n",
    "api = NewsApi()"
   ]
  },
  {
   "cell_type": "markdown",
   "metadata": {},
   "source": [
    "# bbc-news"
   ]
  },
  {
   "cell_type": "code",
   "execution_count": 3,
   "metadata": {},
   "outputs": [],
   "source": [
    "bbc_url  = \"https://www.bbc.com/news/technology-47538721\"\n",
    "bbc_page = get_page(bbc_url)"
   ]
  },
  {
   "cell_type": "code",
   "execution_count": 91,
   "metadata": {},
   "outputs": [
    {
     "name": "stdout",
     "output_type": "stream",
     "text": [
      "Elon Musk has denied that a tweet about Tesla placed him in contempt of court. In February, he tweeted about Tesla's production ambitions, suggesting that in 2019 the carmaker would make 500,000 vehicles. However, he had previously agreed a settlement with the US financial regulator which restricted his use of social media to talk about the firm. This was following tweets about taking Tesla private, which upset investors and which he later retracted. The Securities and Exchange Commission (SEC) had asked the courts to hold him in contempt for violating the settlement following his tweet on 19 February. Tesla made 0 cars in 2011, but will make around 500k in 2019 End of Twitter post by @elonmusk He later posted a second tweet clarifying that he expected deliveries for the year would be around 400,000 as previously estimated. In court documents Mr Musk's lawyer argues that \"there is no basis to issue contempt sanctions against him\". The tweet in question was \"celebratory and forward-looking\" the document continues, and was posted after markets had closed. It says that Mr Musk has curtailed the number of tweets he posts both generally and concerning Tesla, and this is proof that he is complying with the order. It also notes that there was no \"meaningful\" price reaction or a change in the volume of trade of Tesla's shares following the tweet.\n"
     ]
    }
   ],
   "source": [
    "bbc_text = \" \".join([\n",
    "    el.text\n",
    "    for el in bbc_page.find(\"div[class='story-body'] div[property='articleBody'] p\")\n",
    "    if el.text is not None\n",
    "])\n",
    "print(bbc_text)"
   ]
  },
  {
   "cell_type": "code",
   "execution_count": 92,
   "metadata": {},
   "outputs": [],
   "source": [
    "def get_content_bbcnews(url):\n",
    "    page = get_page(url)\n",
    "    \n",
    "    return \" \".join([\n",
    "        el.text \n",
    "        for el in page.find(\"div[class='story-body'] div[property='articleBody'] p\")\n",
    "        if el.text is not None\n",
    "    ])"
   ]
  },
  {
   "cell_type": "code",
   "execution_count": 94,
   "metadata": {},
   "outputs": [
    {
     "name": "stdout",
     "output_type": "stream",
     "text": [
      "Facebook has removed, then restored, a series of adverts that called for the social network to be broken up. The adverts were placed by the campaign for Democratic presidential hopeful Elizabeth Warren. Ms Warren has made a public pledge to break up Facebook and other tech giants if she is elected. Facebook said it removed the adverts because they misused its corporate logo. It said it restored them to help \"robust debate\". Ms Warren responded to the removal of the adverts in a tweet saying Facebook's ability to \"censor\" what people saw was a good demonstration that it had too much power. Curious why I think FB has too much power? Let's start with their ability to shut down a debate over whether FB has too much power. Thanks for restoring my posts. But I want a social media marketplace that isn't dominated by a single censor. #BreakUpBigTech https://t.co/UPS6dozOxn End of Twitter post by @ewarren Last week, Ms Warren said it was \"time to break up our biggest tech companies\" and added that the move would \"restore the balance of power\" in America's democracy and promote proper competition in the tech sector. Facebook, Google, Amazon and Apple would all be targeted in the break-up effort, Ms Warren's campaign office has said. There are strict rules governing who can use Facebook's corporate logo. These were brought in to stop advertisers using them to make marketing material look like official communications from the social media platform. Facebook added that it did not remove all the adverts the Warren campaign ran calling for the forced separation of Instagram, WhatsApp and Facebook. Some remained because they did not use the logos of those firms. Adverts mentioning Amazon and Google were also unaffected by the removal effort. Ms Warren represents Massachusetts in the US Senate and is seeking the Democratic nomination for the 2020 presidential election.\n"
     ]
    }
   ],
   "source": [
    "print(\n",
    "    get_content_bbcnews(\"https://www.bbc.com/news/technology-47538184\")\n",
    ")"
   ]
  },
  {
   "cell_type": "markdown",
   "metadata": {},
   "source": [
    "# cnn"
   ]
  },
  {
   "cell_type": "code",
   "execution_count": 58,
   "metadata": {},
   "outputs": [],
   "source": [
    "cnn_url = \"https://edition.cnn.com/2019/03/01/tech/tesla-takeaways/index.html\"\n",
    "cnn_page = get_page(cnn_url)"
   ]
  },
  {
   "cell_type": "code",
   "execution_count": 88,
   "metadata": {},
   "outputs": [
    {
     "name": "stdout",
     "output_type": "stream",
     "text": [
      "New York (CNN Business)Tesla CEO Elon Musk made some splashy announcements Thursday. But he also delivered some bad news for investors. Here's what he said: 1. Cheaper Model 3: Tesla (TSLA) is finally releasing a pared-down version of its Model 3 sedan. The price tag: $35,000. The base model will have 220 miles of range, a top speed of 130 mph and it will accelerate from 0 to 60 miles per hour in 5.6 seconds. Delivery will take two to four weeks, according to Tesla's website. It's also selling a higher performance, long range version, called the Standard Range Plus. That offers more range and faster speed, and it costs $2,000 more before incentives. \"For 6% more money, you get 9% more range, more power, and an upgraded interior,\" Tesla said in a blog post. 2. Store closures: Musk said Tesla is closing most of its stores and laying off retail workers to make it financially possible to produce the cheaper model. That means all Tesla purchases will be done online. Musk said a \"small number of stores in \"high-traffic locations\" will remain open as galleries and information centers where customers can see the cars in person and ask questions. 3. New return policy: Because of its new purchase policy, Tesla said it will make returning cars easier for customers. Buyers will have seven days or 1,000 miles during which they can return the car for a refund. While returns are the norm for most products, they're nearly unheard of for new cars which lose significant value as soon as they're driven by an owner. 4. Service improvements: At the same time, Tesla is trying to improve what has been the most-criticized part of the Tesla ownership experience: getting the cars serviced. The company is aiming for \"same-day, if not same-hour service.\" Tesla said that in most cases, the company will come to the customer to service the car, rather than have the customer come to a Tesla service center. 5. Profit warning: Musk said Tesla probably won't turn a profit for the first quarter of 2019 — but Tesla could be in the black by the second quarter. CNN Business' Peter Valdes-Dapena contributed to this report.\n"
     ]
    }
   ],
   "source": [
    "cnn_text = \" \".join([\n",
    "    el.text\n",
    "    for el in cnn_page.find(\"div[itemprop='articleBody'] [class^='zn-body__paragraph']\")\n",
    "    if el.text is not None\n",
    "])\n",
    "print(cnn_text)"
   ]
  },
  {
   "cell_type": "code",
   "execution_count": 89,
   "metadata": {},
   "outputs": [],
   "source": [
    "def get_content_cnn(url):\n",
    "    page = get_page(url)\n",
    "    return \" \".join([\n",
    "        el.text\n",
    "        for el in cnn_page.find(\"div[itemprop='articleBody'] [class^='zn-body__paragraph']\")\n",
    "        if el.text is not None\n",
    "    ])"
   ]
  },
  {
   "cell_type": "code",
   "execution_count": 90,
   "metadata": {},
   "outputs": [
    {
     "name": "stdout",
     "output_type": "stream",
     "text": [
      "New York (CNN Business)Tesla CEO Elon Musk made some splashy announcements Thursday. But he also delivered some bad news for investors. Here's what he said: 1. Cheaper Model 3: Tesla (TSLA) is finally releasing a pared-down version of its Model 3 sedan. The price tag: $35,000. The base model will have 220 miles of range, a top speed of 130 mph and it will accelerate from 0 to 60 miles per hour in 5.6 seconds. Delivery will take two to four weeks, according to Tesla's website. It's also selling a higher performance, long range version, called the Standard Range Plus. That offers more range and faster speed, and it costs $2,000 more before incentives. \"For 6% more money, you get 9% more range, more power, and an upgraded interior,\" Tesla said in a blog post. 2. Store closures: Musk said Tesla is closing most of its stores and laying off retail workers to make it financially possible to produce the cheaper model. That means all Tesla purchases will be done online. Musk said a \"small number of stores in \"high-traffic locations\" will remain open as galleries and information centers where customers can see the cars in person and ask questions. 3. New return policy: Because of its new purchase policy, Tesla said it will make returning cars easier for customers. Buyers will have seven days or 1,000 miles during which they can return the car for a refund. While returns are the norm for most products, they're nearly unheard of for new cars which lose significant value as soon as they're driven by an owner. 4. Service improvements: At the same time, Tesla is trying to improve what has been the most-criticized part of the Tesla ownership experience: getting the cars serviced. The company is aiming for \"same-day, if not same-hour service.\" Tesla said that in most cases, the company will come to the customer to service the car, rather than have the customer come to a Tesla service center. 5. Profit warning: Musk said Tesla probably won't turn a profit for the first quarter of 2019 — but Tesla could be in the black by the second quarter. CNN Business' Peter Valdes-Dapena contributed to this report.\n"
     ]
    }
   ],
   "source": [
    "print(\n",
    "    get_content_cnn(\"https://www.cnn.com/2019/02/26/tech/elon-musk-sec-tweet/index.html\")\n",
    ")"
   ]
  },
  {
   "cell_type": "markdown",
   "metadata": {},
   "source": [
    "# usa-today"
   ]
  },
  {
   "cell_type": "code",
   "execution_count": 8,
   "metadata": {},
   "outputs": [],
   "source": [
    "# api.api.get_everything(q=\"tesla\", sources=\"usa-today\")\n",
    "usatoday_url = \"https://eu.usatoday.com/story/money/cars/2019/03/15/tesla-model-y-elon-musk/3174311002/\"\n",
    "usatoday_page = get_page(usatoday_url)"
   ]
  },
  {
   "cell_type": "code",
   "execution_count": null,
   "metadata": {},
   "outputs": [],
   "source": [
    "usatoday_text = "
   ]
  },
  {
   "cell_type": "code",
   "execution_count": 15,
   "metadata": {},
   "outputs": [
    {
     "name": "stdout",
     "output_type": "stream",
     "text": [
      "The ho-hum reaction to Tesla's new electric SUV is, oddly enough, exactly what the company needs. Tesla CEO Elon Musk delivered no surprises Thursday night when he revealed the company's brand new electric SUV, the Model Y. But for a company that needs a little less pizzazz and a little more substance to make good on its promise to become a sustainable force in the auto industry, the Model Y hit the right marks. It's essentially a crossover version of the Tesla Model 3 compact car, bearing the design hallmarks of a hatchback and sharing the same architectural platform as its car sibling. That Tesla devotees weren't rewarded with sizzling new features on the Model Y illustrates that the company is getting serious about selling vehicles. After all, a compact SUV is precisely what Americans want: a driveable vehicle that puts safety first and flash second. Versions with five and seven seats will be available, with starting prices ranging from $39,000 for the base version to $60,000 for a performance model. If Musk had tried to break new technological barriers or adopt outlandish styling on the Model Y, he would have risked making the vehicle too difficult to manufacture and unappealing to conventional SUV buyers.   \"The Model Y appears to be exactly what Tesla needs it to be — and SUV version of the Model 3,\" said Mike Ramsey, an analyst at technology research firm Gartner who tracks Tesla, in an email. \"With a lower cost and better range, I expect it will be very popular.\" Musk, in fact, predicted that the Model Y will eventually outsell the Model 3, Model X SUV and Model S sedan combined. That would require sales to soar well over half a million vehicles. J.D. Power reports that Americans purchased 1.4 million SUVs in the range of $40,000 to $90,000 in 2018. The first-available model will start at $47,000 and arrive in fall 2020. You can place a refundable deposit of $2,500 to secure your place in line when the vehicle becomes available. The base model of the Model Y — the $39,000 version — won't be available until \"sometime in 2021,\" Musk said. Families can make the Model Y their primary vehicle since the battery range goes from 230 miles to 300 miles depending on the version. That stacks up well against other EVs on the market, such as the Chevrolet Bolt's 238 and the Hyundai Kona's 258. And while techies might not find the Model Y exhilarating, it will come equipped with software and sensors capable of autonomous driving, whenever it becomes legal. But buyers will have to pay for the system upgrade of $3,000 to $5,000. New Tesla features: Tesla CEO Elon Musk reveals electric SUV What it's like to buy and own a Tesla: Has this Model 3 owner's yearning been fulfilled? The biggest challenge for Tesla is convincing buyers to wait for the Model Y. Shoppers aren't accustomed to waiting a year and a half for a new ride — especially not if they need to replace their primary vehicle. But for anyone who wants to feel the Tesla buzz for the first time, it might be worth the wait. There's one big caveat, however: Tesla is famous for missing its own production goals. Is the company capable of delivering on time? \"We remain concerned about the manufacturing timeline,\" Sanford Bernstein analyst A.M. (Toni) Sacconaghi, Jr. wrote Friday. The Model 3 production ramp-up in 2017 and 2018 was very slow, causing steep losses and raising questions about Tesla's future. The company eventually figured it out, though critics have noted lingering quality challenges that caused Consumer Reports to drop its recommendation of the car. \"I really think the difficulty and value of manufacturing is underappreciated,\" Musk said Thursday. \"It's relatively easy to make a prototype and extremely difficult to mass manufacture a vehicle reliably and at scale.\" If he's absorbed those lessons the hard way, then the Model Y could stay on schedule. Dan Ives, stock analyst at Wedbush Securities, suggested that Tesla might have learned not to over promise. \"We believe Tesla is being conservative with its targets to avoid any of the well-documented production headaches it faced with the Model 3 coming out,\" Ives wrote Friday. Follow USA TODAY reporter Nathan Bomey on Twitter @NathanBomey. \n"
     ]
    }
   ],
   "source": [
    "usatoday_text = \" \".join([\n",
    "    el.text\n",
    "    for el in usatoday_page.find(\"div[class='article-wrapper'] p\")\n",
    "])\n",
    "\n",
    "print(usatoday_text)"
   ]
  },
  {
   "cell_type": "code",
   "execution_count": 23,
   "metadata": {},
   "outputs": [],
   "source": [
    "def get_content_usatoday(url):\n",
    "    page = get_page(url)\n",
    "    return \" \".join([\n",
    "        el.text\n",
    "        for el in page.find(\"article div[class='article-wrapper'] p\")\n",
    "        if el.text is not None\n",
    "    ])"
   ]
  },
  {
   "cell_type": "code",
   "execution_count": 24,
   "metadata": {},
   "outputs": [
    {
     "name": "stdout",
     "output_type": "stream",
     "text": [
      "Tesla's stock sank nearly 4 percent on Thursday after Consumer Reports said it was pulling its recommendation of the company’s Model 3 due to declining reliability. The consumer watchdog organization, which just released its 10 best cars, SUVs and pickups, said it can no longer recommend the Tesla Model 3 electric sedan after noticing substantive manufacturing defects, including \"loose body trim\" and \"glass defects,\" such as windows cracking too easily. Tesla CEO Elon Musk has argued that the company is repeatedly improving the Model 3 through manufacturing changes and software upgrades. But the company's aggressive move to accelerate the pace of production in 2018 may have caused some issues, according to Jake Fisher, senior director of auto testing for Consumer Reports. Yet \"people who have told us they have problems with the car have also told us they’re very satisfied with the car,\" Fisher said. Driving modes: 'Romance mode' puts a roaring fire inside your Tesla for Valentine’s Day and beyond Tesla competition: Tesla shares slide after Amazon invests in self-driving company, Aurora That reflects the popularity of the Tesla brand and its position as a status symbol for many buyers, he said. \"You may not be buying a Tesla Model 3 because you want the most reliable car,\" Fisher said. As a brand, Tesla ranked 19th, just behind Buick and just ahead of Ford on Consumer Report's annual list of best new vehicles. Subaru ranked first overall among 33 brands, followed by four luxury brands: Genesis, Porsche, Audi and Lexus. Tesla said in a statement that its cars are \"the safest and best performing vehicles available today.\" \"We’re setting an extremely high bar for Model 3. We have already made significant improvements to correct any issues that Model 3 customers may have experienced that are referenced in this report, and our return policy allows any customer who is unhappy with their car to return it for a full refund,\" the company said. Tesla’s stock fell 3.7 percent to $291.23, the lowest close since Jan. 23, according to Bloomberg. Follow Dalvin Brown on Twitter: @Dalvin_Brown  \n"
     ]
    }
   ],
   "source": [
    "print(\n",
    "    get_content_usatoday(\"https://eu.usatoday.com/story/money/cars/2019/02/21/tesla-stock-falls-after-model-3-loses-consumer-reports-recommendation/2944179002/\")\n",
    ")"
   ]
  },
  {
   "cell_type": "markdown",
   "metadata": {},
   "source": [
    "# business-insider"
   ]
  },
  {
   "cell_type": "code",
   "execution_count": 28,
   "metadata": {},
   "outputs": [],
   "source": [
    "#api.api.get_everything(q=\"tesla\", sources=\"business-insider\")\n",
    "bussinessinsider_url = \"https://www.businessinsider.com/tesla-has-reportedly-not-decided-where-it-will-build-the-model-y-2019-3?IR=T\"\n",
    "bussinessinsider_page = get_page(bussinessinsider_url)"
   ]
  },
  {
   "cell_type": "code",
   "execution_count": 36,
   "metadata": {},
   "outputs": [
    {
     "data": {
      "text/plain": [
       "'Tesla has not decided where it will build its Model Y crossover SUV, which it is expected to unveil March 14, CNBC reports, citing six current and former employees. Tesla executives are said to be considering two locations for Model Y production: the Gigafactory in Reno, Nevada — where the automaker makes batteries and drive units — and its vehicle assembly plant in Fremont, California. The Fremont option would reportedly involve merging the production lines for the Model S sedan and the Model X SUV. Two employees of Tesla vendors told CNBC that Tesla contacted their companies about assisting with Model Y production only after Tesla CEO Elon Musk\\'s Sunday tweet announcing the date of the Model Y unveiling. Read more: Tesla says it will unveil the Model Y this month — here\\'s everything we know about the vehicle so far Tesla declined Business Insider\\'s request for comment, but CNBC says the automaker directed it toward the carmaker\\'s fourth-quarter earnings letter from January, in which it said Model Y production would most likely occur at the Gigafactory. Tesla also said in the letter that it intended to begin volume production of the vehicle by the end of 2020. During Tesla\\'s fourth-quarter earnings call, Musk reiterated the letter\\'s prediction that Tesla would most likely produce the Model Y at the Gigafactory. \"The Model Y, we think, most likely will be produced at Gigafactory, but that\\'s — unless we encounter some obstacle — that\\'s the default plan that we\\'re proceeding towards,\" Musk said during the call. Business Insider reported in December that Tesla planned to produce 7,000 Model Ys a week at the Nevada Gigafactory, known as Gigafactory 1, by December 20, 2020, and 5,000 Model Ys a week at its coming factory in China, known as Gigafactory 3, by February 2021. A Tesla representative said at the time that documents viewed by Business Insider describing the production timeline were out of date. The Model Y will be Tesla\\'s second SUV, after the Model X. Musk has said it will share about 75% its parts with the Model 3 sedan while being about 10% larger and more expensive than the Model 3. The internal Tesla documents reviewed by Business Insider said the Model Y would have some features absent from the Model 3, like a third row of seats, an IP Riser, and a center console riser. Have a Tesla news tip? Contact this reporter at mmatousek@businessinsider.com.'"
      ]
     },
     "execution_count": 36,
     "metadata": {},
     "output_type": "execute_result"
    }
   ],
   "source": [
    "\" \".join([\n",
    "    el.text\n",
    "    for el in bussinessinsider_page.find(\"div[data-piano-inline-content-wrapper] p\")\n",
    "    if el.text is not None\n",
    "])"
   ]
  },
  {
   "cell_type": "code",
   "execution_count": 37,
   "metadata": {},
   "outputs": [],
   "source": [
    "def get_content_bussinessinsider(url):\n",
    "    page = get_page(url)\n",
    "    return \" \".join([\n",
    "        el.text\n",
    "        for el in page.find(\"div[data-piano-inline-content-wrapper] p\")\n",
    "        if el.text is not None\n",
    "    ])"
   ]
  },
  {
   "cell_type": "code",
   "execution_count": 38,
   "metadata": {},
   "outputs": [
    {
     "name": "stdout",
     "output_type": "stream",
     "text": [
      "Tesla has accused four former employees who now work at the robo-taxi startup Zoox of stealing proprietary information and trade secrets. In a lawsuit filed Wednesday in the US district court for Northern California, Tesla said the theft helped Zoox \"leapfrog past years of work needed to develop and run its own warehousing, logistics, and inventory control operations.\" Zoox did not immediately respond to a request for comment. Tesla says the employees — Craig Emigh, Christian Dement, Sydney Cooper, and Scott Turner — violated terms of their employment contracts with the electric car maker when they forwarded confidential information from work email accounts to personal addresses and hired former coworkers from Tesla. \"As a condition of their employment, all of the Individual Defendants agreed to maintain the confidentiality of Tesla's information and to avoid poaching Tesla's employees within one year of their departure,\" the lawsuit says. According to court documents, Turner forwarded internal inventory documents and other company schematics from his Tesla email to a personal address with the note \"you sly dog\" about one month before resigning. On the same day, Tesla alleges, he sent more confidential documents with the note \"ooooh man... so much time and effort. Loved every second of it though.\" Dement, a former Tesla warehouse supervisor, also forwarded documents to his personal email address, Tesla claims, with the subject line \"good stuff.\" Allegedly it was a slip up by Emigh, however, that led to Tesla learning about the activity. \"After Defendant Emigh joined Zoox, he mistakenly sent an email to Cooper's old Tesla email address, attaching a modified version of a Tesla proprietary document, freshly-emblazoned with the Zoox logo, yet still bearing the layout, design, and other vestiges of the Tesla version - showing, without doubt, that the Defendants are actively using the Tesla information they stole,\" Tesla said in the suit. The four accused employees have not responded to requests for comment from Business Insider. Tesla has sued former employees before. CEO Elon Musk in 2018 accused Martin Tripp, a self-identified whistleblower, of sabotaging the company by leaking confidential information to Business Insider. Tripp maintains he never hacked the information, and only shared it out of concern for public safety. More than 100 former Tesla employees now work for Foster City-based Zoox, according to LinkedIn. Now four years old, Zoox recently installed Intel veteran Aicha Evans as CEO after ousting its founder in August. The company, now worth $3.2 billion, has raised $790 million in venture capital to date. \"The theft here was blatant and intentional,\" Tesla said in the filing. \"In the process, they misappropriated Tesla's trade secrets, violated their agreements with Tesla, and breached their duties of loyalty, all with the knowledge and support of Zoox.\" \n"
     ]
    }
   ],
   "source": [
    "print(\n",
    "    get_content_bussinessinsider(\"https://www.businessinsider.com/tesla-sues-former-employees-zoox-alleging-theft-of-confidential-info-2019-3?IR=T\")\n",
    ")"
   ]
  },
  {
   "cell_type": "markdown",
   "metadata": {},
   "source": [
    "# the-new-york-times"
   ]
  },
  {
   "cell_type": "code",
   "execution_count": 43,
   "metadata": {},
   "outputs": [],
   "source": [
    "#api.api.get_everything(q=\"tesla\", sources=\"the-new-york-times\")\n",
    "thenewyorktimes_url = \"https://www.nytimes.com/2019/03/11/business/tesla-raising-prices.html\"\n",
    "thenewyorktimes_page = get_page(thenewyorktimes_url)"
   ]
  },
  {
   "cell_type": "code",
   "execution_count": 46,
   "metadata": {},
   "outputs": [
    {
     "name": "stdout",
     "output_type": "stream",
     "text": [
      "Just days after saying that it would close most of its stores, Tesla is making an abrupt U-turn. In a message posted on its blog just before midnight Sunday, the electric-car maker said it had decided to retain many of the locations it had shut down or was planning to close. And it said it would raise most of its vehicle prices about 3 percent worldwide, just weeks after cutting prices. “Over the past two weeks we have been closely evaluating every single Tesla retail location, and we have decided to keep significantly more stores open than previously announced as we continue to evaluate them over the course of several months,” the company said in the blog post. The price increases, it said, are necessary to make up for the loss of savings that was anticipated from the store closings. The flip-flops are the latest sign of turmoil surrounding the company and its chief executive, Elon Musk. “This reversal is bizarre and indicates a lack of actual planning in the earlier announcement,” said Mike Ramsey, a Gartner analyst. “Their retail stores still serve a real need.” Until last month, Tesla had been rushing to expand its network of showrooms and mall galleries, which display its cars but take no customer orders. On Feb. 28, Mr. Musk told reporters in a conference call that Tesla would start offering a long-awaited version of its Model 3 sedan with a starting price of $35,000. Previously, the least expensive Model 3 cost $43,000 before tax incentives. Mr. Musk said closing its stores would allow Tesla to cut costs enough to make the Model 3 profitable at the lower price. But he would not elaborate on those calculations, and he said Tesla would lose money in the first quarter, contrary to previous forecasts. As part of the cost cutting, he said, Tesla would henceforth take orders only online. Tesla affirmed the online approach in its announcement Sunday night, saying its stores would serve as a way to introduce potential buyers to Tesla vehicles, provide a test drive on request — another reversal from its earlier announcement — and show how to make a purchase. “Stores will also carry a small number of cars in inventory for customers who wish to drive away with a Tesla immediately,” it added. In a recent email to employees, Mr. Musk said 78 percent of Model 3 orders were already placed online. Buyers can get full refunds if they return cars within seven days and have driven them less than 1,000 miles. Tesla has been in retreat in recent months, scrambling to shore up flagging investor confidence. Along with layoffs of 7 percent of its work force in January, the news of store closings appeared to underline the challenges for a newcomer breaking into an old-line manufacturing industry. The company has struggled to make a few thousand cars in a week — a feat that established automakers can do in a day. Asked to elaborate on the company’s latest moves, a Tesla spokesman declined to comment. The weeks of tension have taken a toll on Tesla shares. On Monday they rose 2.4 percent, closing at $290.92, but they are down 9 percent since Mr. Musk said the company would be unprofitable in the first quarter. The twists on the marketing front have coincided with renewed upheaval surrounding Mr. Musk himself. Less than a month ago, Tesla’s general counsel quit a day after Mr. Musk said on Twitter that the company expected to sell 500,000 cars this year, an increase of 100,000 from the estimate it made public in January. The Securities and Exchange Commission contended that the tweet violated an agreement it had reached with Tesla in September to settle a securities-fraud case, and it asked a federal court to hold Mr. Musk in contempt. Under the settlement, the company was to “put in place additional controls and procedures” to oversee Mr. Musk’s communications. In a response filed with the court on Monday, Mr. Musk’s lawyers argued that there were no grounds for a contempt citation. They said that the Tesla chief “correctly used his discretion” to determine that nothing in his Twitter post was material and that “under no fair reading of the materiality standard” did the post alter the information available to investors. The response also said that a contempt citation “would raise serious First Amendment issues” and that the S.E.C.’s request represented “unprecedented overreach.” Even with its financial and regulatory challenges, the company is moving ahead on new initiatives. On Thursday, Mr. Musk is scheduled to unveil the Model Y, a sport utility vehicle that Tesla is counting on to fuel further growth. David Whiston, a Morningstar analyst, said the big question for Tesla’s business prospects was when the Model Y would be available for sale. “Thursday is just for show,” he said. And in a move meant to address its logistical challenges in delivering cars to customers, Tesla said in a filing with the S.E.C. on Monday that it had purchased trucks and car-hauling trailers from a California company in exchange for stock worth $13.8 million. In November, Mr. Musk said on Twitter that Tesla had bought “some trucking companies,” but provided no details. Mr. Musk has portrayed the Model 3 as a mass-market offering crucial to Tesla’s future. In the last three months of 2018, Tesla opened 27 sales and service locations to keep up with rising demand. Over all, the company had more than 100 stores and showrooms in the United States, and others overseas. In its announcement Sunday night, Tesla said it had already closed 10 percent of its locations. Those stores did not have “natural foot traffic,” it said, though some will reopen with a smaller staff. The company said an additional 20 percent were under review for potential closing in the coming months. The automaker also said the $35,000 version of the Model 3 would not be affected by the price increases. They will apply to the higher-end Model X and Model S — cars on which Tesla only recently had been dropping prices — as well as for more expensive versions of the Model 3. The company said customers would have a week to place orders at current prices.\n"
     ]
    }
   ],
   "source": [
    "thenewyorktimes_text = \" \".join([\n",
    "    el.text\n",
    "    for el in thenewyorktimes_page.find(\"section[name='articleBody'] p\")\n",
    "    if el.text is not None\n",
    "])\n",
    "print(thenewyorktimes_text)"
   ]
  },
  {
   "cell_type": "code",
   "execution_count": 47,
   "metadata": {},
   "outputs": [],
   "source": [
    "def get_content_thenewyorktimes(url):\n",
    "    page = get_page(url)\n",
    "    return \" \".join([\n",
    "        el.text\n",
    "        for el in thenewyorktimes_page.find(\"section[name='articleBody'] p\")\n",
    "        if el.text is not None\n",
    "    ])"
   ]
  },
  {
   "cell_type": "code",
   "execution_count": 48,
   "metadata": {},
   "outputs": [
    {
     "name": "stdout",
     "output_type": "stream",
     "text": [
      "Just days after saying that it would close most of its stores, Tesla is making an abrupt U-turn. In a message posted on its blog just before midnight Sunday, the electric-car maker said it had decided to retain many of the locations it had shut down or was planning to close. And it said it would raise most of its vehicle prices about 3 percent worldwide, just weeks after cutting prices. “Over the past two weeks we have been closely evaluating every single Tesla retail location, and we have decided to keep significantly more stores open than previously announced as we continue to evaluate them over the course of several months,” the company said in the blog post. The price increases, it said, are necessary to make up for the loss of savings that was anticipated from the store closings. The flip-flops are the latest sign of turmoil surrounding the company and its chief executive, Elon Musk. “This reversal is bizarre and indicates a lack of actual planning in the earlier announcement,” said Mike Ramsey, a Gartner analyst. “Their retail stores still serve a real need.” Until last month, Tesla had been rushing to expand its network of showrooms and mall galleries, which display its cars but take no customer orders. On Feb. 28, Mr. Musk told reporters in a conference call that Tesla would start offering a long-awaited version of its Model 3 sedan with a starting price of $35,000. Previously, the least expensive Model 3 cost $43,000 before tax incentives. Mr. Musk said closing its stores would allow Tesla to cut costs enough to make the Model 3 profitable at the lower price. But he would not elaborate on those calculations, and he said Tesla would lose money in the first quarter, contrary to previous forecasts. As part of the cost cutting, he said, Tesla would henceforth take orders only online. Tesla affirmed the online approach in its announcement Sunday night, saying its stores would serve as a way to introduce potential buyers to Tesla vehicles, provide a test drive on request — another reversal from its earlier announcement — and show how to make a purchase. “Stores will also carry a small number of cars in inventory for customers who wish to drive away with a Tesla immediately,” it added. In a recent email to employees, Mr. Musk said 78 percent of Model 3 orders were already placed online. Buyers can get full refunds if they return cars within seven days and have driven them less than 1,000 miles. Tesla has been in retreat in recent months, scrambling to shore up flagging investor confidence. Along with layoffs of 7 percent of its work force in January, the news of store closings appeared to underline the challenges for a newcomer breaking into an old-line manufacturing industry. The company has struggled to make a few thousand cars in a week — a feat that established automakers can do in a day. Asked to elaborate on the company’s latest moves, a Tesla spokesman declined to comment. The weeks of tension have taken a toll on Tesla shares. On Monday they rose 2.4 percent, closing at $290.92, but they are down 9 percent since Mr. Musk said the company would be unprofitable in the first quarter. The twists on the marketing front have coincided with renewed upheaval surrounding Mr. Musk himself. Less than a month ago, Tesla’s general counsel quit a day after Mr. Musk said on Twitter that the company expected to sell 500,000 cars this year, an increase of 100,000 from the estimate it made public in January. The Securities and Exchange Commission contended that the tweet violated an agreement it had reached with Tesla in September to settle a securities-fraud case, and it asked a federal court to hold Mr. Musk in contempt. Under the settlement, the company was to “put in place additional controls and procedures” to oversee Mr. Musk’s communications. In a response filed with the court on Monday, Mr. Musk’s lawyers argued that there were no grounds for a contempt citation. They said that the Tesla chief “correctly used his discretion” to determine that nothing in his Twitter post was material and that “under no fair reading of the materiality standard” did the post alter the information available to investors. The response also said that a contempt citation “would raise serious First Amendment issues” and that the S.E.C.’s request represented “unprecedented overreach.” Even with its financial and regulatory challenges, the company is moving ahead on new initiatives. On Thursday, Mr. Musk is scheduled to unveil the Model Y, a sport utility vehicle that Tesla is counting on to fuel further growth. David Whiston, a Morningstar analyst, said the big question for Tesla’s business prospects was when the Model Y would be available for sale. “Thursday is just for show,” he said. And in a move meant to address its logistical challenges in delivering cars to customers, Tesla said in a filing with the S.E.C. on Monday that it had purchased trucks and car-hauling trailers from a California company in exchange for stock worth $13.8 million. In November, Mr. Musk said on Twitter that Tesla had bought “some trucking companies,” but provided no details. Mr. Musk has portrayed the Model 3 as a mass-market offering crucial to Tesla’s future. In the last three months of 2018, Tesla opened 27 sales and service locations to keep up with rising demand. Over all, the company had more than 100 stores and showrooms in the United States, and others overseas. In its announcement Sunday night, Tesla said it had already closed 10 percent of its locations. Those stores did not have “natural foot traffic,” it said, though some will reopen with a smaller staff. The company said an additional 20 percent were under review for potential closing in the coming months. The automaker also said the $35,000 version of the Model 3 would not be affected by the price increases. They will apply to the higher-end Model X and Model S — cars on which Tesla only recently had been dropping prices — as well as for more expensive versions of the Model 3. The company said customers would have a week to place orders at current prices.\n"
     ]
    }
   ],
   "source": [
    "print(\n",
    "    get_content_thenewyorktimes(\"https://www.nytimes.com/2019/03/15/business/tesla-model-y.html\")\n",
    ")"
   ]
  },
  {
   "cell_type": "markdown",
   "metadata": {},
   "source": [
    "# fox-news"
   ]
  },
  {
   "cell_type": "code",
   "execution_count": 3,
   "metadata": {},
   "outputs": [],
   "source": [
    "# api.api.get_everything(q=\"tesla\", sources=\"fox-news\")\n",
    "foxnews_url = \"https://www.foxnews.com/auto/driver-killed-in-fiery-tesla-accident-in-florida-after-crashing-into-trees\"\n",
    "foxnews_page = get_page(foxnews_url)"
   ]
  },
  {
   "cell_type": "code",
   "execution_count": 23,
   "metadata": {},
   "outputs": [
    {
     "name": "stdout",
     "output_type": "stream",
     "text": [
      "None\n",
      "None\n",
      "None\n",
      "<Element 'strong' >\n",
      "None\n",
      "None\n",
      "None\n",
      "None\n",
      "None\n",
      "None\n"
     ]
    }
   ],
   "source": [
    "for el in foxnews_page.find(\"div[class='article-body'] p\"):\n",
    "    print(el.find(\"strong\", first=True))"
   ]
  },
  {
   "cell_type": "code",
   "execution_count": 22,
   "metadata": {},
   "outputs": [
    {
     "data": {
      "text/plain": [
       "'A Tesla Model S caught fire during a fatal crash in Davie, Fla., on Sunday and reignited several times in the tow yard that police sent it to later in the day. Omar Awan was killed after his car lost control and drove into a row of palm trees on Flamingo Road in Davie as it was traveling at speeds between 75 and 90 mph, according to police. The Associated Press reported that an emergency responder tried to break a window to extract Awan from the burning car, but was unsuccessful. A self-proclaimed witness to the event told WPLG news that the doors couldn’t be opened and that the driver was trapped by the airbags, but her account has yet to be corroborated by officials. Fire crews were then called to the tow yard three times overnight as the battery pack reignited, which is a frequent occurrence in the aftermath of electric car fires. “We have a problem where the car keeps catching fire because the battery pack itself hasn’t drained yet,” Davie Fire Rescue Battalion Chief Robert Diferdinando told the Sun-Sentinel. Diferdinando said that the department was working with Tesla to address the issue, and borrowing a special extinguisher from another agency designed to handle this type of fire. Tesla issued a statement to media outlets that said: \"We are deeply saddened by this accident and our thoughts are with everyone affected by this tragedy. We have reached out to the local authorities to offer our cooperation. We understand that speed is being investigated as a factor in this crash, and know that high-speed collisions can result in a fire in any type of car, not just\\xa0electric vehicles.\" An investigation into the incident is ongoing.'"
      ]
     },
     "execution_count": 22,
     "metadata": {},
     "output_type": "execute_result"
    }
   ],
   "source": [
    "\" \".join([el.text\n",
    "for el in foxnews_page.find(\"div[class='article-body'] p\")\n",
    "if el.text is not None and el.find(\"strong\") == list()])"
   ]
  },
  {
   "cell_type": "code",
   "execution_count": 29,
   "metadata": {},
   "outputs": [],
   "source": [
    "def get_content_foxnews(url):\n",
    "    page = get_page(url)\n",
    "    return \" \".join([el.text\n",
    "        for el in page.find(\"div[class='article-body'] > p\")\n",
    "        if el.text is not None and el.find(\"strong\", first=True) is None # Pomijamy nagłówki innych artykułów wplecione w tekst -- są one pogrubiane\n",
    "    ])"
   ]
  },
  {
   "cell_type": "code",
   "execution_count": 30,
   "metadata": {},
   "outputs": [
    {
     "name": "stdout",
     "output_type": "stream",
     "text": [
      "Less than two weeks after announcing a 6 percent price drop across its lineup facilitated by a switch to online sales and the closure of many of its retail locations, Tesla is raising prices again and keeping the lights on in more of the stores than expected. The automaker said on Sunday that prices will rise by an average of 3 percent, except for on the recently launched $35,000 Model 3, which will not be changed. The new prices go into effect on March 18. The move comes after an evaluation that led the company to decide to shutter less than half of the brick and mortar outlets worldwide than planned. However, 20 percent of the stores remain under review and could be closed in the coming months. Tesla also said that, despite the switch to online ordering and sales, several of the outlets will keep a supply of vehicles on hand for immediate delivery. Following the initial price adjustment, which ran into the tens of thousands of dollars on some models, a number of current Tesla owners voiced their concerns that the change would reduce the resale value of their vehicles. Tesla has scheduled the reveal of its next vehicle, the Model Y, on March 14. The small SUV is expected to go on sale in late 2020.\n"
     ]
    }
   ],
   "source": [
    "print(\n",
    "    get_content_foxnews(\"https://www.foxnews.com/auto/tesla-backtracks-on-price-drop-will-raise-prices-on-most-models-again\")\n",
    ")"
   ]
  },
  {
   "cell_type": "markdown",
   "metadata": {},
   "source": [
    "# abc-news"
   ]
  },
  {
   "cell_type": "code",
   "execution_count": 4,
   "metadata": {},
   "outputs": [],
   "source": [
    "# api.api.get_everything(q=\"tesla\", sources=\"abc-news\")\n",
    "url = \"https://abcnews.go.com/US/wireStory/man-dies-tesla-crashes-semitrailer-florida-61422512\"\n",
    "page = get_page(url)"
   ]
  },
  {
   "cell_type": "code",
   "execution_count": 5,
   "metadata": {},
   "outputs": [
    {
     "name": "stdout",
     "output_type": "stream",
     "text": [
      "Authorities say a Florida man died after crashing a Tesla into a semitrailer.\n",
      "A Palm Beach County Sheriff's Office report says the crash occurred Friday morning in Delray Beach.\n",
      "The report says the truck was making a left turn onto a divided highway to head north when the southbound 2018 Tesla 3 hit the semi's driver side, causing the Tesla's roof to tear off as it passed under the trailer. The Tesla's driver, 50-year-old Jeremy Beren Banner, died at the scene.\n",
      "The report didn't say whether the Tesla's autopilot or automatic emergency brakes were engaged.\n",
      "The car manufacturer released a statement saying they're cooperating with authorities.\n",
      "The crash comes less than a week after a Tesla left the road in Davie, Florida, and caught fire after crashing.\n"
     ]
    }
   ],
   "source": [
    "for el in page.find(\"div[id='articleBody'] p\"):\n",
    "    print(el.text)"
   ]
  },
  {
   "cell_type": "code",
   "execution_count": 6,
   "metadata": {},
   "outputs": [],
   "source": [
    "def get_content_abcnews(url):\n",
    "    page = get_page(url)\n",
    "    return \" \".join([\n",
    "        el.text\n",
    "        for el in page.find(\"div[id='articleBody'] p\")\n",
    "        if el.text is not None\n",
    "    ])"
   ]
  },
  {
   "cell_type": "code",
   "execution_count": 7,
   "metadata": {},
   "outputs": [
    {
     "name": "stdout",
     "output_type": "stream",
     "text": [
      "A second federal agency is dispatching investigators to a fatal crash involving a Tesla electric car that drove beneath a semitrailer that was crossing a Florida roadway. The National Highway Traffic Safety Administration, which has authority to seek recalls, issue fines and set regulations, said Saturday that it will send a \"field team\" to Delray Beach, where 50-year-old Jeremy Beren Banner was killed in the crash Friday. The crash is eerily similar to another one involving a Tesla in 2016 near Gainesville, Florida. A different agency, the National Transportation Safety Board, said Friday that it would send a three-person team to the crash. The NTSB makes recommendations to prevent crashes. Both agencies likely will be looking into whether Tesla's Autopilot semiautonomous driving system was in use on Banner's Tesla Model 3 at the time. Neither agency could say Saturday whether the system was in use. NHTSA said in a statement that it \"will take additional actions if appropriate,\" without specifying what those actions could be. The agency also said it has an investigation underway into a Feb. 24 fatal crash and fire involving a Tesla Model S sedan in nearby Davie, Florida. Terry Williams, a spokesman for the NTSB, said he did not know yet exactly what the agency will be investigating. \"We're looking at everything at this point,\" he said. A report on the Delray Beach crash by the Palm Beach County Sheriff's Office said the tractor-trailer was making a left turn onto a divided highway to head north when the southbound 2018 Tesla Model 3 hit the semi's driver side, tearing off the Tesla's roof as it passed under the trailer. The report didn't say whether the Autopilot or automatic emergency braking systems were working at the time. A Tesla spokeswoman would not comment Saturday. The company said in a statement Friday that it's cooperating in the investigation. The circumstances of the crash are much like one that occurred in May 2016 near Gainesville, Florida. Joshua Brown, 40, of Canton, Ohio, was traveling in a Tesla Model S on a divided highway and using the Autopilot system when he was killed. Neither Brown nor the car braked for a tractor-trailer, which had turned left in front of the Tesla and was crossing its path. Brown's Tesla also went beneath the trailer and its roof was sheared off. The NTSB, in a 2017 report, wrote that design limitations of Autopilot system played a major role in the fatality, the first known one in which a vehicle operated on a highway under semi-autonomous control systems. The agency said that Tesla told Model S owners that Autopilot should be used only on limited-access highways, primarily interstates. The report said that despite upgrades to the system, Tesla did not incorporate protections against use of the system on other types of roads. The NTSB found that the Model S cameras and radar weren't capable of detecting a vehicle turning into its path. Rather, the systems are designed to detect vehicles they are following to prevent rear-end collisions. General Motors has a similar system called \"Super Cruise,\" but it works only on limited-access highways with no cross traffic. Tesla has said that Autopilot and automatic emergency braking are driver-assist systems, and that drivers are told in the owner's manual that they must monitor the road and be ready to take control. In January of 2017, NHTSA ended an investigation into the Brown crash, finding that Tesla's Autopilot system had no safety defects. But the agency warned automakers and drivers not to treat the semi-autonomous driving systems as if they could drive themselves. Semi-autonomous systems vary in capabilities, and Tesla's system can keep a car centered in its lane, brake to stop from hitting things and change lanes when activated by the driver. Williams said he did not know if the NTSB will incorporate the Delray Beach crash into other Tesla investigations from last year. Investigators are probing a fatal March 2018 crash involving a Tesla SUV near Mountain View, California. That vehicle was operating on Autopilot. In addition, the NTSB is investigating the crash of a Model S that may have been using Autopilot when it hit a parked firetruck on Interstate 405 near Los Angeles. The driver told authorities the Autopilot was working. NHTSA also is looking into a May 11 crash involving a Tesla Model S near Salt Lake City. Autopilot was in use when the car hit a stopped fire department truck.\n"
     ]
    }
   ],
   "source": [
    "print(\n",
    "    get_content_abcnews(\"https://abcnews.go.com/US/wireStory/federal-agency-probe-fatal-florida-tesla-crash-61433522\")\n",
    ")"
   ]
  },
  {
   "cell_type": "markdown",
   "metadata": {},
   "source": [
    "# abc-news-au"
   ]
  },
  {
   "cell_type": "code",
   "execution_count": 9,
   "metadata": {},
   "outputs": [],
   "source": [
    "# api.api.get_everything(q=\"tesla\", sources=\"abc-news-au\")\n",
    "url = \"https://www.abc.net.au/news/2019-02-26/elon-musk-could-be-held-in-contempt-of-court-for-tweet/10851034\"\n",
    "page = get_page(url)"
   ]
  },
  {
   "cell_type": "code",
   "execution_count": 10,
   "metadata": {},
   "outputs": [
    {
     "name": "stdout",
     "output_type": "stream",
     "text": [
      "Updated February 26, 2019 16:32:45\n",
      "The United States Securities and Exchange Commission (SEC) says a federal court should hold Elon Musk in contempt for violating last year's settlement with the federal agency due to new statements made on Twitter, sending shares of the electric carmaker down 5 per cent in extended trade.\n",
      "\n",
      "Mr Musk, Tesla, and the SEC last year settled a lawsuit filed by the federal agency over the chief executive's tweets in August that he planned to take the company private.\n",
      "As part of that settlement, any material statements made by Mr Musk on social media were to be vetted by the company.\n",
      "The regulator pointed to this February 19 tweet from Mr Musk:\n",
      "\n",
      "It noted that Mr Musk did not seek or receive preapproval before publishing this tweet, which was inaccurate and disseminated to over 24 million people.\n",
      "\"Musk has thus violated the Court's Final Judgment by engaging in the very conduct that the preapproval provision of the Final Judgment was designed to prevent,\" the SEC wrote in its motion filed on Monday (local time) in federal court in Manhattan.\n",
      "Mr Musk subsequently clarified his tweet to say that the \"annualised production rate\" at end-2019 would probably be about 500,000, with deliveries expected to be about 400,000.\n",
      "He also went on to defend himself — on Twitter — saying the same figures he quoted in his tweet were available in a Tesla earnings transcript from the end of 2018.\n",
      "\n",
      "The motion asks the judge to issue an order that would put the onus on Mr Musk to show why he should not be held in contempt for violating the settlement.\n",
      "A US judge in October approved the settlement between the federal regulator, Tesla and Mr Musk, over his tweets promising to take the company private.\n",
      "Tesla did not immediately respond to a request for comment.\n",
      "ABC/AP\n",
      "Topics: courts-and-trials, law-crime-and-justice, business-economics-and-finance, united-states\n",
      "First posted February 26, 2019 16:29:31\n"
     ]
    }
   ],
   "source": [
    "for el in page.find(\"div[class='article section'] p\"):\n",
    "    print(el.text)"
   ]
  },
  {
   "cell_type": "code",
   "execution_count": 11,
   "metadata": {},
   "outputs": [],
   "source": [
    "def get_content_abcnewsau(url):\n",
    "    page = get_page(url)\n",
    "    return \" \".join([\n",
    "        el.text\n",
    "        for el in page.find(\"div[class='article section'] p\")\n",
    "        if el.text is not None\n",
    "    ])"
   ]
  },
  {
   "cell_type": "code",
   "execution_count": 12,
   "metadata": {},
   "outputs": [
    {
     "name": "stdout",
     "output_type": "stream",
     "text": [
      "Updated February 26, 2019 16:32:45 The United States Securities and Exchange Commission (SEC) says a federal court should hold Elon Musk in contempt for violating last year's settlement with the federal agency due to new statements made on Twitter, sending shares of the electric carmaker down 5 per cent in extended trade.  Mr Musk, Tesla, and the SEC last year settled a lawsuit filed by the federal agency over the chief executive's tweets in August that he planned to take the company private. As part of that settlement, any material statements made by Mr Musk on social media were to be vetted by the company. The regulator pointed to this February 19 tweet from Mr Musk:  It noted that Mr Musk did not seek or receive preapproval before publishing this tweet, which was inaccurate and disseminated to over 24 million people. \"Musk has thus violated the Court's Final Judgment by engaging in the very conduct that the preapproval provision of the Final Judgment was designed to prevent,\" the SEC wrote in its motion filed on Monday (local time) in federal court in Manhattan. Mr Musk subsequently clarified his tweet to say that the \"annualised production rate\" at end-2019 would probably be about 500,000, with deliveries expected to be about 400,000. He also went on to defend himself — on Twitter — saying the same figures he quoted in his tweet were available in a Tesla earnings transcript from the end of 2018.  The motion asks the judge to issue an order that would put the onus on Mr Musk to show why he should not be held in contempt for violating the settlement. A US judge in October approved the settlement between the federal regulator, Tesla and Mr Musk, over his tweets promising to take the company private. Tesla did not immediately respond to a request for comment. ABC/AP Topics: courts-and-trials, law-crime-and-justice, business-economics-and-finance, united-states First posted February 26, 2019 16:29:31\n"
     ]
    }
   ],
   "source": [
    "print(\n",
    "    get_content_abcnewsau(url)\n",
    ")"
   ]
  },
  {
   "cell_type": "markdown",
   "metadata": {},
   "source": [
    "# al-jazeera-english"
   ]
  },
  {
   "cell_type": "code",
   "execution_count": 14,
   "metadata": {},
   "outputs": [],
   "source": [
    "# api.api.get_everything(q=\"tesla\", sources=\"al-jazeera-english\")\n",
    "url = \"https://www.aljazeera.com/news/2019/03/police-launch-probe-black-man-held-cleaning-yard-190308062754394.html\"\n",
    "page = get_page(url)"
   ]
  },
  {
   "cell_type": "code",
   "execution_count": 15,
   "metadata": {},
   "outputs": [
    {
     "name": "stdout",
     "output_type": "stream",
     "text": [
      "Police in the US state of Colorado have launched an internal investigation following an incident where police officers confronted a man picking up rubbish on his front lawn.\n",
      "In a video of the March 1 incident taken by a neighbour and widely shared on social media, the man is seen confronting three police officers, including one who had his gun drawn.\n",
      "The man repeatedly tells the officers that he lived at the apartment complex, was simply picking up rubbish and was not armed. He also shows the officers his university ID.\n",
      "\"I don't have a weapon. This is a bucket, this is a clamp,\" the man angrily says, showing the items he was using to pick up rubbish.\n",
      "Colorado cops caught on camera pointing guns at a black man picking up trash in his own yard. pic.twitter.com/9FFaLU0BGG\n",
      "\"You're on my property with a gun in your hand threatening to shoot me because I'm picking up trash?\" he is heard screaming in the 16-minute video posted on YouTube.\n",
      "One officer tells the man to \"just relax\" while another orders him to drop the \"weapon\" and sit on the ground.\n",
      "The video was shared on Facebook by Vanardo Merchant, a friend of the man in the video from inside their house.\n",
      "On Facebook, where he shared the video, Merchant wrote that he started filming after the interaction began.\n",
      "He also wrote that \"Zayd [the man in the video] is picking up garage outside of our home and 8 police officers pull up on him with guns [threatening] to shot [shoot] him telling him to put down the 'weapon' [a bucket & rubbish clamps]\".\n",
      "In a statement issued earlier this week, the Boulder Police Department said the man, who has not been identified, was questioned after he was spotted in a partially enclosed patio area to \"determine if he was allowed to be on the property\".\n",
      "It said that the officer who initiated contact had called for backup, indicating that the man was \"uncooperative and unwilling to put down a blunt object\".\n",
      "\"The object the man was holding was used to pick up trash,\" the statement added. \"Officers ultimately determined that the man had a legal right to be on the property and returned the man's school identification card.\"\n",
      "The Boulder Police Department stated on their website that they launched an internal affairs investigation over the incident.\n",
      "It said a review of the incident would take place in 60 to 90 days.\n",
      "\"This is an extremely concerning issue, and one that we are taking very seriously,\" police chief Greg Tesla told a local council meeting on Tuesday.\n",
      "Many who attended the meeting held metal rubbish grabbers and others carried signs that said \"Black Lives Matter\" and \"Doing Yard Work While Black\".\n"
     ]
    }
   ],
   "source": [
    "for el in page.find(\"div[class='article-p-wrapper'] p\"):\n",
    "    print(el.text)"
   ]
  },
  {
   "cell_type": "code",
   "execution_count": 16,
   "metadata": {},
   "outputs": [],
   "source": [
    "def get_content_aljazeeraenglish(url):\n",
    "    page = get_page(url)\n",
    "    return \" \".join([\n",
    "        el.text\n",
    "        for el in page.find(\"div[class='article-p-wrapper'] p\")\n",
    "        if el.text is not None\n",
    "    ])"
   ]
  },
  {
   "cell_type": "code",
   "execution_count": 17,
   "metadata": {},
   "outputs": [
    {
     "name": "stdout",
     "output_type": "stream",
     "text": [
      "Police in the US state of Colorado have launched an internal investigation following an incident where police officers confronted a man picking up rubbish on his front lawn. In a video of the March 1 incident taken by a neighbour and widely shared on social media, the man is seen confronting three police officers, including one who had his gun drawn. The man repeatedly tells the officers that he lived at the apartment complex, was simply picking up rubbish and was not armed. He also shows the officers his university ID. \"I don't have a weapon. This is a bucket, this is a clamp,\" the man angrily says, showing the items he was using to pick up rubbish. Colorado cops caught on camera pointing guns at a black man picking up trash in his own yard. pic.twitter.com/9FFaLU0BGG \"You're on my property with a gun in your hand threatening to shoot me because I'm picking up trash?\" he is heard screaming in the 16-minute video posted on YouTube. One officer tells the man to \"just relax\" while another orders him to drop the \"weapon\" and sit on the ground. The video was shared on Facebook by Vanardo Merchant, a friend of the man in the video from inside their house. On Facebook, where he shared the video, Merchant wrote that he started filming after the interaction began. He also wrote that \"Zayd [the man in the video] is picking up garage outside of our home and 8 police officers pull up on him with guns [threatening] to shot [shoot] him telling him to put down the 'weapon' [a bucket & rubbish clamps]\". In a statement issued earlier this week, the Boulder Police Department said the man, who has not been identified, was questioned after he was spotted in a partially enclosed patio area to \"determine if he was allowed to be on the property\". It said that the officer who initiated contact had called for backup, indicating that the man was \"uncooperative and unwilling to put down a blunt object\". \"The object the man was holding was used to pick up trash,\" the statement added. \"Officers ultimately determined that the man had a legal right to be on the property and returned the man's school identification card.\" The Boulder Police Department stated on their website that they launched an internal affairs investigation over the incident. It said a review of the incident would take place in 60 to 90 days. \"This is an extremely concerning issue, and one that we are taking very seriously,\" police chief Greg Tesla told a local council meeting on Tuesday. Many who attended the meeting held metal rubbish grabbers and others carried signs that said \"Black Lives Matter\" and \"Doing Yard Work While Black\".\n"
     ]
    }
   ],
   "source": [
    "print(\n",
    "    get_content_aljazeeraenglish(url)\n",
    ")"
   ]
  },
  {
   "cell_type": "markdown",
   "metadata": {},
   "source": [
    "# ars-technica"
   ]
  },
  {
   "cell_type": "code",
   "execution_count": 19,
   "metadata": {},
   "outputs": [],
   "source": [
    "# api.api.get_everything(q=\"tesla\", sources=\"ars-technica\")\n",
    "url = \"https://arstechnica.com/cars/2019/03/teslas-self-driving-strategy-is-outdated-and-possibly-dangerous/\"\n",
    "page = get_page(url)"
   ]
  },
  {
   "cell_type": "code",
   "execution_count": 23,
   "metadata": {},
   "outputs": [
    {
     "name": "stdout",
     "output_type": "stream",
     "text": [
      "An overhaul to Tesla's Autopilot webpage might represent the clearest acknowledgment yet that the company has failed to deliver on Elon Musk's ambitious vision for a self-driving future.\n",
      "\"You will be able to summon your Tesla from pretty much anywhere,\" Musk wrote in July 2016. \"Once it picks you up, you will be able to sleep, read or do anything else enroute [sic] to your destination.\" Indeed, he predicted, Tesla customers with full self-driving capabilities will be able to have their cars join a ride-hailing network in order to \"generate income for you while you're at work or on vacation.\"\n",
      "In January 2016, Musk predicted that Tesla cars would be able to drive autonomously coast to coast \"in ~2 years.\"\n",
      "Needless to say, this hasn't happened. And after more than two years of peddling unrealistic visions of Autopilot's future, Tesla's Autopilot page has finally been updated to reflect that reality.\n",
      "The page's headline has changed from \"Full Self-Driving Hardware on All Cars\" to \"Future of Driving.\" A sentence about Tesla's ride-sharing network has been deleted. The \"Full Self-Driving\" section now includes a disclaimer that \"future use of these features without supervision is dependent on achieving reliability far in excess of human drivers as demonstrated by billions of miles of experience.\"\n",
      "In other words, despite Musk's bluster over the years, Autopilot is still just a driver-assistance system. And it will continue to be just a driver-assistance system for some time to come.\n",
      "Musk still wants to gradually improve the safety of this driver-assistance system. Eventually, the technology could become so good that it will no longer require human oversight.\n",
      "But there's reason to doubt that this strategy is going to work. More importantly, there's reason to worry that it could get people killed.\n",
      "In 2014, the same year Tesla started shipping the first generation of Autopilot hardware, the Society of Automotive Engineers published a five-level taxonomy of autonomous driving systems that envisioned driver-assistance systems (known as \"level 2\" in SAE jargon) gradually morphing into fully autonomous systems that could operate without human supervision (levels 4 and 5).\n",
      "But the last five years have seen a dramatic shift in industry thinking. Most companies now see driver assistance and full self-driving as distinct markets.\n",
      "No company has done more to change industry thinking here than Google, whose self-driving project was spun off as Waymo in 2016. Around 2012, Google engineers developed a highway driving system and let some rank-and-file Googlers test it out. Drivers were warned that the system was not yet fully autonomous, and they were instructed to keep their eyes on the road at all times.\n",
      "But the self-driving team found that users started to trust the system way too quickly. In-car cameras showed users \"napping, putting on makeup and fiddling with their phones.\" And that created a big safety risk.\n",
      "\"It's hard to take over, because they have lost contextual awareness,\" Waymo CEO John Krafcik said in 2017.\n",
      "So Google scrapped plans for a highway driver assistance product and decided to pursue a different kind of gradualism: a taxi service that would initially be limited to the Phoenix metropolitan area. Phoenix has wide, well-marked streets, and snow and ice are rare. So bringing a self-driving service to Phoenix should be significantly easier than developing a car with self-driving capabilities that work in every part of the country and all weather conditions.\n",
      "This approach has some other advantages, too. Self-driving cars benefit from high-resolution maps. Gathering map data in a single metro area is easier than trying to map the whole world all at once.\n",
      "Self-driving cars also benefit from lidar sensors, and the best ones cost thousands—if not tens of thousands—of dollars each. That's too expensive for an upgrade to a customer-owned vehicle. But the economics are more viable for a driverless taxi service, since the self-driving system replaces an expensive human taxi driver.\n",
      "Over the last three years, most other companies working on self-driving technology have followed Waymo's lead. GM bought a startup called Cruise in 2016 and put it to work developing an autonomous taxi service in San Francisco. Ford made a similar bet on Argo AI in 2017—the company is now developing autonomous taxi services in Miami and Washington DC.\n",
      "Volkswagen and Hyundai have deals with Aurora—a startup co-founded by Chris Urmson, the former leader of the Google self-driving project—to develop fully autonomous taxi services. Technology companies like Uber and Zoox are planning to introduce autonomous taxi services.\n",
      "Tesla, meanwhile, has stubbornly pushed forward with its original strategy. For more than two years, Tesla charged customers $3,000 or more for a \"full self-driving\" package. But progress has been slow. And that has put Tesla in a bind. Abandoning the old strategy would likely require refunding customers who paid for the Full Self-Driving package—which would be both embarrassing and expensive.\n",
      "Instead, Tesla's solution has been to move the \"full self-driving\" goal posts.\n",
      "\"We already have full self-driving capability on highways,\" Musk said during a January earnings call. \"So from highway on-ramp to highway exit, including passing cars and going from one highway interchange to another, full self-driving capability is there.\"\n",
      "Obviously, this statement comes with a big asterisk: the driver still has to supervise the car to make sure it doesn't crash.\n",
      "Last week, Tesla announced a reshuffle of the Autopilot price structure that reflects this new, more-generous definition of full self-driving. Previously, driver-assistance features were sold as part of Tesla's \"Enhanced Autopilot\" tier that cost $5,000. Customers could pay an additional $3,000 for the \"Full Self-Driving\" package.\n",
      "But people who paid for this package didn't get any extra functionality. They were waiting for, well, \"full self-driving\"—a car capable of driving itself without human supervision.\n",
      "The new pricing structure defines full self-driving differently. The ability to navigate freeway interchanges, for example, was shifted from \"Enhanced Autopilot\" in the old pricing structure to \"Full Self-Driving\" in the new one. Later this year, Teslas with the \"Full Self-Driving\" package will be able to \"recognize and respond to traffic lights and stop signs\" and perform \"automatic driving on city streets.\"\n",
      "Hence, Tesla now seems to define \"full self-driving\" as a system that can handle most road conditions under the supervision of a human driver. Tesla is still aiming to improve the system enough that—eventually—it can operate without human supervision. But the new pricing structure makes things less awkward in the meantime, since Tesla can now argue that customers have already received \"full self-driving\" features like the ability to stop at stop signs.\n",
      "As a matter of business strategy, Tesla's shift makes a certain amount of sense. The problem is that this strategy could wind up getting Tesla's customers killed.\n",
      "Think back to the story of Google's early beta testers putting on makeup or fiddling with their phones when they should have been supervising Google's self-driving car prototypes. It's really hard for a human being to pay attention to the road when riding in a car that is mostly driving itself. The better self-driving technology is, the easier it is for a driver's mind to wander and the less likely they are to be ready when intervention is needed.\n",
      "This dynamic had tragic consequences a year ago when an Uber car struck and killed a pedestrian in Tempe, Arizona. Dashcam video shows the safety driver looking down at her lap for several seconds before the crash. Records from Hulu show that she was streaming a television show to her phone at the time.\n",
      "Leading self-driving car companies take a number of precautions to avoid a repeat of this tragedy. Safety drivers receive extensive training before being allowed behind the wheel. Some companies limit their drivers' hours. Many companies put two people in each car—one to drive and the other to deal with data entry while making sure the driver stays alert.\n",
      "Tesla's plan is to essentially run a massive driverless-car testing project using its customers as unpaid safety drivers. Drivers get no real training on the dangers of inattentive Autopilot use. Tesla doesn't limit the number of hours people can drive the cars, and the company obviously doesn't hire someone to sit in the passenger seat.\n",
      "Tesla does take a few worthwhile precautions. A Tesla car detects if the driver's hands aren't on the steering wheel, and it issues a series of escalating warnings—eventually coming to a stop if the driver ignores them. On-screen messages warn drivers about the dangers of inattentive driving.\n",
      "Still, there's reason to doubt that these measures are sufficient to keep drivers engaged with the driving task. And this problem will only get worse as Autopilot begins to navigate freeway interchanges, take turns, and stop for stop lights. If your car safely drives you home from work for 100 days in a row, it's natural to stop paying close attention. If the car makes a serious mistake during the 101st trip, you might not be paying enough attention to intervene and prevent a crash.\n",
      "It only takes a few seconds of inattention to miss a deadly mistake. Tesla owner Walter Huang died in March 2018 after his Model X steered into a concrete lane divider at 70 miles per hour. Poorly striped lanes caused the vehicle to drift out of its lane and into the \"gore area\"—a triangular area of paved road that separated the highway's travel lanes from an exit lane. If Huang wasn't expecting the Model X to make that particular mistake, it would have been easy to assume that this was a stretch of road that didn't require his close attention.\n",
      "Musk argues that this testing period will be fairly brief—because soon the technology will become much safer than a human driver.\n",
      "\"When will we think it's safe for full self-driving? Probably toward the end of his year,\" Musk said during January's earnings call.\n",
      "But that seems like another of Musk's overly optimistic predictions. The lack of lidar will make this particularly difficult.\n",
      "Lidar is no panacea, but one thing it's quite good for is making sure that a car doesn't steer directly into large solid objects like concrete lane dividers or other vehicles. As recently as last October, Autopilot was still crashing into stopped cars—something Waymo cars have known how to avoid for years.\n",
      "Yet even with lidar and a several-year head start over Tesla, Waymo has struggled to achieve fully driverless operation in a single metropolitan area. Tesla is working to achieve fully autonomous operation in a wide range of traffic and weather conditions on multiple continents. It's very hard to believe that this will happen in 2019.\n",
      "Correction: I stated that Walter Huang had his hands on the steering wheel at the time of his fatal crash, but Huang's hands were last detected on the steering wheel six seconds before the crash. We don't know if he had his hands on the steering wheel after that.\n"
     ]
    }
   ],
   "source": [
    "for el in page.find(\"div[itemprop='articleBody'] p,h2\"):\n",
    "    print(el.text)"
   ]
  },
  {
   "cell_type": "code",
   "execution_count": 24,
   "metadata": {},
   "outputs": [],
   "source": [
    "def get_content_arstechnica(url):\n",
    "    page = get_page(url)\n",
    "    return \" \".join([\n",
    "        el.text\n",
    "        for el in page.find(\"div[itemprop='articleBody'] p,h2\")\n",
    "        if el.text is not None\n",
    "    ])"
   ]
  },
  {
   "cell_type": "code",
   "execution_count": 25,
   "metadata": {},
   "outputs": [
    {
     "name": "stdout",
     "output_type": "stream",
     "text": [
      "Tesla Dashcam video highlights weakness of Tesla's testing regime. The afternoon commute of Reddit user Beastpilot—who requested that we not use his real name—takes him past a stretch of Seattle-area freeway with a carpool lane exit on the left. Last year, in early April, the Tesla driver noticed that Autopilot on his Model X would sometimes pull to the left as the car approached the lane divider—seemingly treating the space between the diverging lanes as a lane of its own. This was particularly alarming, because just days earlier, Tesla owner Walter Huang had died in a fiery crash after Autopilot steered his Model X into a concrete lane divider in a very similar junction in Mountain View, California. Beastpilot made several attempts to notify Tesla of the problem but says he never got a response. Weeks later, Tesla pushed out an update that seemed to fix the problem. Then in October, it happened again. After months of working correctly, Beastpilot's Tesla started swerving toward the lane divider in the same spot. Again, he reported the problem but says he never got a response. Weeks later, the problem resolved itself. This week, he posted dashcam footage showing the same thing happening a third time—this time with a recently acquired Model 3. After working correctly for months, his new Tesla shows a tendency to swerve toward the lane divider as it passes this particular exit. \"The behavior of the system changes dramatically between software updates,\" Beastpilot told Ars in a Thursday phone interview. And he argues that makes the system dangerous. \"Human nature is, 'if something's worked 100 times before, it's gonna work the 101st time,'\" he said. That can lull people into a false sense of security, with potentially deadly consequences. Autopilot swerved to the left just before Walter Huang died Beastpilot's experience may help to shed light on the circumstances of Huang's fatal crash a year earlier. Federal investigators determined that Huang's Model X \"began a left steering movement\" seven seconds before his fatal crash. Apparently believing it was now in an empty lane, the vehicle sped up from 62 to 70 miles per hour in the final seconds before it struck the concrete lane divider. After Huang's death, his family told local media that Huang had taken his car to the local Tesla dealership to complain that it had swerved toward that exact barrier on multiple occasions. Tesla says it has no record of Huang raising these concerns, and the family's claim did raise an obvious question: why would Huang have let down his guard in this spot if he'd noticed his car malfunctioning previously? But Beastpilot's experience suggests one possible explanation: his car's behavior may have changed over time with successive software updates. Maybe after Huang raised his initial concerns, Tesla pushed out a software update fixing the problem—only to have the problem reappear with a later update. We may never know for certain, since Huang isn't around to explain himself. Tesla’s rivals rely heavily on simulation Tesla has built Autopilot by training complex neural networks. This makes it difficult to test because no one fully understands how these networks work or can predict how their behavior might change. But this is hardly a problem that's unique to Tesla—or self-driving technology, for that matter. Companies developing complex software have long developed sophisticated infrastructure for regression testing. This infrastructure can run a new software release through a battery of thousands of tests to make sure that it doesn't re-introduce bugs that were fixed by previous updates. Self-driving companies like Waymo make heavy use of simulation for this purpose. When a Waymo car encounters a tricky or unusual situation, Waymo uses sensor data to build a simulated version of that same scenario. Waymo's simulation software can not only rerun that exact scenario, it can also \"drive\" through modified versions: what if the car was moving 5mph faster? What if there was a parked car blocking the right-hand lane? What if that other car running a red light does so five seconds earlier or later? Waymo has a library of thousands of situations like this and the ability to automatically check that each new software version behaves as expected in each scenario. This helps to ensure that new software versions never re-introduce bugs that were squashed by previous versions. Does Tesla have a system like this? The company didn't respond to multiple emails seeking comment for this story. It would be surprising if they didn't have at least some systems for simulation and regression testing. But as far as I know, Tesla has never publicly described this kind of testing system. And Beastpilot's videos suggest that Tesla's testing infrastructure has room for improvement. Indeed, the nature of Tesla's fleet might preclude the company from doing Waymo-level simulation and testing of its software. There are two key differences between Tesla's fleet and the test fleets of Waymo and other companies working on full autonomy. One is that Tesla cars lack lidar. Lidar produces three-dimensional point clouds that are helpful for building a highly accurate model of the world around a vehicle. Tesla, by contrast, relies mainly on cameras and radar, neither of which offers precise three-dimensional measurements. It's not impossible to derive a three-dimensional model based on camera and radar data, but it's certainly more difficult. The other difference is that Waymo's cars return to a Waymo-owned garage at the end of each day. While we don't know exactly what happens inside the garage, it seems like a reasonable guess that Waymo's garages are equipped to offload gigabytes of accumulated data from each vehicle, each night. Tesla, by contrast, must sip data from its customers' cars via cellular networks or its customers' Wi-Fi connections. Beastpilot says that he tracks his Tesla's data use, and it's fairly modest—tens or sometimes hundreds of megabytes per day, even after many miles of driving. So Tesla may simply be unable to harvest enough data to produce fully realistic three-dimensional simulations of situations that give Tesla vehicles trouble. Tesla could do a better job warning users about Autopilot’s limitations Not every Tesla user is likely to experience the bug Beastpilot identified. Tesla rolls out different versions of Autopilot to different people, with some experimental versions only going out to a small fraction of users. Some Redditors report that a newer version—which Beastpilot says he hasn't gotten yet—fixes Beastpilot's swerving problem. Tesla's position has long been that Autopilot is merely a driver assistance system, not a technology for full autonomy. Drivers are expected to keep their hands on the wheel and their eyes on the road at all times. If drivers are paying attention, Autopilot defects shouldn't lead to crashes. But Beastpilot argues there's a lot of room for improvement in Tesla's approach to user education. Each new software release includes release notes explaining how it differs from the preceding version. But Beastpilot says the notes for recent releases have been \"super thin.\" He shared with us a photo of the current release notes on his vehicle, which explain Tesla's new \"Dog Mode\" and \"Auto-folding mirrors based on location.\" A note at the bottom states that \"this release contains minor improvements and bug fixes.\" Beastpilot says he doesn't remember any notifications that the update would change the behavior of Autopilot. When new Tesla owners enable Autopilot for the first time, they are required to read a lengthy warning that Autopilot is an experimental technology requiring constant supervision by the human driver. Beastpilot argues that Tesla should re-present this warning to drivers every time a software update changes Autopilot's behavior.\n"
     ]
    }
   ],
   "source": [
    "print(\n",
    "    get_content_arstechnica(\"https://arstechnica.com/cars/2019/03/dashcam-video-shows-tesla-steering-toward-lane-divider-again/\")\n",
    ")"
   ]
  },
  {
   "cell_type": "markdown",
   "metadata": {},
   "source": [
    "# associated-press"
   ]
  },
  {
   "cell_type": "code",
   "execution_count": 27,
   "metadata": {},
   "outputs": [],
   "source": [
    "# api.api.get_everything(q=\"tesla\", sources=\"associated-press\")\n",
    "url = \"https://www.apnews.com/a880afcbad214c6e8d07300dbd36bb37\"\n",
    "page = get_page(url)"
   ]
  },
  {
   "cell_type": "code",
   "execution_count": 28,
   "metadata": {},
   "outputs": [
    {
     "name": "stdout",
     "output_type": "stream",
     "text": [
      "DETROIT (AP) — Tesla is walking back plans to close most of its showrooms worldwide and announced price hikes for most of its electric vehicles.\n",
      "Tesla announced last month that it would shutter most of its stores to cut costs so it could sell its lower-priced Model 3 for $35,000. The company continues its shift to toward online-only sales, but now says it won’t close as many stores as originally thought.\n",
      "The $35,000 base Model 3 will still be available, but the company is raising prices by 3 percent on all other models.\n",
      "In a Monday filing with government regulators, Tesla now says it closed 10 percent of its stores, but a few of those will now remain open. Another 20 percent are being evaluated and some could remain open.\n",
      "The company gave no numbers, but said it would close only about half the stores that it had intended to. It has 378 stores and service centers worldwide and about 100 stores in the U.S. If the company closes 30 percent of the stores that would equal about 110.\n",
      "“As a result of keeping significantly more stores open, Tesla will need to raise vehicle prices by about 3 percent on average worldwide,” a company statement said. “We will only close about half as many stores, but the cost savings are therefore only about half.”\n",
      "Remaining stores could have fewer workers but will have vehicles available for test drives and a small inventory in case people want to buy immediately, the statement said.\n",
      "Also Monday, a New York attorney announced that Tesla’s former chief of security has filed a whistleblower complaint with the U.S. Securities and Exchange Commission. Attorney Andrew Meissner said in a statement that Sean Gouthro provided information about Musk’s Aug. 7 tweet that he had the financing to take the company private at $420 per share. As it turned out, Musk didn’t have the funding secured. The SEC filed a securities fraud complaint, and Musk and Tesla agreed to each pay $20 million and to governance changes including a Twitter monitor for Musk.\n",
      "The SEC submission says the go-private plan was discussed internally at Tesla many days before Musk’s tweet “and that many were suspect of the purported deal’s legitimacy,” Meissner’s statement said.\n",
      "Tesla also announced Monday that it has purchased car-hauling trucks and trailers from a California company in a stock deal worth about $14.2 million. Tesla paid for the purchase with about 50,000 previously authorized shares. Tesla wants to increase its vehicle transportation capacity and cut delivery times.\n",
      "The moves come on the day that lawyers for Tesla CEO Elon Musk have to file a legal brief explaining to a New York federal judge why he shouldn’t be held in contempt of court for an inaccurate Feb. 19 tweet that could have influenced the company’s stock price.\n",
      "On Feb. 19 Musk tweeted that Tesla would produce around 500,000 vehicles this year — a tweet that wasn’t blessed by the person in charge of baby-sitting Musk’s Twitter account as required by the fraud settlement. The tweet was later corrected.\n",
      "The judge has ordered Musk to file a brief by Monday explaining why he isn’t in contempt for violating the court-approved settlement.\n",
      "The store-closing reversal shows that Tesla had second thoughts about shuttering the stores and whether buyers would make such a large purchase without a test drive. The company says it still plans to offer buyers the ability to return purchased vehicles at no cost after a seven-day or 1,000 mile test drive.\n",
      "Gartner analyst Michael Ramsey called the move “startling” and said it undermines the credibility of Musk and Tesla’s management.\n",
      "“How else can you view it except to see it as a remarkable example of lack of foresight or planning?” Ramsey asked. “It’s almost as if the decision was announced and made without any analysis of what the outcome would be.”\n",
      "The move made no sense to begin with because Tesla had spent millions fighting in courts and state legislatures trying to change laws that prevented companies from selling vehicles at their own stores, Ramsey said.\n",
      "But he also said the move to close 10 percent of stores and evaluate others is the right thing to do, and said most retail companies do that all of the time.\n",
      "A Tesla spokesman declined comment Monday beyond the company’s statement.\n",
      "Shares of Tesla Inc. edged up less than 1 percent in Monday trading.\n",
      "In announcing the move on Feb. 28, CEO Elon Musk said it was necessary to cut costs in order to profitably sell the mass-market version of the Model 3 sedan for $35,000. That’s a price point needed to reach more consumers and generate the sales that the company needs to survive, Musk has said.\n",
      "Before the announcement, the cheapest Model 3 started at $42,900.\n",
      "On Feb. 28, the company said shifting totally to online sales would allow it to lower all vehicle prices by 6 percent, on average, including its higher-end Model S and Model X.\n",
      "At the time, Musk also walked back the company’s guidance that it would be profitable in all future quarters, saying it would post a loss in the first quarter of this year.\n"
     ]
    }
   ],
   "source": [
    "for el in page.find(\"div[class='Article'] p\"):\n",
    "    print(el.text)"
   ]
  },
  {
   "cell_type": "code",
   "execution_count": 29,
   "metadata": {},
   "outputs": [],
   "source": [
    "def get_content_associatedpress(url):\n",
    "    page = get_page(url)\n",
    "    return \" \".join([\n",
    "        el.text\n",
    "        for el in page.find(\"div[class='Article'] p\")\n",
    "        if el.text is not None\n",
    "    ])"
   ]
  },
  {
   "cell_type": "code",
   "execution_count": 30,
   "metadata": {},
   "outputs": [
    {
     "name": "stdout",
     "output_type": "stream",
     "text": [
      "DUBLIN--(BUSINESS WIRE)--Feb 25, 2019--The “Business Valuation Case Law Yearbook, 2019 Edition” report has been added to ResearchAndMarkets.com’s offering. Business Valuation Case Law Yearbook, 2019 Edition is essential for business appraisers and attorneys who want to stay ahead of their peers on the most important legal issues brought up in business valuation-related cases. With in-depth analysis from the publisher’s legal team, the lessons learned in this book help appraisers reach better and more defensible valuation conclusions - and, attorneys who retain appraisers as financial experts learn how their experts can help them win (or lose) in court. The Yearbook analyzes issues arising in the year’s most meaningful valuation or damages cases litigated in state or federal courts. The types of cases are marital disputes, breach of contract actions, dissenting shareholder disputes, federal taxation (including estate and gift tax cases), intellectual property cases, bankruptcy litigation, and more. All the cases featured in this book impart important lessons about applicable legal principles, approved and discredited valuation methodology, and the act (art) of presenting expert opinions. This must-have collection benefits both the generalist as well as the specialist. Highlights of the Yearbook Topics Covered 1. Introduction 2. Court Case Summary Table 3. Court Case Digests Companies Mentioned For more information about this report visit https://www.researchandmarkets.com/research/4pf8gd/business?w=4  View source version on businesswire.com:https://www.businesswire.com/news/home/20190225005929/en/ CONTACT: ResearchAndMarkets.com Laura Wood, Senior Press Manager press@researchandmarkets.com For E.S.T Office Hours Call 1-917-300-0470 For U.S./CAN Toll Free Call 1-800-526-8630 For GMT Office Hours Call +353-1-416-8900 Related Topics:Legal KEYWORD: INDUSTRY KEYWORD: PROFESSIONAL SERVICES LEGAL SOURCE: Research and Markets Copyright Business Wire 2019. PUB: 02/25/2019 02:29 PM/DISC: 02/25/2019 02:29 PM http://www.businesswire.com/news/home/20190225005929/en\n"
     ]
    }
   ],
   "source": [
    "print(\n",
    "    get_content_associatedpress(\"https://www.apnews.com/97072f444d25457e95c3575a378d534e\")\n",
    ")"
   ]
  },
  {
   "cell_type": "markdown",
   "metadata": {},
   "source": [
    "# axios"
   ]
  },
  {
   "cell_type": "code",
   "execution_count": 4,
   "metadata": {},
   "outputs": [],
   "source": [
    "# api.api.get_everything(q=\"tesla\", sources=\"axios\")\n",
    "url = \"https://www.axios.com/randall-stephenson-att-ceo-time-warner-media-executives-7ff312cd-0bec-48a1-86e5-24b6fd80701d.html\"\n",
    "page = get_page(url)"
   ]
  },
  {
   "cell_type": "code",
   "execution_count": 12,
   "metadata": {},
   "outputs": [
    {
     "name": "stdout",
     "output_type": "stream",
     "text": [
      "AT&T chief executive Randall Stephenson played down the recent departure of executives from Time Warner, which the company acquired last year and used to build its new WarnerMedia unit.\n",
      "Why it matters: Stephenson’s bet that the telecom company can use original content to compete with Amazon and Netflix depends on its ability to integrate the Time Warner properties into its business.\n",
      "Background: Time Warner CEO Jeff Bewkes departed the company when the deal closed.\n",
      "HBO chief Richard Plepler and Turner president David Levy both left recently after it became clear they’d lose power in the consolidated company.\n",
      "And Kevin Tsujihara stepped down this week as the head of the Warner Bros. movie studio after allegations he worked to set up job opportunities for an actress with whom he was in a sexual relationship.\n",
      "What he’s saying: “Does it worry me? Yeah, of course you worry,” Stephenson said during an event hosted by the Economic Club of Washington, D.C., on Wednesday. “But other than the head of Warner Bros. studios ... the rest of them were not surprises.”\n",
      "He said that Plepler “did an amazing job growing HBO to where it is today, but where the world is going is a very different place.”\n",
      "He said the company would focus on diversity in hiring executives in the future.\n",
      "Stephenson also weighed in on the debate over shunning Huawei networking technology on national security grounds.\n",
      "“I don’t think our government is doing their best work in explaining why this security risk exists,” he said.\n",
      "He said he was less worried about the Chinese government eavesdropping than about a foreign company being enmeshed with connected infrastructure down the road.\n",
      "“We have to ask ourselves a question: If that much of our infrastructure will be attached to this kind of technology, do we want to be cautious about who is the underlying company behind that technology?” he said. “We damn well better be.”\n"
     ]
    }
   ],
   "source": [
    "for el in page.find(\"div[class^='StoryBody'] div > ul,p\"):\n",
    "    print(el.text)"
   ]
  },
  {
   "cell_type": "code",
   "execution_count": 13,
   "metadata": {},
   "outputs": [],
   "source": [
    "def get_content_axios(url):\n",
    "    page = get_page(url)\n",
    "    return \" \".join([\n",
    "        el.text\n",
    "        for el in page.find(\"div[class^='StoryBody'] div > ul,p\")\n",
    "        if el.text is not None])"
   ]
  },
  {
   "cell_type": "code",
   "execution_count": 16,
   "metadata": {},
   "outputs": [
    {
     "name": "stdout",
     "output_type": "stream",
     "text": [
      "Tesla is finally launching that long-promised $35,000 Model 3, but to meet its target price, the company is closing all of its 378 stores worldwide, laying off retail employees and shifting all sales online. Why it matters: That $35,000 price tag enables CEO Elon Musk to fulfill his 2006 secret master plan to deliver a mass-market electric vehicle, but he told reporters today \"there's no other way\" to produce it than by closing all its stores and eliminating jobs. Even so, he says the company won't be profitable this quarter. What's happening: Shifting all of its sales online — plus other cost cuts — means Tesla can lower the price of its vehicles, including Models S and X, by about 6% and achieve the $35,000 Model 3 price point earlier than expected. Tesla will be winding down most of its stores over the next few months.\n",
      "A small number of stores will transition into galleries or information centers.\n",
      "The change to online sales will allow anyone in the U.S. to buy a Tesla, even in states where franchise laws currently prohibit Tesla-owned stores. The details: Tesla is offering two new budget-priced Model 3s — a standard $35,000 model and a slightly upgraded $37,000 version — but they'll have smaller battery packs and won't travel as far as currently available versions of Model 3. The $35,000 standard range model will go 220 miles on a charge; the $37,000 version is good for 240 miles of range.\n",
      "The top of the line Model 3 now has a 325-mile range. The catch: Tesla also changed the pricing on its Autopilot packages, shifting some features around, which will make automated driving features more expensive. For $3,000 extra, drivers can get Autopilot — which provides steering assistance and adaptive cruise control at highway speeds —similar to what comes standard on a Honda Accord or Toyota Camry.\n",
      "For another $5,000, drivers can get \"Full Self Driving Capability,\" which adds Navigate on Autopilot—the ability to change lanes, pass slower cars and take interchanges—plus a new Summon automatic parking ability and other yet-to-be detailed features. Between the lines: \"Full Self Driving Capability\" doesn't mean the car can drive itself. Tesla continues to confuse consumers by giving its assisted-driving features names that overstate its capabilities. Musk acknowledged \"what needs to be finished\" is for the car to recognize traffic lights and stop signs, make turns and navigate on side streets—all the things that other companies continue to work on, too.\n",
      "He says full self driving technology will be \"feature complete\" by the end of the year, but acknowledges it \"will take billions of miles\" before the technology is more reliable than human drivers.\n",
      "\"Then we have to convince regulators,\" he says. The bottom line: Tesla cars cannot drive themselves. Drivers who want to use Autopilot and Full Self Driving features have to supervise the technology at all times. Editor's note: This piece was updated to remove the number of jobs impacted as Tesla declined to confirm or deny the estimates.\n"
     ]
    }
   ],
   "source": [
    "print(\n",
    "    get_content_axios(\"https://www.axios.com/teslas-35000-model-3-closing-stores-elon-musk-c5999700-000a-4771-905b-4344d58f6843.html\")\n",
    ")"
   ]
  },
  {
   "cell_type": "markdown",
   "metadata": {},
   "source": [
    "# breitbart-news"
   ]
  },
  {
   "cell_type": "code",
   "execution_count": 22,
   "metadata": {},
   "outputs": [],
   "source": [
    "# api.api.get_everything(q=\"tesla\", sources=\"breitbart-news\")\n",
    "url = \"https://www.breitbart.com/tech/2019/03/05/china-suspends-sales-of-tesla-model-3s-after-customs-officials-find-irregularities/\"\n",
    "page = get_page(url)"
   ]
  },
  {
   "cell_type": "code",
   "execution_count": 34,
   "metadata": {},
   "outputs": [
    {
     "name": "stdout",
     "output_type": "stream",
     "text": [
      "The import and sale of Tesla Model 3 vehicles in China has reportedly been suspended after customs officials found “irregularities” with the vehicles.\n",
      "Business Insider reports that China is suspending the import and sale of Tesla Model 3 vehicles due to “various irregularities” in 1,600 imported cars. Chinese news agency Caixin stated that “some of the vehicles lacked product labels that would make them legal on the Chinese market.”\n",
      "The report from Caixin stated that: “Some of the vehicles had no Chinese labels on brake fluid tanks, while some demonstrated a real motor capacity that differed from the one on the label.” Although Tesla did not respond to a request for comment from Business Insider, Caixin states that the company is blaming “incorrect settings on its printers,” for the issues.\n",
      "Tesla has reportedly been ordered by Chinese officials not to sell any previously imported Model 3 vehicles, and that inspectors had been instructed to: “step up inspections of other imported Tesla models.”\n",
      "Tesla recently announced a $35,000 Model 3 vehicle leading many analysts to worry about the possibility of a shrinking profit margin on Tesla vehicles; while Tesla also announced that it would be closing its global retail store network and planning to only sell vehicles online. Now, the company has announced a new SUV vehicle titled the Model Y, which has led many analysts to question the demand for Tesla vehicles.\n",
      "Recently, the SEC requested that a federal judge hold Tesla CEO Elon Musk in contempt after the CEO tweeted: “Tesla made 0 cars in 2011, but will make around 500k in 2019.” A few hours later, Musk corrected himself: “Meant to say annualized production rate at end of 2019 probably around 500k, ie 10k cars/week. Deliveries for year still estimated to be about 400k.”\n",
      "In response to this, the SEC said in court documents filed on Monday: “He once again published inaccurate and material information about Tesla to his over 24 million Twitter followers, including members of the press, and made this inaccurate information available to anyone with internet access.” The SEC further said that both Musk and Tesla confirmed that his tweets had been pre-approved by the company.\n",
      "Breitbart News will be following Tesla’s operations in both the U.S. and China closely.\n",
      "Lucas Nolan is a reporter for Breitbart News covering issues of free speech and online censorship. Follow him on Twitter @LucasNolan or email him at lnolan@breitbart.com\n"
     ]
    }
   ],
   "source": [
    "for el in page.find(\"div[class='entry-content'] p, div[class='entry-content'] h2\"):\n",
    "    print(el.text)"
   ]
  },
  {
   "cell_type": "code",
   "execution_count": 35,
   "metadata": {},
   "outputs": [],
   "source": [
    "def get_content_breitbartnews(url):\n",
    "    page = get_page(url)\n",
    "    return \" \".join([\n",
    "        el.text\n",
    "        for el in page.find(\"div[class='entry-content'] p, div[class='entry-content'] h2\")\n",
    "        if el.text is not None\n",
    "    ])"
   ]
  },
  {
   "cell_type": "code",
   "execution_count": 36,
   "metadata": {},
   "outputs": [
    {
     "name": "stdout",
     "output_type": "stream",
     "text": [
      "The SEC has reportedly stated that Tesla CEO Elon Musk’s contempt of court defense “borders on ridiculous.” Business Insider reports that the SEC is not impressed by Tesla CEO Elon Musk’s defense of the U.S. regulator’s charges of contempt of court, stating that Musk’s defense “borders on ridiculous.” The SEC believes that Musk’s tweet stating that Tesla would produce 500,000 vehicles in 2019 was a “blatant violation” of a court order that required that Musk’s tweets be vetted before posting. The SEC claims that Musk failed to have his tweets vetted and instead “unilaterally” decided what constitutes material information, a move the government called “stunning.” In a filing on Monday, the SEC stated: “The preapproval requirement was designed to protect against reckless conduct by Musk going forward. It is therefore stunning to learn that, at the time of filing of the instant motion, Musk had not sought pre-approval for a single one of the numerous tweets about Tesla he published in the months since the Court-ordered pre-approval policy went into effect.” The filing continues to state: “Musk’s shifting justifications suggest that there was never any good faith effort to comply with the Court’s order and the Tesla Policy. Rather, Musk has simply elected to ignore them.” News organization Reuters consulted with legal experts who stated that the SEC still has multiple avenues in which they can pursue Musk, such as: “a higher fine, imposing further restrictions on Musk’s activities or removing him from Tesla’s board or helm.” Over the past 12 months, Tesla’s shares have dropped by around 15 percent; this coincides with the company’s repayment of a $920 million debt bond, legal issues with the SEC, worries surrounding vehicle demand, mass employee layoffs, and the announcement of the closing of multiple Tesla store locations. Tesla shares have dropped by approximately 3 percent since the announcement of the Model Y, according to MarketWatch. Garrett Nelson, an analyst at CFRA, commented on the popularity of the SUV market stating that “the key question is whether consumers will want to buy this vehicle over others in an increasingly crowded segment, particularly given the absence of incentives.” Nelson continued to state: “The other concern is that the Model Y will likely hit the market around the same time as numerous 2021-model-year electric vehicles that various competitors have in the pipeline.” Analysts for Goldman Sachs stated that the Model Y’s unveiling could boost “incremental reservations” given the larger global market for crossover vehicles compared to sedans. Breitbart News will continue to follow this case and all Tesla news closely.  Lucas Nolan is a reporter for Breitbart News covering issues of free speech and online censorship. Follow him on Twitter @LucasNolan or email him at lnolan@breitbart.com\n"
     ]
    }
   ],
   "source": [
    "print(\n",
    "    get_content_breitbartnews(\"https://www.breitbart.com/tech/2019/03/19/sec-tesla-ceo-elon-musks-court-defense-borders-on-ridiculous/\")\n",
    ")"
   ]
  },
  {
   "cell_type": "markdown",
   "metadata": {},
   "source": [
    "# cbc-news"
   ]
  },
  {
   "cell_type": "code",
   "execution_count": 38,
   "metadata": {},
   "outputs": [],
   "source": [
    "# api.api.get_everything(q=\"tesla\", sources=\"cbc-news\")\n",
    "url = \"https://www.cbc.ca/news/world/tesla-investigations-fatal-crash-nhtsa-1.5040724\"\n",
    "page = get_page(url)"
   ]
  },
  {
   "cell_type": "code",
   "execution_count": 39,
   "metadata": {},
   "outputs": [
    {
     "name": "stdout",
     "output_type": "stream",
     "text": [
      "The U.S. National Highway Traffic Safety Administration (NHTSA) said it is investigating a fatal Tesla Inc Model S crash in Davie, Fla., last Sunday that killed the driver and resulted in a massive vehicle fire, the second fatal crash this week the agency is probing.\n",
      "The agency and the U.S. National Transportation Safety Board (NTSB) said late on Friday they are sending teams to investigate the other fatal crash Friday in Delray Beach, Fla., of a 2018 Model 3 that crashed into a semi-trailer.\n",
      "A NHTSA spokesperson confirmed Saturday the agency has an \"ongoing investigation\" into the earlier Tesla crash in Davie and \"will take additional actions if appropriate.\" Tesla did not immediately comment Saturday.\n",
      "The South Florida Sun Sentinel reported Monday the 2016 Tesla Model S caught fire and burned the 48-year-old driver beyond recognition. The newspaper said the Tesla battery repeatedly caught fire after being transported to a towing facility.\n",
      "Tesla struck tractor trailer\n",
      "NHTSA, the auto safety regulator, can demand a recall if it believes a defect poses an unreasonable safety risk, while the NTSB makes safety recommendations.\n",
      "NHTSA and NTSB have been investigating a number of crashes since 2017 that focus on two primary issues: the role of Tesla's driver assistance technology known as Autopilot in accidents, and some significant battery fires in the electric vehicles after crashes, including cases of batteries reigniting after accidents.\n",
      "A Model 3 sits on display in a Tesla showroom. The NHTSA and NTSB are investigating after a fatal crash involving a Model 3 and a semi-trailer. (David Zalubowski/Associated Press)\n",
      "A report on Friday's crash released by the Palm Beach County Sheriff's Department did not indicate if the autopilot was engaged at the time of the crash that killed the 50-year-old Tesla Model 3 owner.\n",
      "The report said the Tesla struck a tractor trailer and the roof was sheared off as it passed underneath the trailer and stopped about half a kilometre south of the collision. The driver was pronounced dead at the scene.\n",
      "Tesla advises drivers to keep hands on steering wheel\n",
      "NTSB said it is sending a team of three to conduct a safety investigation, while NHTSA said Saturday it is sending a field team.\n",
      "Some Tesla drivers say they are able to avoid putting their hands on the wheel for extended periods when using Autopilot, while Tesla advises drivers that they must keep their hands on the steering wheel and pay attention at all times while using Autopilot.\n",
      "Analysis\n",
      "Tesla risks a blowout as problems mount, but fans keep the hype machine in overdrive\n",
      "City bus-Tesla crash in Guelph under investigation: Police\n",
      "NHTSA is also probing the January 2018 crash of a Tesla vehicle apparently traveling in Autopilot that struck a fire truck in Culver City, Calif., a May 2018 crash in Utah of a Tesla in Autopilot mode and a May 2018 Tesla accident in Florida that killed two teenagers and injured another but was not in Autopilot mode.\n",
      "The NTSB is investigating three earlier Tesla incidents being reviewed by NHTSA, as well as an August 2017 Tesla battery fire in California, in which an owner ran into his garage.\n",
      "Friday's crash is similar to the first fatal Tesla crash linked to Autopilot.\n",
      "In May 2016, a Tesla Model S driver was killed near Williston, Fla., using Autopilot when he slammed into a tractor trailer that also sheared off the vehicle roof.\n",
      "The NTSB said in 2017 Tesla lacked proper safeguards allowing the driver \"to use the system outside of the environment for which it was designed and the system gave far too much leeway to the driver to divert his attention.\"\n",
      "In January 2017, NHTSA said its review found no evidence of defects in the 2016 fatal Autopilot crash that would require a recall.\n",
      "Tesla says its Autopilot software reduces a driver's \"overall workload\" and will \"steer, accelerate and brake for you within almost any lane. It will also automatically change lanes on most highways to overtake other cars or navigate to interchanges and exits.\"\n",
      "Tesla says the feature \"should not be used on highways that have very sharp turns or lane markings that are absent, faded, or ambiguous.\"\n"
     ]
    }
   ],
   "source": [
    "for el in page.find(\"div[class='story'] > span > *\"):\n",
    "    print(el.text)"
   ]
  },
  {
   "cell_type": "code",
   "execution_count": 43,
   "metadata": {},
   "outputs": [],
   "source": [
    "def get_content_cbcnews(url):\n",
    "    page = get_page(url)\n",
    "    return \" \".join([\n",
    "        el.text\n",
    "        for el in page.find(\"div[class='story'] > span > p, div[class='story'] > span > h2\")\n",
    "        if el.text is not None])"
   ]
  },
  {
   "cell_type": "code",
   "execution_count": 44,
   "metadata": {},
   "outputs": [
    {
     "name": "stdout",
     "output_type": "stream",
     "text": [
      " Canadians are buying electric vehicles like never before, with a near doubling of sales in 2018 over the previous year. But while one in 11 new cars now being sold is considered an EV, Canadians lean heavily toward electric-gas hybrids and remain reluctant to buy electric-only options. With the upcoming crop of improved electric vehicles, however, the market could be poised for a shift.    \"It's a no-brainer,\" says Arthur Potts, an EV proponent and renewable energy consultant. \"They're a little more expensive, but I think with the cost-benefit, you're nuts to buy an internal combustion engine if you're driving around the city.\"  Indeed, electric-only EVs seem built for urban and suburban commuters. More than 11 million Canadians drive to work or a transit hub every weekday. That commute, on average, is 23 kilometres each way — easily within the range of most plug-in, all-electric vehicles currently on the market.  So why are many drivers reluctant to give up gas?  Auto industry representatives and surveys of Canadians repeatedly point to four factors:   There's good reason for some of the consumer wariness, particularly on longer trips. A CBC News crew recently drove an entry-level electric vehicle on a 400 km trip from Toronto to the Detroit auto show as a test, and even with careful planning, they ran into difficulties. Cold weather affecting the batteries, along with a simple missed highway turnoff, forced a major revision to the planned route so that there would be enough power to make it between charging stations. And an unexpectedly slow station threw the trip completely off schedule. WATCH | Will they make it to Detroit on time? David Common puts an EV to the test.  Besides a much later-than-expected arrival, it was a nail-biter for the crew as they nursed the EV to their destination in Detroit with barely any power to spare. They had to shut down all the \"unnecessary\" electrical systems in the car — including the heater and windshield defroster, even though the temperatures were a frigid -20 C.  Batteries \"like to be treated as people,\" says Timothy Grewe, the head of GM's electric propulsion division. The lithium-ion cells powering electric vehicles function best at 21 C, and their performance falls along with the temperature.  The most-popular all-electric vehicle in Canada, the Tesla Model 3, has a far greater range than the entry-level Kia Soul EV used by the CBC team. Any Tesla model would have made the same trip (with heat) and only one stop to recharge. But Teslas are priced beyond the reach of many Canadians looking for a new car, and today's cheaper EVs tend to have less range. However, with several automakers putting a new focus on EV research and development, and some vowing to have all-electric lines soon, the technology is quickly improving.   According to several manufacturers, new 2020 models are expected to have two to three times the range of the 2018 model year. The newest Kia Soul EV, the next iteration of the electric car used by the CBC crew on its road trip, for example, will have a much-increased range of around 350 km.  Better batteries  As more manufacturers lower their prices and extend their battery range, it could prove to be a tipping point for the EV market.  While the up-front purchase cost of an EV is much higher than a gasoline-engine vehicle, the savings on gas is around $3,000 to $5,000 a year for an average driver, according to Potts, the renewable energy consultant.  That means the lower per-kilometre operating costs of EVs can already balance out the difference in the purchase price over the course of several years of driving, and that period will diminish as purchase prices drop.  And while greater peace of mind comes with the extended range of the latest models, new batteries packing more power can mean even more savings for EV owners. That's because with more range comes even less need to have to recharge when people are away from home.  High-speed public charging stations are able to top up an EV's cells to near-peak in a little over half an hour, but can cost around $10 per 100 km. Home chargers tend to be slower, but most vehicles are idle overnight so longer charging times aren't a big issue, and they cost about $2 to $3 per 100 km.  Simon Ouellette of ChargeHub, which produces EV-related apps and information, says we're now at the point where the majority of EV drivers, particularly those with longer-range vehicles, don't need to use a charging station on the road unless they're on a very long trip.  \"The reality is that's not something that happens on a daily or weekly basis for most people, you don't often charge in public.  \"Charging your electric car is similar to sleeping in a bed,\" he adds. \"Most of the time you sleep at home … same with an electric car, you don't think about it.\"  At the same time, for those who do make longer road trips or who forget to plug in overnight, the network of public places where EVs can recharge is expanding steadily. Tim Horton's coffee shops, malls and community centres increasingly offer electric vehicle charging stations, and thousands now exist across Canada.  And even as batteries get bigger, higher-speed chargers are being developed to keep pace. The newest can recharge a car in just a few more minutes than it takes to fill a tank with gas.  \"The new charging stations will be faster,\" says Paul Raszewski of the Toronto Electric Vehicle Association. \"You'd be stopping for 10 minutes [to fully charge an EV]. When? They are already being installed in North America — as early as this year, 32 across Canada. Not enough, but a good start.\"  Ongoing challenges  However, there are still a few challenges that will continue to make themselves felt among certain groups of potential buyers even with the improved EV models promised by manufacturers, according to Ouellette.  One involves home chargers. Electric vehicles tend to come with a slower Level 1 charger for the home, also known as a trickle charger (Tesla chargers run on a completely different system). If you can park your car at 6 p.m. and leave the next morning at 8 a.m., you'll be fully charged even with a bigger battery. No special wiring is needed, as it plugs into a regular outlet.   People who want a faster Level 2 system that can recharge a vehicle in three to four hours, however, will need to shell out for professional installation of a heavy-duty outlet. (The fastest chargers, Level 3, are primarily used in public areas, designed for quick stops on those long road trips.) Another issue is that not everyone who wants to recharge at home will necessarily have that choice.   Some urban homes don't have parking spaces at all, and retrofitting apartment buildings with chargers for outdoor or underground parking can be a problem.  \"Where it's complicated is for people in condos, because you don't control what goes on in the parking garages,\" Ouellette says.  He adds that the federal government is looking at how to ease the barriers to EVs in places like condo parking lots.  And the greatest challenge to an EV's range in Canada is quintessential to our geography itself: The cold. Battery technology is steadily improving, however, and the bigger batteries promised by manufacturers will help soften the blow of a cold snap to an electric vehicle's range.  Meanwhile, the trend towards electric transportation is already on the upswing. Canadians bought three times more electric-only vehicles in 2018 than in the previous three years combined. \n"
     ]
    }
   ],
   "source": [
    "print(\n",
    "    get_content_cbcnews(\"https://www.cbc.ca/news/technology/national-electric-vehicles-advances-1.5019046\")\n",
    ")"
   ]
  },
  {
   "cell_type": "markdown",
   "metadata": {},
   "source": [
    "# cnbc"
   ]
  },
  {
   "cell_type": "code",
   "execution_count": 47,
   "metadata": {},
   "outputs": [],
   "source": [
    "# api.api.get_everything(q=\"tesla\", sources=\"cnbc\")\n",
    "url = \"https://www.cnbc.com/2019/03/08/tesla-opens-model-3-sales-in-mexico.html\"\n",
    "page = get_page(url)"
   ]
  },
  {
   "cell_type": "code",
   "execution_count": 67,
   "metadata": {},
   "outputs": [
    {
     "name": "stdout",
     "output_type": "stream",
     "text": [
      "Tesla is rolling its midsize Model 3 sedan out in Mexico for the first time, the company said.\n",
      "The electric car maker is launching the car in the country at Tesla's Mexico City-Masaryk store on Friday.\n",
      "Tesla has been focusing a fair amount of Model 3 production on foreign markets, especially Europe and China.\n",
      "The company unveiled the long-awaited $35,000 version of the Model 3 on Feb. 28 and said the same day it will close most of its stores and shift sales online.\n",
      "WATCH:A visit to the only Tesla Supercharger station with a lounge\n",
      "\n"
     ]
    }
   ],
   "source": [
    "for el in page.find(\"div[class='group'] p\"):\n",
    "    print(el.text)"
   ]
  },
  {
   "cell_type": "code",
   "execution_count": 68,
   "metadata": {},
   "outputs": [],
   "source": [
    "def get_content_cnbc(url):\n",
    "    page = get_page(url)\n",
    "    return \" \".join([\n",
    "        el.text\n",
    "        for el in page.find(\"div[class='group'] p\")\n",
    "        if el.text is not None])"
   ]
  },
  {
   "cell_type": "code",
   "execution_count": 69,
   "metadata": {},
   "outputs": [
    {
     "name": "stdout",
     "output_type": "stream",
     "text": [
      "The head of a rising online used car business said Tesla's decision to take all sales onto the internet may be a much better bet than some skeptics think. \"I think every business has its challenges, but they've done a pretty good job overall, I wouldn't be betting against them,\" Carvana CEO Ernie Garcia, said Thursday on CNBC's Squawk Alley. \"I think when you buy a new car, questions are different, but the return policy is enormously powerful like it is on the used side. A customer knows they can return it.\" Tesla shares were up more than 1 percent Thursday. Tesla's shift to online sales has garnered mixed reviews from some investors, with some saying the move could substantially reduce costs by eliminating stores, but also worrying that Tesla is losing a valuable sales strategy. \"The move to direct sales is bold, though we are comforted that 70%+ of Tesla buyers in 2018 did *not* test drive prior to purchase,\" Bernstein analyst Toni Sacconaghi wrote in a research note shortly after Tesla's announcement a week ago. \"That said,\" he added, \"we do believe that salespeople have been important in up-selling Tesla customers, as well as selling Tesla solar products.\" The move will result in the closure of most of Tesla's stores and layoffs. At least one employee said they are still in the dark over Tesla's plans. The electric car maker has long been waging battles in a number of states to allow Tesla vehicle sales. Several states have laws banning the direct sales of vehicles by automakers. The laws are vestiges of an earlier era, when dealers wanted to be protected from automakers competing directly with them. Garcia said he is not worried too much about direct competition from Tesla, since Carvana focuses on used cars. But he said the company can bring more customers to online car sales overall. \"Tesla has an incredible megaphone,\" he said.\n"
     ]
    }
   ],
   "source": [
    "print(\n",
    "    get_content_cnbc(\"https://www.cnbc.com/2019/03/07/carvana-ceo-says-he-wouldnt-bet-against-tesla-selling-cars-online.html\")\n",
    ")"
   ]
  },
  {
   "cell_type": "markdown",
   "metadata": {},
   "source": [
    "# ..."
   ]
  },
  {
   "cell_type": "code",
   "execution_count": 4,
   "metadata": {},
   "outputs": [],
   "source": [
    "api.api.get_everything(q=\"tesla\", sources=\"\")\n",
    "# url = \"\"\n",
    "# page = get_page(url)"
   ]
  },
  {
   "cell_type": "code",
   "execution_count": null,
   "metadata": {},
   "outputs": [],
   "source": [
    "for el in page.find(\"div[class^='StoryBody'] div > ul,p\"):\n",
    "    print(el.text)"
   ]
  }
 ],
 "metadata": {
  "kernelspec": {
   "display_name": "Python 3",
   "language": "python",
   "name": "python3"
  },
  "language_info": {
   "codemirror_mode": {
    "name": "ipython",
    "version": 3
   },
   "file_extension": ".py",
   "mimetype": "text/x-python",
   "name": "python",
   "nbconvert_exporter": "python",
   "pygments_lexer": "ipython3",
   "version": "3.6.7"
  }
 },
 "nbformat": 4,
 "nbformat_minor": 2
}
