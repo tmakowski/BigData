{
 "cells": [
  {
   "cell_type": "code",
   "execution_count": 1,
   "metadata": {},
   "outputs": [],
   "source": [
    "from requests_html import HTMLSession\n",
    "from NewsApi import NewsApi\n",
    "\n",
    "def get_page(url):\n",
    "    s = HTMLSession()\n",
    "    page = s.get(url).html\n",
    "    s.close()\n",
    "    return page\n",
    "\n",
    "\n",
    "api = NewsApi()"
   ]
  },
  {
   "cell_type": "markdown",
   "metadata": {},
   "source": [
    "# bbc-news"
   ]
  },
  {
   "cell_type": "code",
   "execution_count": 3,
   "metadata": {},
   "outputs": [],
   "source": [
    "bbc_url  = \"https://www.bbc.com/news/technology-47538721\"\n",
    "bbc_page = get_page(bbc_url)"
   ]
  },
  {
   "cell_type": "code",
   "execution_count": 91,
   "metadata": {},
   "outputs": [
    {
     "name": "stdout",
     "output_type": "stream",
     "text": [
      "Elon Musk has denied that a tweet about Tesla placed him in contempt of court. In February, he tweeted about Tesla's production ambitions, suggesting that in 2019 the carmaker would make 500,000 vehicles. However, he had previously agreed a settlement with the US financial regulator which restricted his use of social media to talk about the firm. This was following tweets about taking Tesla private, which upset investors and which he later retracted. The Securities and Exchange Commission (SEC) had asked the courts to hold him in contempt for violating the settlement following his tweet on 19 February. Tesla made 0 cars in 2011, but will make around 500k in 2019 End of Twitter post by @elonmusk He later posted a second tweet clarifying that he expected deliveries for the year would be around 400,000 as previously estimated. In court documents Mr Musk's lawyer argues that \"there is no basis to issue contempt sanctions against him\". The tweet in question was \"celebratory and forward-looking\" the document continues, and was posted after markets had closed. It says that Mr Musk has curtailed the number of tweets he posts both generally and concerning Tesla, and this is proof that he is complying with the order. It also notes that there was no \"meaningful\" price reaction or a change in the volume of trade of Tesla's shares following the tweet.\n"
     ]
    }
   ],
   "source": [
    "bbc_text = \" \".join([\n",
    "    el.text\n",
    "    for el in bbc_page.find(\"div[class='story-body'] div[property='articleBody'] p\")\n",
    "    if el.text is not None\n",
    "])\n",
    "print(bbc_text)"
   ]
  },
  {
   "cell_type": "code",
   "execution_count": 92,
   "metadata": {},
   "outputs": [],
   "source": [
    "def get_content_bbcnews(url):\n",
    "    page = get_page(url)\n",
    "    \n",
    "    return \" \".join([\n",
    "        el.text \n",
    "        for el in page.find(\"div[class='story-body'] div[property='articleBody'] p\")\n",
    "        if el.text is not None\n",
    "    ])"
   ]
  },
  {
   "cell_type": "code",
   "execution_count": 94,
   "metadata": {},
   "outputs": [
    {
     "name": "stdout",
     "output_type": "stream",
     "text": [
      "Facebook has removed, then restored, a series of adverts that called for the social network to be broken up. The adverts were placed by the campaign for Democratic presidential hopeful Elizabeth Warren. Ms Warren has made a public pledge to break up Facebook and other tech giants if she is elected. Facebook said it removed the adverts because they misused its corporate logo. It said it restored them to help \"robust debate\". Ms Warren responded to the removal of the adverts in a tweet saying Facebook's ability to \"censor\" what people saw was a good demonstration that it had too much power. Curious why I think FB has too much power? Let's start with their ability to shut down a debate over whether FB has too much power. Thanks for restoring my posts. But I want a social media marketplace that isn't dominated by a single censor. #BreakUpBigTech https://t.co/UPS6dozOxn End of Twitter post by @ewarren Last week, Ms Warren said it was \"time to break up our biggest tech companies\" and added that the move would \"restore the balance of power\" in America's democracy and promote proper competition in the tech sector. Facebook, Google, Amazon and Apple would all be targeted in the break-up effort, Ms Warren's campaign office has said. There are strict rules governing who can use Facebook's corporate logo. These were brought in to stop advertisers using them to make marketing material look like official communications from the social media platform. Facebook added that it did not remove all the adverts the Warren campaign ran calling for the forced separation of Instagram, WhatsApp and Facebook. Some remained because they did not use the logos of those firms. Adverts mentioning Amazon and Google were also unaffected by the removal effort. Ms Warren represents Massachusetts in the US Senate and is seeking the Democratic nomination for the 2020 presidential election.\n"
     ]
    }
   ],
   "source": [
    "print(\n",
    "    get_content_bbcnews(\"https://www.bbc.com/news/technology-47538184\")\n",
    ")"
   ]
  },
  {
   "cell_type": "markdown",
   "metadata": {},
   "source": [
    "# cnn"
   ]
  },
  {
   "cell_type": "code",
   "execution_count": 58,
   "metadata": {},
   "outputs": [],
   "source": [
    "cnn_url = \"https://edition.cnn.com/2019/03/01/tech/tesla-takeaways/index.html\"\n",
    "cnn_page = get_page(cnn_url)"
   ]
  },
  {
   "cell_type": "code",
   "execution_count": 88,
   "metadata": {},
   "outputs": [
    {
     "name": "stdout",
     "output_type": "stream",
     "text": [
      "New York (CNN Business)Tesla CEO Elon Musk made some splashy announcements Thursday. But he also delivered some bad news for investors. Here's what he said: 1. Cheaper Model 3: Tesla (TSLA) is finally releasing a pared-down version of its Model 3 sedan. The price tag: $35,000. The base model will have 220 miles of range, a top speed of 130 mph and it will accelerate from 0 to 60 miles per hour in 5.6 seconds. Delivery will take two to four weeks, according to Tesla's website. It's also selling a higher performance, long range version, called the Standard Range Plus. That offers more range and faster speed, and it costs $2,000 more before incentives. \"For 6% more money, you get 9% more range, more power, and an upgraded interior,\" Tesla said in a blog post. 2. Store closures: Musk said Tesla is closing most of its stores and laying off retail workers to make it financially possible to produce the cheaper model. That means all Tesla purchases will be done online. Musk said a \"small number of stores in \"high-traffic locations\" will remain open as galleries and information centers where customers can see the cars in person and ask questions. 3. New return policy: Because of its new purchase policy, Tesla said it will make returning cars easier for customers. Buyers will have seven days or 1,000 miles during which they can return the car for a refund. While returns are the norm for most products, they're nearly unheard of for new cars which lose significant value as soon as they're driven by an owner. 4. Service improvements: At the same time, Tesla is trying to improve what has been the most-criticized part of the Tesla ownership experience: getting the cars serviced. The company is aiming for \"same-day, if not same-hour service.\" Tesla said that in most cases, the company will come to the customer to service the car, rather than have the customer come to a Tesla service center. 5. Profit warning: Musk said Tesla probably won't turn a profit for the first quarter of 2019 — but Tesla could be in the black by the second quarter. CNN Business' Peter Valdes-Dapena contributed to this report.\n"
     ]
    }
   ],
   "source": [
    "cnn_text = \" \".join([\n",
    "    el.text\n",
    "    for el in cnn_page.find(\"div[itemprop='articleBody'] [class^='zn-body__paragraph']\")\n",
    "    if el.text is not None\n",
    "])\n",
    "print(cnn_text)"
   ]
  },
  {
   "cell_type": "code",
   "execution_count": 89,
   "metadata": {},
   "outputs": [],
   "source": [
    "def get_content_cnn(url):\n",
    "    page = get_page(url)\n",
    "    return \" \".join([\n",
    "        el.text\n",
    "        for el in cnn_page.find(\"div[itemprop='articleBody'] [class^='zn-body__paragraph']\")\n",
    "        if el.text is not None\n",
    "    ])"
   ]
  },
  {
   "cell_type": "code",
   "execution_count": 90,
   "metadata": {},
   "outputs": [
    {
     "name": "stdout",
     "output_type": "stream",
     "text": [
      "New York (CNN Business)Tesla CEO Elon Musk made some splashy announcements Thursday. But he also delivered some bad news for investors. Here's what he said: 1. Cheaper Model 3: Tesla (TSLA) is finally releasing a pared-down version of its Model 3 sedan. The price tag: $35,000. The base model will have 220 miles of range, a top speed of 130 mph and it will accelerate from 0 to 60 miles per hour in 5.6 seconds. Delivery will take two to four weeks, according to Tesla's website. It's also selling a higher performance, long range version, called the Standard Range Plus. That offers more range and faster speed, and it costs $2,000 more before incentives. \"For 6% more money, you get 9% more range, more power, and an upgraded interior,\" Tesla said in a blog post. 2. Store closures: Musk said Tesla is closing most of its stores and laying off retail workers to make it financially possible to produce the cheaper model. That means all Tesla purchases will be done online. Musk said a \"small number of stores in \"high-traffic locations\" will remain open as galleries and information centers where customers can see the cars in person and ask questions. 3. New return policy: Because of its new purchase policy, Tesla said it will make returning cars easier for customers. Buyers will have seven days or 1,000 miles during which they can return the car for a refund. While returns are the norm for most products, they're nearly unheard of for new cars which lose significant value as soon as they're driven by an owner. 4. Service improvements: At the same time, Tesla is trying to improve what has been the most-criticized part of the Tesla ownership experience: getting the cars serviced. The company is aiming for \"same-day, if not same-hour service.\" Tesla said that in most cases, the company will come to the customer to service the car, rather than have the customer come to a Tesla service center. 5. Profit warning: Musk said Tesla probably won't turn a profit for the first quarter of 2019 — but Tesla could be in the black by the second quarter. CNN Business' Peter Valdes-Dapena contributed to this report.\n"
     ]
    }
   ],
   "source": [
    "print(\n",
    "    get_content_cnn(\"https://www.cnn.com/2019/02/26/tech/elon-musk-sec-tweet/index.html\")\n",
    ")"
   ]
  },
  {
   "cell_type": "markdown",
   "metadata": {},
   "source": [
    "# usa-today"
   ]
  },
  {
   "cell_type": "code",
   "execution_count": 8,
   "metadata": {},
   "outputs": [],
   "source": [
    "# api.api.get_everything(q=\"tesla\", sources=\"usa-today\")\n",
    "usatoday_url = \"https://eu.usatoday.com/story/money/cars/2019/03/15/tesla-model-y-elon-musk/3174311002/\"\n",
    "usatoday_page = get_page(usatoday_url)"
   ]
  },
  {
   "cell_type": "code",
   "execution_count": null,
   "metadata": {},
   "outputs": [],
   "source": [
    "usatoday_text = "
   ]
  },
  {
   "cell_type": "code",
   "execution_count": 15,
   "metadata": {},
   "outputs": [
    {
     "name": "stdout",
     "output_type": "stream",
     "text": [
      "The ho-hum reaction to Tesla's new electric SUV is, oddly enough, exactly what the company needs. Tesla CEO Elon Musk delivered no surprises Thursday night when he revealed the company's brand new electric SUV, the Model Y. But for a company that needs a little less pizzazz and a little more substance to make good on its promise to become a sustainable force in the auto industry, the Model Y hit the right marks. It's essentially a crossover version of the Tesla Model 3 compact car, bearing the design hallmarks of a hatchback and sharing the same architectural platform as its car sibling. That Tesla devotees weren't rewarded with sizzling new features on the Model Y illustrates that the company is getting serious about selling vehicles. After all, a compact SUV is precisely what Americans want: a driveable vehicle that puts safety first and flash second. Versions with five and seven seats will be available, with starting prices ranging from $39,000 for the base version to $60,000 for a performance model. If Musk had tried to break new technological barriers or adopt outlandish styling on the Model Y, he would have risked making the vehicle too difficult to manufacture and unappealing to conventional SUV buyers.   \"The Model Y appears to be exactly what Tesla needs it to be — and SUV version of the Model 3,\" said Mike Ramsey, an analyst at technology research firm Gartner who tracks Tesla, in an email. \"With a lower cost and better range, I expect it will be very popular.\" Musk, in fact, predicted that the Model Y will eventually outsell the Model 3, Model X SUV and Model S sedan combined. That would require sales to soar well over half a million vehicles. J.D. Power reports that Americans purchased 1.4 million SUVs in the range of $40,000 to $90,000 in 2018. The first-available model will start at $47,000 and arrive in fall 2020. You can place a refundable deposit of $2,500 to secure your place in line when the vehicle becomes available. The base model of the Model Y — the $39,000 version — won't be available until \"sometime in 2021,\" Musk said. Families can make the Model Y their primary vehicle since the battery range goes from 230 miles to 300 miles depending on the version. That stacks up well against other EVs on the market, such as the Chevrolet Bolt's 238 and the Hyundai Kona's 258. And while techies might not find the Model Y exhilarating, it will come equipped with software and sensors capable of autonomous driving, whenever it becomes legal. But buyers will have to pay for the system upgrade of $3,000 to $5,000. New Tesla features: Tesla CEO Elon Musk reveals electric SUV What it's like to buy and own a Tesla: Has this Model 3 owner's yearning been fulfilled? The biggest challenge for Tesla is convincing buyers to wait for the Model Y. Shoppers aren't accustomed to waiting a year and a half for a new ride — especially not if they need to replace their primary vehicle. But for anyone who wants to feel the Tesla buzz for the first time, it might be worth the wait. There's one big caveat, however: Tesla is famous for missing its own production goals. Is the company capable of delivering on time? \"We remain concerned about the manufacturing timeline,\" Sanford Bernstein analyst A.M. (Toni) Sacconaghi, Jr. wrote Friday. The Model 3 production ramp-up in 2017 and 2018 was very slow, causing steep losses and raising questions about Tesla's future. The company eventually figured it out, though critics have noted lingering quality challenges that caused Consumer Reports to drop its recommendation of the car. \"I really think the difficulty and value of manufacturing is underappreciated,\" Musk said Thursday. \"It's relatively easy to make a prototype and extremely difficult to mass manufacture a vehicle reliably and at scale.\" If he's absorbed those lessons the hard way, then the Model Y could stay on schedule. Dan Ives, stock analyst at Wedbush Securities, suggested that Tesla might have learned not to over promise. \"We believe Tesla is being conservative with its targets to avoid any of the well-documented production headaches it faced with the Model 3 coming out,\" Ives wrote Friday. Follow USA TODAY reporter Nathan Bomey on Twitter @NathanBomey. \n"
     ]
    }
   ],
   "source": [
    "usatoday_text = \" \".join([\n",
    "    el.text\n",
    "    for el in usatoday_page.find(\"div[class='article-wrapper'] p\")\n",
    "])\n",
    "\n",
    "print(usatoday_text)"
   ]
  },
  {
   "cell_type": "code",
   "execution_count": 23,
   "metadata": {},
   "outputs": [],
   "source": [
    "def get_content_usatoday(url):\n",
    "    page = get_page(url)\n",
    "    return \" \".join([\n",
    "        el.text\n",
    "        for el in page.find(\"article div[class='article-wrapper'] p\")\n",
    "        if el.text is not None\n",
    "    ])"
   ]
  },
  {
   "cell_type": "code",
   "execution_count": 24,
   "metadata": {},
   "outputs": [
    {
     "name": "stdout",
     "output_type": "stream",
     "text": [
      "Tesla's stock sank nearly 4 percent on Thursday after Consumer Reports said it was pulling its recommendation of the company’s Model 3 due to declining reliability. The consumer watchdog organization, which just released its 10 best cars, SUVs and pickups, said it can no longer recommend the Tesla Model 3 electric sedan after noticing substantive manufacturing defects, including \"loose body trim\" and \"glass defects,\" such as windows cracking too easily. Tesla CEO Elon Musk has argued that the company is repeatedly improving the Model 3 through manufacturing changes and software upgrades. But the company's aggressive move to accelerate the pace of production in 2018 may have caused some issues, according to Jake Fisher, senior director of auto testing for Consumer Reports. Yet \"people who have told us they have problems with the car have also told us they’re very satisfied with the car,\" Fisher said. Driving modes: 'Romance mode' puts a roaring fire inside your Tesla for Valentine’s Day and beyond Tesla competition: Tesla shares slide after Amazon invests in self-driving company, Aurora That reflects the popularity of the Tesla brand and its position as a status symbol for many buyers, he said. \"You may not be buying a Tesla Model 3 because you want the most reliable car,\" Fisher said. As a brand, Tesla ranked 19th, just behind Buick and just ahead of Ford on Consumer Report's annual list of best new vehicles. Subaru ranked first overall among 33 brands, followed by four luxury brands: Genesis, Porsche, Audi and Lexus. Tesla said in a statement that its cars are \"the safest and best performing vehicles available today.\" \"We’re setting an extremely high bar for Model 3. We have already made significant improvements to correct any issues that Model 3 customers may have experienced that are referenced in this report, and our return policy allows any customer who is unhappy with their car to return it for a full refund,\" the company said. Tesla’s stock fell 3.7 percent to $291.23, the lowest close since Jan. 23, according to Bloomberg. Follow Dalvin Brown on Twitter: @Dalvin_Brown  \n"
     ]
    }
   ],
   "source": [
    "print(\n",
    "    get_content_usatoday(\"https://eu.usatoday.com/story/money/cars/2019/02/21/tesla-stock-falls-after-model-3-loses-consumer-reports-recommendation/2944179002/\")\n",
    ")"
   ]
  },
  {
   "cell_type": "markdown",
   "metadata": {},
   "source": [
    "# business-insider"
   ]
  },
  {
   "cell_type": "code",
   "execution_count": 28,
   "metadata": {},
   "outputs": [],
   "source": [
    "#api.api.get_everything(q=\"tesla\", sources=\"business-insider\")\n",
    "bussinessinsider_url = \"https://www.businessinsider.com/tesla-has-reportedly-not-decided-where-it-will-build-the-model-y-2019-3?IR=T\"\n",
    "bussinessinsider_page = get_page(bussinessinsider_url)"
   ]
  },
  {
   "cell_type": "code",
   "execution_count": 36,
   "metadata": {},
   "outputs": [
    {
     "data": {
      "text/plain": [
       "'Tesla has not decided where it will build its Model Y crossover SUV, which it is expected to unveil March 14, CNBC reports, citing six current and former employees. Tesla executives are said to be considering two locations for Model Y production: the Gigafactory in Reno, Nevada — where the automaker makes batteries and drive units — and its vehicle assembly plant in Fremont, California. The Fremont option would reportedly involve merging the production lines for the Model S sedan and the Model X SUV. Two employees of Tesla vendors told CNBC that Tesla contacted their companies about assisting with Model Y production only after Tesla CEO Elon Musk\\'s Sunday tweet announcing the date of the Model Y unveiling. Read more: Tesla says it will unveil the Model Y this month — here\\'s everything we know about the vehicle so far Tesla declined Business Insider\\'s request for comment, but CNBC says the automaker directed it toward the carmaker\\'s fourth-quarter earnings letter from January, in which it said Model Y production would most likely occur at the Gigafactory. Tesla also said in the letter that it intended to begin volume production of the vehicle by the end of 2020. During Tesla\\'s fourth-quarter earnings call, Musk reiterated the letter\\'s prediction that Tesla would most likely produce the Model Y at the Gigafactory. \"The Model Y, we think, most likely will be produced at Gigafactory, but that\\'s — unless we encounter some obstacle — that\\'s the default plan that we\\'re proceeding towards,\" Musk said during the call. Business Insider reported in December that Tesla planned to produce 7,000 Model Ys a week at the Nevada Gigafactory, known as Gigafactory 1, by December 20, 2020, and 5,000 Model Ys a week at its coming factory in China, known as Gigafactory 3, by February 2021. A Tesla representative said at the time that documents viewed by Business Insider describing the production timeline were out of date. The Model Y will be Tesla\\'s second SUV, after the Model X. Musk has said it will share about 75% its parts with the Model 3 sedan while being about 10% larger and more expensive than the Model 3. The internal Tesla documents reviewed by Business Insider said the Model Y would have some features absent from the Model 3, like a third row of seats, an IP Riser, and a center console riser. Have a Tesla news tip? Contact this reporter at mmatousek@businessinsider.com.'"
      ]
     },
     "execution_count": 36,
     "metadata": {},
     "output_type": "execute_result"
    }
   ],
   "source": [
    "\" \".join([\n",
    "    el.text\n",
    "    for el in bussinessinsider_page.find(\"div[data-piano-inline-content-wrapper] p\")\n",
    "    if el.text is not None\n",
    "])"
   ]
  },
  {
   "cell_type": "code",
   "execution_count": 37,
   "metadata": {},
   "outputs": [],
   "source": [
    "def get_content_bussinessinsider(url):\n",
    "    page = get_page(url)\n",
    "    return \" \".join([\n",
    "        el.text\n",
    "        for el in page.find(\"div[data-piano-inline-content-wrapper] p\")\n",
    "        if el.text is not None\n",
    "    ])"
   ]
  },
  {
   "cell_type": "code",
   "execution_count": 38,
   "metadata": {},
   "outputs": [
    {
     "name": "stdout",
     "output_type": "stream",
     "text": [
      "Tesla has accused four former employees who now work at the robo-taxi startup Zoox of stealing proprietary information and trade secrets. In a lawsuit filed Wednesday in the US district court for Northern California, Tesla said the theft helped Zoox \"leapfrog past years of work needed to develop and run its own warehousing, logistics, and inventory control operations.\" Zoox did not immediately respond to a request for comment. Tesla says the employees — Craig Emigh, Christian Dement, Sydney Cooper, and Scott Turner — violated terms of their employment contracts with the electric car maker when they forwarded confidential information from work email accounts to personal addresses and hired former coworkers from Tesla. \"As a condition of their employment, all of the Individual Defendants agreed to maintain the confidentiality of Tesla's information and to avoid poaching Tesla's employees within one year of their departure,\" the lawsuit says. According to court documents, Turner forwarded internal inventory documents and other company schematics from his Tesla email to a personal address with the note \"you sly dog\" about one month before resigning. On the same day, Tesla alleges, he sent more confidential documents with the note \"ooooh man... so much time and effort. Loved every second of it though.\" Dement, a former Tesla warehouse supervisor, also forwarded documents to his personal email address, Tesla claims, with the subject line \"good stuff.\" Allegedly it was a slip up by Emigh, however, that led to Tesla learning about the activity. \"After Defendant Emigh joined Zoox, he mistakenly sent an email to Cooper's old Tesla email address, attaching a modified version of a Tesla proprietary document, freshly-emblazoned with the Zoox logo, yet still bearing the layout, design, and other vestiges of the Tesla version - showing, without doubt, that the Defendants are actively using the Tesla information they stole,\" Tesla said in the suit. The four accused employees have not responded to requests for comment from Business Insider. Tesla has sued former employees before. CEO Elon Musk in 2018 accused Martin Tripp, a self-identified whistleblower, of sabotaging the company by leaking confidential information to Business Insider. Tripp maintains he never hacked the information, and only shared it out of concern for public safety. More than 100 former Tesla employees now work for Foster City-based Zoox, according to LinkedIn. Now four years old, Zoox recently installed Intel veteran Aicha Evans as CEO after ousting its founder in August. The company, now worth $3.2 billion, has raised $790 million in venture capital to date. \"The theft here was blatant and intentional,\" Tesla said in the filing. \"In the process, they misappropriated Tesla's trade secrets, violated their agreements with Tesla, and breached their duties of loyalty, all with the knowledge and support of Zoox.\" \n"
     ]
    }
   ],
   "source": [
    "print(\n",
    "    get_content_bussinessinsider(\"https://www.businessinsider.com/tesla-sues-former-employees-zoox-alleging-theft-of-confidential-info-2019-3?IR=T\")\n",
    ")"
   ]
  },
  {
   "cell_type": "markdown",
   "metadata": {},
   "source": [
    "# the-new-york-times"
   ]
  },
  {
   "cell_type": "code",
   "execution_count": 43,
   "metadata": {},
   "outputs": [],
   "source": [
    "#api.api.get_everything(q=\"tesla\", sources=\"the-new-york-times\")\n",
    "thenewyorktimes_url = \"https://www.nytimes.com/2019/03/11/business/tesla-raising-prices.html\"\n",
    "thenewyorktimes_page = get_page(thenewyorktimes_url)"
   ]
  },
  {
   "cell_type": "code",
   "execution_count": 46,
   "metadata": {},
   "outputs": [
    {
     "name": "stdout",
     "output_type": "stream",
     "text": [
      "Just days after saying that it would close most of its stores, Tesla is making an abrupt U-turn. In a message posted on its blog just before midnight Sunday, the electric-car maker said it had decided to retain many of the locations it had shut down or was planning to close. And it said it would raise most of its vehicle prices about 3 percent worldwide, just weeks after cutting prices. “Over the past two weeks we have been closely evaluating every single Tesla retail location, and we have decided to keep significantly more stores open than previously announced as we continue to evaluate them over the course of several months,” the company said in the blog post. The price increases, it said, are necessary to make up for the loss of savings that was anticipated from the store closings. The flip-flops are the latest sign of turmoil surrounding the company and its chief executive, Elon Musk. “This reversal is bizarre and indicates a lack of actual planning in the earlier announcement,” said Mike Ramsey, a Gartner analyst. “Their retail stores still serve a real need.” Until last month, Tesla had been rushing to expand its network of showrooms and mall galleries, which display its cars but take no customer orders. On Feb. 28, Mr. Musk told reporters in a conference call that Tesla would start offering a long-awaited version of its Model 3 sedan with a starting price of $35,000. Previously, the least expensive Model 3 cost $43,000 before tax incentives. Mr. Musk said closing its stores would allow Tesla to cut costs enough to make the Model 3 profitable at the lower price. But he would not elaborate on those calculations, and he said Tesla would lose money in the first quarter, contrary to previous forecasts. As part of the cost cutting, he said, Tesla would henceforth take orders only online. Tesla affirmed the online approach in its announcement Sunday night, saying its stores would serve as a way to introduce potential buyers to Tesla vehicles, provide a test drive on request — another reversal from its earlier announcement — and show how to make a purchase. “Stores will also carry a small number of cars in inventory for customers who wish to drive away with a Tesla immediately,” it added. In a recent email to employees, Mr. Musk said 78 percent of Model 3 orders were already placed online. Buyers can get full refunds if they return cars within seven days and have driven them less than 1,000 miles. Tesla has been in retreat in recent months, scrambling to shore up flagging investor confidence. Along with layoffs of 7 percent of its work force in January, the news of store closings appeared to underline the challenges for a newcomer breaking into an old-line manufacturing industry. The company has struggled to make a few thousand cars in a week — a feat that established automakers can do in a day. Asked to elaborate on the company’s latest moves, a Tesla spokesman declined to comment. The weeks of tension have taken a toll on Tesla shares. On Monday they rose 2.4 percent, closing at $290.92, but they are down 9 percent since Mr. Musk said the company would be unprofitable in the first quarter. The twists on the marketing front have coincided with renewed upheaval surrounding Mr. Musk himself. Less than a month ago, Tesla’s general counsel quit a day after Mr. Musk said on Twitter that the company expected to sell 500,000 cars this year, an increase of 100,000 from the estimate it made public in January. The Securities and Exchange Commission contended that the tweet violated an agreement it had reached with Tesla in September to settle a securities-fraud case, and it asked a federal court to hold Mr. Musk in contempt. Under the settlement, the company was to “put in place additional controls and procedures” to oversee Mr. Musk’s communications. In a response filed with the court on Monday, Mr. Musk’s lawyers argued that there were no grounds for a contempt citation. They said that the Tesla chief “correctly used his discretion” to determine that nothing in his Twitter post was material and that “under no fair reading of the materiality standard” did the post alter the information available to investors. The response also said that a contempt citation “would raise serious First Amendment issues” and that the S.E.C.’s request represented “unprecedented overreach.” Even with its financial and regulatory challenges, the company is moving ahead on new initiatives. On Thursday, Mr. Musk is scheduled to unveil the Model Y, a sport utility vehicle that Tesla is counting on to fuel further growth. David Whiston, a Morningstar analyst, said the big question for Tesla’s business prospects was when the Model Y would be available for sale. “Thursday is just for show,” he said. And in a move meant to address its logistical challenges in delivering cars to customers, Tesla said in a filing with the S.E.C. on Monday that it had purchased trucks and car-hauling trailers from a California company in exchange for stock worth $13.8 million. In November, Mr. Musk said on Twitter that Tesla had bought “some trucking companies,” but provided no details. Mr. Musk has portrayed the Model 3 as a mass-market offering crucial to Tesla’s future. In the last three months of 2018, Tesla opened 27 sales and service locations to keep up with rising demand. Over all, the company had more than 100 stores and showrooms in the United States, and others overseas. In its announcement Sunday night, Tesla said it had already closed 10 percent of its locations. Those stores did not have “natural foot traffic,” it said, though some will reopen with a smaller staff. The company said an additional 20 percent were under review for potential closing in the coming months. The automaker also said the $35,000 version of the Model 3 would not be affected by the price increases. They will apply to the higher-end Model X and Model S — cars on which Tesla only recently had been dropping prices — as well as for more expensive versions of the Model 3. The company said customers would have a week to place orders at current prices.\n"
     ]
    }
   ],
   "source": [
    "thenewyorktimes_text = \" \".join([\n",
    "    el.text\n",
    "    for el in thenewyorktimes_page.find(\"section[name='articleBody'] p\")\n",
    "    if el.text is not None\n",
    "])\n",
    "print(thenewyorktimes_text)"
   ]
  },
  {
   "cell_type": "code",
   "execution_count": 47,
   "metadata": {},
   "outputs": [],
   "source": [
    "def get_content_thenewyorktimes(url):\n",
    "    page = get_page(url)\n",
    "    return \" \".join([\n",
    "        el.text\n",
    "        for el in thenewyorktimes_page.find(\"section[name='articleBody'] p\")\n",
    "        if el.text is not None\n",
    "    ])"
   ]
  },
  {
   "cell_type": "code",
   "execution_count": 48,
   "metadata": {},
   "outputs": [
    {
     "name": "stdout",
     "output_type": "stream",
     "text": [
      "Just days after saying that it would close most of its stores, Tesla is making an abrupt U-turn. In a message posted on its blog just before midnight Sunday, the electric-car maker said it had decided to retain many of the locations it had shut down or was planning to close. And it said it would raise most of its vehicle prices about 3 percent worldwide, just weeks after cutting prices. “Over the past two weeks we have been closely evaluating every single Tesla retail location, and we have decided to keep significantly more stores open than previously announced as we continue to evaluate them over the course of several months,” the company said in the blog post. The price increases, it said, are necessary to make up for the loss of savings that was anticipated from the store closings. The flip-flops are the latest sign of turmoil surrounding the company and its chief executive, Elon Musk. “This reversal is bizarre and indicates a lack of actual planning in the earlier announcement,” said Mike Ramsey, a Gartner analyst. “Their retail stores still serve a real need.” Until last month, Tesla had been rushing to expand its network of showrooms and mall galleries, which display its cars but take no customer orders. On Feb. 28, Mr. Musk told reporters in a conference call that Tesla would start offering a long-awaited version of its Model 3 sedan with a starting price of $35,000. Previously, the least expensive Model 3 cost $43,000 before tax incentives. Mr. Musk said closing its stores would allow Tesla to cut costs enough to make the Model 3 profitable at the lower price. But he would not elaborate on those calculations, and he said Tesla would lose money in the first quarter, contrary to previous forecasts. As part of the cost cutting, he said, Tesla would henceforth take orders only online. Tesla affirmed the online approach in its announcement Sunday night, saying its stores would serve as a way to introduce potential buyers to Tesla vehicles, provide a test drive on request — another reversal from its earlier announcement — and show how to make a purchase. “Stores will also carry a small number of cars in inventory for customers who wish to drive away with a Tesla immediately,” it added. In a recent email to employees, Mr. Musk said 78 percent of Model 3 orders were already placed online. Buyers can get full refunds if they return cars within seven days and have driven them less than 1,000 miles. Tesla has been in retreat in recent months, scrambling to shore up flagging investor confidence. Along with layoffs of 7 percent of its work force in January, the news of store closings appeared to underline the challenges for a newcomer breaking into an old-line manufacturing industry. The company has struggled to make a few thousand cars in a week — a feat that established automakers can do in a day. Asked to elaborate on the company’s latest moves, a Tesla spokesman declined to comment. The weeks of tension have taken a toll on Tesla shares. On Monday they rose 2.4 percent, closing at $290.92, but they are down 9 percent since Mr. Musk said the company would be unprofitable in the first quarter. The twists on the marketing front have coincided with renewed upheaval surrounding Mr. Musk himself. Less than a month ago, Tesla’s general counsel quit a day after Mr. Musk said on Twitter that the company expected to sell 500,000 cars this year, an increase of 100,000 from the estimate it made public in January. The Securities and Exchange Commission contended that the tweet violated an agreement it had reached with Tesla in September to settle a securities-fraud case, and it asked a federal court to hold Mr. Musk in contempt. Under the settlement, the company was to “put in place additional controls and procedures” to oversee Mr. Musk’s communications. In a response filed with the court on Monday, Mr. Musk’s lawyers argued that there were no grounds for a contempt citation. They said that the Tesla chief “correctly used his discretion” to determine that nothing in his Twitter post was material and that “under no fair reading of the materiality standard” did the post alter the information available to investors. The response also said that a contempt citation “would raise serious First Amendment issues” and that the S.E.C.’s request represented “unprecedented overreach.” Even with its financial and regulatory challenges, the company is moving ahead on new initiatives. On Thursday, Mr. Musk is scheduled to unveil the Model Y, a sport utility vehicle that Tesla is counting on to fuel further growth. David Whiston, a Morningstar analyst, said the big question for Tesla’s business prospects was when the Model Y would be available for sale. “Thursday is just for show,” he said. And in a move meant to address its logistical challenges in delivering cars to customers, Tesla said in a filing with the S.E.C. on Monday that it had purchased trucks and car-hauling trailers from a California company in exchange for stock worth $13.8 million. In November, Mr. Musk said on Twitter that Tesla had bought “some trucking companies,” but provided no details. Mr. Musk has portrayed the Model 3 as a mass-market offering crucial to Tesla’s future. In the last three months of 2018, Tesla opened 27 sales and service locations to keep up with rising demand. Over all, the company had more than 100 stores and showrooms in the United States, and others overseas. In its announcement Sunday night, Tesla said it had already closed 10 percent of its locations. Those stores did not have “natural foot traffic,” it said, though some will reopen with a smaller staff. The company said an additional 20 percent were under review for potential closing in the coming months. The automaker also said the $35,000 version of the Model 3 would not be affected by the price increases. They will apply to the higher-end Model X and Model S — cars on which Tesla only recently had been dropping prices — as well as for more expensive versions of the Model 3. The company said customers would have a week to place orders at current prices.\n"
     ]
    }
   ],
   "source": [
    "print(\n",
    "    get_content_thenewyorktimes(\"https://www.nytimes.com/2019/03/15/business/tesla-model-y.html\")\n",
    ")"
   ]
  },
  {
   "cell_type": "markdown",
   "metadata": {},
   "source": [
    "# fox-news"
   ]
  },
  {
   "cell_type": "code",
   "execution_count": 3,
   "metadata": {},
   "outputs": [],
   "source": [
    "# api.api.get_everything(q=\"tesla\", sources=\"fox-news\")\n",
    "foxnews_url = \"https://www.foxnews.com/auto/driver-killed-in-fiery-tesla-accident-in-florida-after-crashing-into-trees\"\n",
    "foxnews_page = get_page(foxnews_url)"
   ]
  },
  {
   "cell_type": "code",
   "execution_count": 23,
   "metadata": {},
   "outputs": [
    {
     "name": "stdout",
     "output_type": "stream",
     "text": [
      "None\n",
      "None\n",
      "None\n",
      "<Element 'strong' >\n",
      "None\n",
      "None\n",
      "None\n",
      "None\n",
      "None\n",
      "None\n"
     ]
    }
   ],
   "source": [
    "for el in foxnews_page.find(\"div[class='article-body'] p\"):\n",
    "    print(el.find(\"strong\", first=True))"
   ]
  },
  {
   "cell_type": "code",
   "execution_count": 22,
   "metadata": {},
   "outputs": [
    {
     "data": {
      "text/plain": [
       "'A Tesla Model S caught fire during a fatal crash in Davie, Fla., on Sunday and reignited several times in the tow yard that police sent it to later in the day. Omar Awan was killed after his car lost control and drove into a row of palm trees on Flamingo Road in Davie as it was traveling at speeds between 75 and 90 mph, according to police. The Associated Press reported that an emergency responder tried to break a window to extract Awan from the burning car, but was unsuccessful. A self-proclaimed witness to the event told WPLG news that the doors couldn’t be opened and that the driver was trapped by the airbags, but her account has yet to be corroborated by officials. Fire crews were then called to the tow yard three times overnight as the battery pack reignited, which is a frequent occurrence in the aftermath of electric car fires. “We have a problem where the car keeps catching fire because the battery pack itself hasn’t drained yet,” Davie Fire Rescue Battalion Chief Robert Diferdinando told the Sun-Sentinel. Diferdinando said that the department was working with Tesla to address the issue, and borrowing a special extinguisher from another agency designed to handle this type of fire. Tesla issued a statement to media outlets that said: \"We are deeply saddened by this accident and our thoughts are with everyone affected by this tragedy. We have reached out to the local authorities to offer our cooperation. We understand that speed is being investigated as a factor in this crash, and know that high-speed collisions can result in a fire in any type of car, not just\\xa0electric vehicles.\" An investigation into the incident is ongoing.'"
      ]
     },
     "execution_count": 22,
     "metadata": {},
     "output_type": "execute_result"
    }
   ],
   "source": [
    "\" \".join([el.text\n",
    "for el in foxnews_page.find(\"div[class='article-body'] p\")\n",
    "if el.text is not None and el.find(\"strong\") == list()])"
   ]
  },
  {
   "cell_type": "code",
   "execution_count": 29,
   "metadata": {},
   "outputs": [],
   "source": [
    "def get_content_foxnews(url):\n",
    "    page = get_page(url)\n",
    "    return \" \".join([el.text\n",
    "        for el in page.find(\"div[class='article-body'] > p\")\n",
    "        if el.text is not None and el.find(\"strong\", first=True) is None # Pomijamy nagłówki innych artykułów wplecione w tekst -- są one pogrubiane\n",
    "    ])"
   ]
  },
  {
   "cell_type": "code",
   "execution_count": 30,
   "metadata": {},
   "outputs": [
    {
     "name": "stdout",
     "output_type": "stream",
     "text": [
      "Less than two weeks after announcing a 6 percent price drop across its lineup facilitated by a switch to online sales and the closure of many of its retail locations, Tesla is raising prices again and keeping the lights on in more of the stores than expected. The automaker said on Sunday that prices will rise by an average of 3 percent, except for on the recently launched $35,000 Model 3, which will not be changed. The new prices go into effect on March 18. The move comes after an evaluation that led the company to decide to shutter less than half of the brick and mortar outlets worldwide than planned. However, 20 percent of the stores remain under review and could be closed in the coming months. Tesla also said that, despite the switch to online ordering and sales, several of the outlets will keep a supply of vehicles on hand for immediate delivery. Following the initial price adjustment, which ran into the tens of thousands of dollars on some models, a number of current Tesla owners voiced their concerns that the change would reduce the resale value of their vehicles. Tesla has scheduled the reveal of its next vehicle, the Model Y, on March 14. The small SUV is expected to go on sale in late 2020.\n"
     ]
    }
   ],
   "source": [
    "print(\n",
    "    get_content_foxnews(\"https://www.foxnews.com/auto/tesla-backtracks-on-price-drop-will-raise-prices-on-most-models-again\")\n",
    ")"
   ]
  },
  {
   "cell_type": "markdown",
   "metadata": {},
   "source": [
    "# ..."
   ]
  },
  {
   "cell_type": "code",
   "execution_count": 44,
   "metadata": {},
   "outputs": [],
   "source": [
    "api.api.get_everything(q=\"tesla\", sources=\"\")\n",
    "# url = \n",
    "# page = get_page(techradar_url)"
   ]
  },
  {
   "cell_type": "code",
   "execution_count": null,
   "metadata": {},
   "outputs": [],
   "source": [
    "for el in page.find(\"div[id='article-body'] p\"):\n",
    "    print(el.text)"
   ]
  }
 ],
 "metadata": {
  "kernelspec": {
   "display_name": "Python 3",
   "language": "python",
   "name": "python3"
  },
  "language_info": {
   "codemirror_mode": {
    "name": "ipython",
    "version": 3
   },
   "file_extension": ".py",
   "mimetype": "text/x-python",
   "name": "python",
   "nbconvert_exporter": "python",
   "pygments_lexer": "ipython3",
   "version": "3.6.8+"
  }
 },
 "nbformat": 4,
 "nbformat_minor": 2
}
